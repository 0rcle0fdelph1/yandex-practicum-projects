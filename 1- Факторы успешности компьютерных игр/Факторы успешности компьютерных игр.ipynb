{
 "cells": [
  {
   "cell_type": "markdown",
   "id": "38691190",
   "metadata": {},
   "source": [
    "# Сборный проект - 1\n",
    "## Факторы успешности компьютерных игр"
   ]
  },
  {
   "cell_type": "markdown",
   "id": "ee21cfb0",
   "metadata": {},
   "source": [
    "Интернет-магазин «Стримчик», продаёт по всему миру компьютерные игры. Из открытых источников доступны исторические данные о\n",
    "продажах игр, оценки пользователей и экспертов, жанры и платформы (например, Xbox или PlayStation). \n",
    "\n",
    "**Задача исследования:**\n",
    "\n",
    "Выявить определяющие успешность игры закономерности. Это позволит сделать ставку на потенциально популярный продукт и спланировать рекламные кампании.\n",
    "\n",
    "**Информация о таблице:**\n",
    "\n",
    "В таблице представлены данные до 2016 года. Данные за 2016 год могут быть неполными. Столбцы таблицы:\n",
    " \n",
    "    Name — название игры\n",
    "    Platform — платформа\n",
    "    Year_of_Release — год выпуска\n",
    "    Genre — жанр игры\n",
    "    NA_sales — продажи в Северной Америке (миллионы проданных копий)\n",
    "    EU_sales — продажи в Европе (миллионы проданных копий)\n",
    "    JP_sales — продажи в Японии (миллионы проданных копий)\n",
    "    Other_sales — продажи в других странах (миллионы проданных копий)\n",
    "    Critic_Score — оценка критиков (максимум 100)\n",
    "    User_Score — оценка пользователей (максимум 10)\n",
    "    Rating — рейтинг от организации ESRB (англ. Entertainment Software Rating Board). Эта ассоциация определяет рейтинг компьютерных игр и присваивает им подходящую возрастную категорию."
   ]
  },
  {
   "cell_type": "markdown",
   "id": "ca524245",
   "metadata": {},
   "source": [
    "## Изучение общей информации"
   ]
  },
  {
   "cell_type": "markdown",
   "id": "ea8b2014",
   "metadata": {},
   "source": [
    "Импотрируем все необходимые для будущей работы библиотеки и датасет с данными."
   ]
  },
  {
   "cell_type": "code",
   "execution_count": 2,
   "id": "12618203",
   "metadata": {},
   "outputs": [],
   "source": [
    "import os\n",
    "import pandas as pd\n",
    "import numpy as np\n",
    "import seaborn as sns\n",
    "from scipy import stats as st\n",
    "import matplotlib.pyplot as plt\n",
    "\n",
    "import warnings\n",
    "warnings.filterwarnings('ignore')"
   ]
  },
  {
   "cell_type": "markdown",
   "id": "d5d5e65a",
   "metadata": {},
   "source": [
    "Получим первичную информацию по таблице."
   ]
  },
  {
   "cell_type": "code",
   "execution_count": 3,
   "id": "9dd32b0c",
   "metadata": {},
   "outputs": [
    {
     "name": "stdout",
     "output_type": "stream",
     "text": [
      "Index(['Name', 'Platform', 'Year_of_Release', 'Genre', 'NA_sales', 'EU_sales',\n",
      "       'JP_sales', 'Other_sales', 'Critic_Score', 'User_Score', 'Rating'],\n",
      "      dtype='object')\n"
     ]
    },
    {
     "data": {
      "text/html": [
       "<div>\n",
       "<style scoped>\n",
       "    .dataframe tbody tr th:only-of-type {\n",
       "        vertical-align: middle;\n",
       "    }\n",
       "\n",
       "    .dataframe tbody tr th {\n",
       "        vertical-align: top;\n",
       "    }\n",
       "\n",
       "    .dataframe thead th {\n",
       "        text-align: right;\n",
       "    }\n",
       "</style>\n",
       "<table border=\"1\" class=\"dataframe\">\n",
       "  <thead>\n",
       "    <tr style=\"text-align: right;\">\n",
       "      <th></th>\n",
       "      <th>Name</th>\n",
       "      <th>Platform</th>\n",
       "      <th>Year_of_Release</th>\n",
       "      <th>Genre</th>\n",
       "      <th>NA_sales</th>\n",
       "      <th>EU_sales</th>\n",
       "      <th>JP_sales</th>\n",
       "      <th>Other_sales</th>\n",
       "      <th>Critic_Score</th>\n",
       "      <th>User_Score</th>\n",
       "      <th>Rating</th>\n",
       "    </tr>\n",
       "  </thead>\n",
       "  <tbody>\n",
       "    <tr>\n",
       "      <th>9146</th>\n",
       "      <td>The Granstream Saga</td>\n",
       "      <td>PS</td>\n",
       "      <td>1997.0</td>\n",
       "      <td>Role-Playing</td>\n",
       "      <td>0.08</td>\n",
       "      <td>0.05</td>\n",
       "      <td>0.00</td>\n",
       "      <td>0.01</td>\n",
       "      <td>NaN</td>\n",
       "      <td>NaN</td>\n",
       "      <td>NaN</td>\n",
       "    </tr>\n",
       "    <tr>\n",
       "      <th>14814</th>\n",
       "      <td>Kaizoku Sentai Gokaiger: Atsumete Henshin! 35 ...</td>\n",
       "      <td>DS</td>\n",
       "      <td>2011.0</td>\n",
       "      <td>Action</td>\n",
       "      <td>0.00</td>\n",
       "      <td>0.00</td>\n",
       "      <td>0.03</td>\n",
       "      <td>0.00</td>\n",
       "      <td>NaN</td>\n",
       "      <td>NaN</td>\n",
       "      <td>NaN</td>\n",
       "    </tr>\n",
       "    <tr>\n",
       "      <th>8993</th>\n",
       "      <td>CSI: 3 Dimensions of Murder</td>\n",
       "      <td>PS2</td>\n",
       "      <td>2007.0</td>\n",
       "      <td>Adventure</td>\n",
       "      <td>0.07</td>\n",
       "      <td>0.06</td>\n",
       "      <td>0.00</td>\n",
       "      <td>0.02</td>\n",
       "      <td>NaN</td>\n",
       "      <td>tbd</td>\n",
       "      <td>M</td>\n",
       "    </tr>\n",
       "    <tr>\n",
       "      <th>10692</th>\n",
       "      <td>Harvey Birdman: Attorney at Law</td>\n",
       "      <td>PSP</td>\n",
       "      <td>2008.0</td>\n",
       "      <td>Adventure</td>\n",
       "      <td>0.09</td>\n",
       "      <td>0.00</td>\n",
       "      <td>0.00</td>\n",
       "      <td>0.01</td>\n",
       "      <td>62.0</td>\n",
       "      <td>8</td>\n",
       "      <td>T</td>\n",
       "    </tr>\n",
       "    <tr>\n",
       "      <th>15270</th>\n",
       "      <td>Let's Play Flight Attendant</td>\n",
       "      <td>DS</td>\n",
       "      <td>2010.0</td>\n",
       "      <td>Simulation</td>\n",
       "      <td>0.02</td>\n",
       "      <td>0.00</td>\n",
       "      <td>0.00</td>\n",
       "      <td>0.00</td>\n",
       "      <td>NaN</td>\n",
       "      <td>tbd</td>\n",
       "      <td>E</td>\n",
       "    </tr>\n",
       "    <tr>\n",
       "      <th>9863</th>\n",
       "      <td>Overlord: Raising Hell</td>\n",
       "      <td>PS3</td>\n",
       "      <td>2008.0</td>\n",
       "      <td>Action</td>\n",
       "      <td>0.07</td>\n",
       "      <td>0.03</td>\n",
       "      <td>0.00</td>\n",
       "      <td>0.02</td>\n",
       "      <td>72.0</td>\n",
       "      <td>7.7</td>\n",
       "      <td>T</td>\n",
       "    </tr>\n",
       "    <tr>\n",
       "      <th>15704</th>\n",
       "      <td>Writing and Speaking Beautiful Japanese DS</td>\n",
       "      <td>DS</td>\n",
       "      <td>NaN</td>\n",
       "      <td>Misc</td>\n",
       "      <td>0.00</td>\n",
       "      <td>0.00</td>\n",
       "      <td>0.02</td>\n",
       "      <td>0.00</td>\n",
       "      <td>NaN</td>\n",
       "      <td>NaN</td>\n",
       "      <td>NaN</td>\n",
       "    </tr>\n",
       "    <tr>\n",
       "      <th>7914</th>\n",
       "      <td>DanceDanceRevolution</td>\n",
       "      <td>PS3</td>\n",
       "      <td>2010.0</td>\n",
       "      <td>Simulation</td>\n",
       "      <td>0.12</td>\n",
       "      <td>0.05</td>\n",
       "      <td>0.00</td>\n",
       "      <td>0.02</td>\n",
       "      <td>60.0</td>\n",
       "      <td>tbd</td>\n",
       "      <td>E10+</td>\n",
       "    </tr>\n",
       "    <tr>\n",
       "      <th>15075</th>\n",
       "      <td>Colin McRae Rally 2.0</td>\n",
       "      <td>GBA</td>\n",
       "      <td>2002.0</td>\n",
       "      <td>Racing</td>\n",
       "      <td>0.02</td>\n",
       "      <td>0.01</td>\n",
       "      <td>0.00</td>\n",
       "      <td>0.00</td>\n",
       "      <td>80.0</td>\n",
       "      <td>tbd</td>\n",
       "      <td>E</td>\n",
       "    </tr>\n",
       "    <tr>\n",
       "      <th>5585</th>\n",
       "      <td>Harvest Moon: Back to Nature</td>\n",
       "      <td>PS</td>\n",
       "      <td>1999.0</td>\n",
       "      <td>Simulation</td>\n",
       "      <td>0.11</td>\n",
       "      <td>0.07</td>\n",
       "      <td>0.12</td>\n",
       "      <td>0.02</td>\n",
       "      <td>82.0</td>\n",
       "      <td>9.3</td>\n",
       "      <td>E</td>\n",
       "    </tr>\n",
       "  </tbody>\n",
       "</table>\n",
       "</div>"
      ],
      "text/plain": [
       "                                                    Name Platform  \\\n",
       "9146                                 The Granstream Saga       PS   \n",
       "14814  Kaizoku Sentai Gokaiger: Atsumete Henshin! 35 ...       DS   \n",
       "8993                         CSI: 3 Dimensions of Murder      PS2   \n",
       "10692                    Harvey Birdman: Attorney at Law      PSP   \n",
       "15270                        Let's Play Flight Attendant       DS   \n",
       "9863                              Overlord: Raising Hell      PS3   \n",
       "15704         Writing and Speaking Beautiful Japanese DS       DS   \n",
       "7914                                DanceDanceRevolution      PS3   \n",
       "15075                              Colin McRae Rally 2.0      GBA   \n",
       "5585                        Harvest Moon: Back to Nature       PS   \n",
       "\n",
       "       Year_of_Release         Genre  NA_sales  EU_sales  JP_sales  \\\n",
       "9146            1997.0  Role-Playing      0.08      0.05      0.00   \n",
       "14814           2011.0        Action      0.00      0.00      0.03   \n",
       "8993            2007.0     Adventure      0.07      0.06      0.00   \n",
       "10692           2008.0     Adventure      0.09      0.00      0.00   \n",
       "15270           2010.0    Simulation      0.02      0.00      0.00   \n",
       "9863            2008.0        Action      0.07      0.03      0.00   \n",
       "15704              NaN          Misc      0.00      0.00      0.02   \n",
       "7914            2010.0    Simulation      0.12      0.05      0.00   \n",
       "15075           2002.0        Racing      0.02      0.01      0.00   \n",
       "5585            1999.0    Simulation      0.11      0.07      0.12   \n",
       "\n",
       "       Other_sales  Critic_Score User_Score Rating  \n",
       "9146          0.01           NaN        NaN    NaN  \n",
       "14814         0.00           NaN        NaN    NaN  \n",
       "8993          0.02           NaN        tbd      M  \n",
       "10692         0.01          62.0          8      T  \n",
       "15270         0.00           NaN        tbd      E  \n",
       "9863          0.02          72.0        7.7      T  \n",
       "15704         0.00           NaN        NaN    NaN  \n",
       "7914          0.02          60.0        tbd   E10+  \n",
       "15075         0.00          80.0        tbd      E  \n",
       "5585          0.02          82.0        9.3      E  "
      ]
     },
     "metadata": {},
     "output_type": "display_data"
    },
    {
     "name": "stdout",
     "output_type": "stream",
     "text": [
      "<class 'pandas.core.frame.DataFrame'>\n",
      "RangeIndex: 16715 entries, 0 to 16714\n",
      "Data columns (total 11 columns):\n",
      " #   Column           Non-Null Count  Dtype  \n",
      "---  ------           --------------  -----  \n",
      " 0   Name             16713 non-null  object \n",
      " 1   Platform         16715 non-null  object \n",
      " 2   Year_of_Release  16446 non-null  float64\n",
      " 3   Genre            16713 non-null  object \n",
      " 4   NA_sales         16715 non-null  float64\n",
      " 5   EU_sales         16715 non-null  float64\n",
      " 6   JP_sales         16715 non-null  float64\n",
      " 7   Other_sales      16715 non-null  float64\n",
      " 8   Critic_Score     8137 non-null   float64\n",
      " 9   User_Score       10014 non-null  object \n",
      " 10  Rating           9949 non-null   object \n",
      "dtypes: float64(6), object(5)\n",
      "memory usage: 5.6 MB\n",
      "None\n"
     ]
    }
   ],
   "source": [
    "if os.path.exists('games.csv'):\n",
    "    data = pd.read_csv('games.csv')\n",
    "else:\n",
    "    data = pd.read_csv('/datasets/games.csv')\n",
    "\n",
    "print(data.columns)\n",
    "display(data.sample(10))\n",
    "print(data.info(memory_usage = 'deep'))"
   ]
  },
  {
   "cell_type": "markdown",
   "id": "406e2c51",
   "metadata": {},
   "source": [
    "### Выводы"
   ]
  },
  {
   "cell_type": "markdown",
   "id": "c17b5c57",
   "metadata": {},
   "source": [
    "1. В таблице представлены данные следующих типов: float64(6), object(5). При этом они недостаточно хорошо оптимизированы и требуют дальнейшего изменения:\n",
    "- `Year_of_Release` (float64) - необходимо изменить на datetime\n",
    "- `User_Score` (object) - необходимо изменить на float\n",
    "\n",
    "2. Есть пропущенные значения в столбцах `Name`, `Year_of_Release`, `Genre`, `Critic_Score`, `User_Score`, `Rating`: \n",
    "- В столбцах `Name` и `Genre` у нас всего 2 пропущенных значения из 16715, предлагаю просто удалить эти строки.\n",
    "- В столбцах `Critic_Score`, `User_Score` предлагаю оставить пропущенные значения, т.к. это субъективный критерий и мы не сможем установить объективную корреляцию с другими столбцами, заполнение по медиане даст искажения.\n",
    "- `Year_of_Release` - необходимо посчитать процент пропущенных значений и, если он критически мал - удалить их.\n",
    "- В столбце `User_Score` есть значения tbd. Аббревиатура означает to be determined (нуждается в уточнении). Необходимо понять, сколько таких значений, и как их обработать, чтобы мы могли поменять тип значений в столбцах.\n",
    "\n",
    "3. В столбцах `NA_sales`, `EU_sales`, `JP_sales` и `Other_sales` - есть нулевые значения, т.к. значения исчисляются в миллионах. Эти значения отрабатывать не будем. Когда будем считать общую выручку, возможно, они исчезнут.\n",
    "\n",
    "4. Названия столбцов используют разный регистр - необходимо привести к нижнему."
   ]
  },
  {
   "cell_type": "markdown",
   "id": "bd881e76",
   "metadata": {},
   "source": [
    "## Подготовка данных"
   ]
  },
  {
   "cell_type": "markdown",
   "id": "66a425ea",
   "metadata": {},
   "source": [
    "### Форматирование таблицы"
   ]
  },
  {
   "cell_type": "markdown",
   "id": "bbd27978",
   "metadata": {},
   "source": [
    "Приведём все заголовки таблицы к нижнему регистру."
   ]
  },
  {
   "cell_type": "code",
   "execution_count": 4,
   "id": "96c1bac3",
   "metadata": {},
   "outputs": [
    {
     "data": {
      "text/plain": [
       "Index(['name', 'platform', 'year_of_release', 'genre', 'na_sales', 'eu_sales',\n",
       "       'jp_sales', 'other_sales', 'critic_score', 'user_score', 'rating'],\n",
       "      dtype='object')"
      ]
     },
     "execution_count": 4,
     "metadata": {},
     "output_type": "execute_result"
    }
   ],
   "source": [
    "data.columns = data.columns.str.lower()\n",
    "\n",
    "data.columns"
   ]
  },
  {
   "cell_type": "markdown",
   "id": "4d2a740f",
   "metadata": {},
   "source": [
    "### Пропущенные значения"
   ]
  },
  {
   "cell_type": "markdown",
   "id": "e9f7f205",
   "metadata": {},
   "source": [
    "Удалим пропущенные значения в столбцах `Name` и `Genre`."
   ]
  },
  {
   "cell_type": "code",
   "execution_count": 5,
   "id": "05269838",
   "metadata": {},
   "outputs": [
    {
     "name": "stdout",
     "output_type": "stream",
     "text": [
      "<class 'pandas.core.frame.DataFrame'>\n",
      "RangeIndex: 16713 entries, 0 to 16712\n",
      "Data columns (total 11 columns):\n",
      "name               16713 non-null object\n",
      "platform           16713 non-null object\n",
      "year_of_release    16444 non-null float64\n",
      "genre              16713 non-null object\n",
      "na_sales           16713 non-null float64\n",
      "eu_sales           16713 non-null float64\n",
      "jp_sales           16713 non-null float64\n",
      "other_sales        16713 non-null float64\n",
      "critic_score       8137 non-null float64\n",
      "user_score         10014 non-null object\n",
      "rating             9949 non-null object\n",
      "dtypes: float64(6), object(5)\n",
      "memory usage: 1.4+ MB\n"
     ]
    }
   ],
   "source": [
    "data.dropna(subset = ['name', 'genre'], inplace=True)\n",
    "data.reset_index(drop=True, inplace=True)\n",
    "\n",
    "data.info()"
   ]
  },
  {
   "cell_type": "markdown",
   "id": "aca58332",
   "metadata": {},
   "source": [
    "Посчитаем количество значений tbd в столбце `user_score`."
   ]
  },
  {
   "cell_type": "code",
   "execution_count": 6,
   "id": "efcaa93f",
   "metadata": {},
   "outputs": [
    {
     "name": "stdout",
     "output_type": "stream",
     "text": [
      "Количество значений с аббревиатурой tbd: (2424, 11)\n"
     ]
    }
   ],
   "source": [
    "print('Количество значений с аббревиатурой tbd:', data.query('user_score == \"tbd\"').shape)"
   ]
  },
  {
   "cell_type": "markdown",
   "id": "d7e3ff60",
   "metadata": {},
   "source": [
    "Количество значений tbd является довольно существенным, и его нельзя просто выбросить. Заменим значения на NaN, чтобы в дальнейшем иметь доступ к остальным значениям строк."
   ]
  },
  {
   "cell_type": "code",
   "execution_count": 7,
   "id": "b36a023b",
   "metadata": {},
   "outputs": [
    {
     "name": "stdout",
     "output_type": "stream",
     "text": [
      "Количество значений с аббревиатурой tbd: (0, 11)\n",
      "\n",
      "<class 'pandas.core.frame.DataFrame'>\n",
      "RangeIndex: 16713 entries, 0 to 16712\n",
      "Data columns (total 11 columns):\n",
      "name               16713 non-null object\n",
      "platform           16713 non-null object\n",
      "year_of_release    16444 non-null float64\n",
      "genre              16713 non-null object\n",
      "na_sales           16713 non-null float64\n",
      "eu_sales           16713 non-null float64\n",
      "jp_sales           16713 non-null float64\n",
      "other_sales        16713 non-null float64\n",
      "critic_score       8137 non-null float64\n",
      "user_score         7590 non-null object\n",
      "rating             9949 non-null object\n",
      "dtypes: float64(6), object(5)\n",
      "memory usage: 1.4+ MB\n"
     ]
    }
   ],
   "source": [
    "data.loc[data['user_score'] == 'tbd', 'user_score'] = float('nan')\n",
    "\n",
    "print('Количество значений с аббревиатурой tbd:', data.query('user_score == \"tbd\"').shape)\n",
    "print()\n",
    "data.info()"
   ]
  },
  {
   "cell_type": "markdown",
   "id": "bd4703ca",
   "metadata": {},
   "source": [
    "Посчитаем количество пропущенных значений в столбце `year_of_release`."
   ]
  },
  {
   "cell_type": "code",
   "execution_count": 8,
   "id": "4c25bbb9",
   "metadata": {},
   "outputs": [
    {
     "name": "stdout",
     "output_type": "stream",
     "text": [
      "% пропущенных значений year_of_release:  1.6%\n"
     ]
    }
   ],
   "source": [
    "print(f\"% пропущенных значений year_of_release: {data['year_of_release'].isna().sum() / data['year_of_release'].count(): .1%}\")"
   ]
  },
  {
   "cell_type": "markdown",
   "id": "30225584",
   "metadata": {},
   "source": [
    "Видим, что таких значений - 1.6%, поэтому мы можем их удалить."
   ]
  },
  {
   "cell_type": "code",
   "execution_count": 9,
   "id": "306bab61",
   "metadata": {},
   "outputs": [
    {
     "name": "stdout",
     "output_type": "stream",
     "text": [
      "<class 'pandas.core.frame.DataFrame'>\n",
      "RangeIndex: 16444 entries, 0 to 16443\n",
      "Data columns (total 11 columns):\n",
      "name               16444 non-null object\n",
      "platform           16444 non-null object\n",
      "year_of_release    16444 non-null float64\n",
      "genre              16444 non-null object\n",
      "na_sales           16444 non-null float64\n",
      "eu_sales           16444 non-null float64\n",
      "jp_sales           16444 non-null float64\n",
      "other_sales        16444 non-null float64\n",
      "critic_score       7983 non-null float64\n",
      "user_score         7463 non-null object\n",
      "rating             9768 non-null object\n",
      "dtypes: float64(6), object(5)\n",
      "memory usage: 1.4+ MB\n"
     ]
    }
   ],
   "source": [
    "data.dropna(subset=['year_of_release'], inplace=True)\n",
    "data.reset_index(drop=True, inplace=True)\n",
    "\n",
    "data.info()"
   ]
  },
  {
   "cell_type": "markdown",
   "id": "83c8a5f6",
   "metadata": {},
   "source": [
    "### Формат значений"
   ]
  },
  {
   "cell_type": "markdown",
   "id": "89ca927d",
   "metadata": {},
   "source": [
    "После всех проведённых манипуляций с данными, заменим формат значений на оптимальный"
   ]
  },
  {
   "cell_type": "code",
   "execution_count": 10,
   "id": "86694d61",
   "metadata": {},
   "outputs": [],
   "source": [
    "data['year_of_release'] = pd.to_datetime(data['year_of_release'], format=\"%Y\")\n",
    "data['year_of_release'] = pd.DatetimeIndex(data['year_of_release']).year\n",
    "data['user_score'] = data['user_score'].astype('float')"
   ]
  },
  {
   "cell_type": "markdown",
   "id": "d9e4bf5b",
   "metadata": {},
   "source": [
    "### Считаем общую выручку"
   ]
  },
  {
   "cell_type": "markdown",
   "id": "ffc2b74b",
   "metadata": {},
   "source": [
    "Добавим новый столбец в датафрейм с суммарной выручкой по регионам. Проверим корректность проведённых расчётов."
   ]
  },
  {
   "cell_type": "code",
   "execution_count": 11,
   "id": "19f5850d",
   "metadata": {},
   "outputs": [],
   "source": [
    "data['total_income'] = data['na_sales'] + data['eu_sales'] + data['jp_sales'] + data['other_sales']"
   ]
  },
  {
   "cell_type": "code",
   "execution_count": 12,
   "id": "0a9a1e41",
   "metadata": {
    "scrolled": false
   },
   "outputs": [
    {
     "data": {
      "text/html": [
       "<div>\n",
       "<style scoped>\n",
       "    .dataframe tbody tr th:only-of-type {\n",
       "        vertical-align: middle;\n",
       "    }\n",
       "\n",
       "    .dataframe tbody tr th {\n",
       "        vertical-align: top;\n",
       "    }\n",
       "\n",
       "    .dataframe thead th {\n",
       "        text-align: right;\n",
       "    }\n",
       "</style>\n",
       "<table border=\"1\" class=\"dataframe\">\n",
       "  <thead>\n",
       "    <tr style=\"text-align: right;\">\n",
       "      <th></th>\n",
       "      <th>name</th>\n",
       "      <th>platform</th>\n",
       "      <th>year_of_release</th>\n",
       "      <th>genre</th>\n",
       "      <th>na_sales</th>\n",
       "      <th>eu_sales</th>\n",
       "      <th>jp_sales</th>\n",
       "      <th>other_sales</th>\n",
       "      <th>critic_score</th>\n",
       "      <th>user_score</th>\n",
       "      <th>rating</th>\n",
       "      <th>total_income</th>\n",
       "    </tr>\n",
       "  </thead>\n",
       "  <tbody>\n",
       "    <tr>\n",
       "      <td>0</td>\n",
       "      <td>Wii Sports</td>\n",
       "      <td>Wii</td>\n",
       "      <td>2006</td>\n",
       "      <td>Sports</td>\n",
       "      <td>41.36</td>\n",
       "      <td>28.96</td>\n",
       "      <td>3.77</td>\n",
       "      <td>8.45</td>\n",
       "      <td>76.0</td>\n",
       "      <td>8.0</td>\n",
       "      <td>E</td>\n",
       "      <td>82.54</td>\n",
       "    </tr>\n",
       "    <tr>\n",
       "      <td>1</td>\n",
       "      <td>Super Mario Bros.</td>\n",
       "      <td>NES</td>\n",
       "      <td>1985</td>\n",
       "      <td>Platform</td>\n",
       "      <td>29.08</td>\n",
       "      <td>3.58</td>\n",
       "      <td>6.81</td>\n",
       "      <td>0.77</td>\n",
       "      <td>NaN</td>\n",
       "      <td>NaN</td>\n",
       "      <td>NaN</td>\n",
       "      <td>40.24</td>\n",
       "    </tr>\n",
       "    <tr>\n",
       "      <td>2</td>\n",
       "      <td>Mario Kart Wii</td>\n",
       "      <td>Wii</td>\n",
       "      <td>2008</td>\n",
       "      <td>Racing</td>\n",
       "      <td>15.68</td>\n",
       "      <td>12.76</td>\n",
       "      <td>3.79</td>\n",
       "      <td>3.29</td>\n",
       "      <td>82.0</td>\n",
       "      <td>8.3</td>\n",
       "      <td>E</td>\n",
       "      <td>35.52</td>\n",
       "    </tr>\n",
       "    <tr>\n",
       "      <td>3</td>\n",
       "      <td>Wii Sports Resort</td>\n",
       "      <td>Wii</td>\n",
       "      <td>2009</td>\n",
       "      <td>Sports</td>\n",
       "      <td>15.61</td>\n",
       "      <td>10.93</td>\n",
       "      <td>3.28</td>\n",
       "      <td>2.95</td>\n",
       "      <td>80.0</td>\n",
       "      <td>8.0</td>\n",
       "      <td>E</td>\n",
       "      <td>32.77</td>\n",
       "    </tr>\n",
       "    <tr>\n",
       "      <td>4</td>\n",
       "      <td>Pokemon Red/Pokemon Blue</td>\n",
       "      <td>GB</td>\n",
       "      <td>1996</td>\n",
       "      <td>Role-Playing</td>\n",
       "      <td>11.27</td>\n",
       "      <td>8.89</td>\n",
       "      <td>10.22</td>\n",
       "      <td>1.00</td>\n",
       "      <td>NaN</td>\n",
       "      <td>NaN</td>\n",
       "      <td>NaN</td>\n",
       "      <td>31.38</td>\n",
       "    </tr>\n",
       "  </tbody>\n",
       "</table>\n",
       "</div>"
      ],
      "text/plain": [
       "                       name platform  year_of_release         genre  na_sales  \\\n",
       "0                Wii Sports      Wii             2006        Sports     41.36   \n",
       "1         Super Mario Bros.      NES             1985      Platform     29.08   \n",
       "2            Mario Kart Wii      Wii             2008        Racing     15.68   \n",
       "3         Wii Sports Resort      Wii             2009        Sports     15.61   \n",
       "4  Pokemon Red/Pokemon Blue       GB             1996  Role-Playing     11.27   \n",
       "\n",
       "   eu_sales  jp_sales  other_sales  critic_score  user_score rating  \\\n",
       "0     28.96      3.77         8.45          76.0         8.0      E   \n",
       "1      3.58      6.81         0.77           NaN         NaN    NaN   \n",
       "2     12.76      3.79         3.29          82.0         8.3      E   \n",
       "3     10.93      3.28         2.95          80.0         8.0      E   \n",
       "4      8.89     10.22         1.00           NaN         NaN    NaN   \n",
       "\n",
       "   total_income  \n",
       "0         82.54  \n",
       "1         40.24  \n",
       "2         35.52  \n",
       "3         32.77  \n",
       "4         31.38  "
      ]
     },
     "metadata": {},
     "output_type": "display_data"
    },
    {
     "name": "stdout",
     "output_type": "stream",
     "text": [
      "<class 'pandas.core.frame.DataFrame'>\n",
      "RangeIndex: 16444 entries, 0 to 16443\n",
      "Data columns (total 12 columns):\n",
      "name               16444 non-null object\n",
      "platform           16444 non-null object\n",
      "year_of_release    16444 non-null int64\n",
      "genre              16444 non-null object\n",
      "na_sales           16444 non-null float64\n",
      "eu_sales           16444 non-null float64\n",
      "jp_sales           16444 non-null float64\n",
      "other_sales        16444 non-null float64\n",
      "critic_score       7983 non-null float64\n",
      "user_score         7463 non-null float64\n",
      "rating             9768 non-null object\n",
      "total_income       16444 non-null float64\n",
      "dtypes: float64(7), int64(1), object(4)\n",
      "memory usage: 1.5+ MB\n"
     ]
    }
   ],
   "source": [
    "display(data.head())\n",
    "data.info()"
   ]
  },
  {
   "cell_type": "markdown",
   "id": "cdd7a31f",
   "metadata": {},
   "source": [
    "## Анализ и описание данных"
   ]
  },
  {
   "cell_type": "markdown",
   "id": "c5c8f844",
   "metadata": {},
   "source": [
    "### Распределение игр по годам"
   ]
  },
  {
   "cell_type": "markdown",
   "id": "767ce52c",
   "metadata": {},
   "source": [
    "Для начала просмотрим за какие года есть данные об играх, а затем построим график, отражающий динамику выпускавшихся игр. Для подсчёта количества возьём названия игр."
   ]
  },
  {
   "cell_type": "code",
   "execution_count": 13,
   "id": "6106b1ea",
   "metadata": {},
   "outputs": [
    {
     "data": {
      "text/plain": [
       "array([1980, 1981, 1982, 1983, 1984, 1985, 1986, 1987, 1988, 1989, 1990,\n",
       "       1991, 1992, 1993, 1994, 1995, 1996, 1997, 1998, 1999, 2000, 2001,\n",
       "       2002, 2003, 2004, 2005, 2006, 2007, 2008, 2009, 2010, 2011, 2012,\n",
       "       2013, 2014, 2015, 2016])"
      ]
     },
     "execution_count": 13,
     "metadata": {},
     "output_type": "execute_result"
    }
   ],
   "source": [
    "data['year_of_release'].sort_values().unique()"
   ]
  },
  {
   "cell_type": "code",
   "execution_count": 14,
   "id": "37a8fb97",
   "metadata": {
    "scrolled": true
   },
   "outputs": [
    {
     "data": {
      "image/png": "[encoded data removed]",
      "text/plain": [
       "<Figure size 720x360 with 1 Axes>"
      ]
     },
     "metadata": {
      "needs_background": "light"
     },
     "output_type": "display_data"
    }
   ],
   "source": [
    "data.groupby('year_of_release').agg({'name': 'count'}).plot(kind='bar', figsize=(10,5), \n",
    "                                                            title='Распределение выпускаемых игр по годам')\n",
    "plt.xlabel('Год')\n",
    "plt.ylabel('Количество игр')\n",
    "plt.show()"
   ]
  },
  {
   "cell_type": "markdown",
   "id": "0c9a6e24",
   "metadata": {},
   "source": [
    "Видим, что с 1990 года начал наблюдаться плавный рост выпускаемых игр, с пиком в 2008 и 2009 годах. После этого количество выпускаемых игр стало спадать и с 2012 вышло в плато. Данные до 1990 мы можем не учитывать, как не представляющие интереса. Также, вероятно, что для дальнейшего анализа наиболее существенными будут года 2012-2016, т.к. у них одинаковая динамика."
   ]
  },
  {
   "cell_type": "markdown",
   "id": "e25c6e4a",
   "metadata": {},
   "source": [
    "### Распределение продаж по платформам"
   ]
  },
  {
   "cell_type": "markdown",
   "id": "e26df4f4",
   "metadata": {},
   "source": [
    "Проанализируем, как менялись продажи по платформам. Для этого посмотрим, какие вообще платформы были. Воспользуемся сводной таблицей."
   ]
  },
  {
   "cell_type": "code",
   "execution_count": 15,
   "id": "3a31bf49",
   "metadata": {
    "scrolled": true
   },
   "outputs": [
    {
     "data": {
      "text/html": [
       "<div>\n",
       "<style scoped>\n",
       "    .dataframe tbody tr th:only-of-type {\n",
       "        vertical-align: middle;\n",
       "    }\n",
       "\n",
       "    .dataframe tbody tr th {\n",
       "        vertical-align: top;\n",
       "    }\n",
       "\n",
       "    .dataframe thead th {\n",
       "        text-align: right;\n",
       "    }\n",
       "</style>\n",
       "<table border=\"1\" class=\"dataframe\">\n",
       "  <thead>\n",
       "    <tr style=\"text-align: right;\">\n",
       "      <th></th>\n",
       "      <th>total_income</th>\n",
       "    </tr>\n",
       "    <tr>\n",
       "      <th>platform</th>\n",
       "      <th></th>\n",
       "    </tr>\n",
       "  </thead>\n",
       "  <tbody>\n",
       "    <tr>\n",
       "      <td>PS2</td>\n",
       "      <td>1233.56</td>\n",
       "    </tr>\n",
       "    <tr>\n",
       "      <td>X360</td>\n",
       "      <td>961.24</td>\n",
       "    </tr>\n",
       "    <tr>\n",
       "      <td>PS3</td>\n",
       "      <td>931.34</td>\n",
       "    </tr>\n",
       "    <tr>\n",
       "      <td>Wii</td>\n",
       "      <td>891.18</td>\n",
       "    </tr>\n",
       "    <tr>\n",
       "      <td>DS</td>\n",
       "      <td>802.78</td>\n",
       "    </tr>\n",
       "    <tr>\n",
       "      <td>PS</td>\n",
       "      <td>727.58</td>\n",
       "    </tr>\n",
       "    <tr>\n",
       "      <td>PS4</td>\n",
       "      <td>314.14</td>\n",
       "    </tr>\n",
       "    <tr>\n",
       "      <td>GBA</td>\n",
       "      <td>312.88</td>\n",
       "    </tr>\n",
       "    <tr>\n",
       "      <td>PSP</td>\n",
       "      <td>289.53</td>\n",
       "    </tr>\n",
       "    <tr>\n",
       "      <td>3DS</td>\n",
       "      <td>257.81</td>\n",
       "    </tr>\n",
       "    <tr>\n",
       "      <td>PC</td>\n",
       "      <td>255.76</td>\n",
       "    </tr>\n",
       "    <tr>\n",
       "      <td>GB</td>\n",
       "      <td>254.43</td>\n",
       "    </tr>\n",
       "    <tr>\n",
       "      <td>XB</td>\n",
       "      <td>251.57</td>\n",
       "    </tr>\n",
       "    <tr>\n",
       "      <td>NES</td>\n",
       "      <td>251.05</td>\n",
       "    </tr>\n",
       "    <tr>\n",
       "      <td>N64</td>\n",
       "      <td>218.01</td>\n",
       "    </tr>\n",
       "    <tr>\n",
       "      <td>SNES</td>\n",
       "      <td>200.04</td>\n",
       "    </tr>\n",
       "    <tr>\n",
       "      <td>GC</td>\n",
       "      <td>196.73</td>\n",
       "    </tr>\n",
       "    <tr>\n",
       "      <td>XOne</td>\n",
       "      <td>159.32</td>\n",
       "    </tr>\n",
       "    <tr>\n",
       "      <td>2600</td>\n",
       "      <td>86.48</td>\n",
       "    </tr>\n",
       "    <tr>\n",
       "      <td>WiiU</td>\n",
       "      <td>82.19</td>\n",
       "    </tr>\n",
       "    <tr>\n",
       "      <td>PSV</td>\n",
       "      <td>53.81</td>\n",
       "    </tr>\n",
       "    <tr>\n",
       "      <td>SAT</td>\n",
       "      <td>33.59</td>\n",
       "    </tr>\n",
       "    <tr>\n",
       "      <td>GEN</td>\n",
       "      <td>28.35</td>\n",
       "    </tr>\n",
       "    <tr>\n",
       "      <td>DC</td>\n",
       "      <td>15.95</td>\n",
       "    </tr>\n",
       "    <tr>\n",
       "      <td>SCD</td>\n",
       "      <td>1.86</td>\n",
       "    </tr>\n",
       "    <tr>\n",
       "      <td>NG</td>\n",
       "      <td>1.44</td>\n",
       "    </tr>\n",
       "    <tr>\n",
       "      <td>WS</td>\n",
       "      <td>1.42</td>\n",
       "    </tr>\n",
       "    <tr>\n",
       "      <td>TG16</td>\n",
       "      <td>0.16</td>\n",
       "    </tr>\n",
       "    <tr>\n",
       "      <td>3DO</td>\n",
       "      <td>0.10</td>\n",
       "    </tr>\n",
       "    <tr>\n",
       "      <td>GG</td>\n",
       "      <td>0.04</td>\n",
       "    </tr>\n",
       "    <tr>\n",
       "      <td>PCFX</td>\n",
       "      <td>0.03</td>\n",
       "    </tr>\n",
       "  </tbody>\n",
       "</table>\n",
       "</div>"
      ],
      "text/plain": [
       "          total_income\n",
       "platform              \n",
       "PS2            1233.56\n",
       "X360            961.24\n",
       "PS3             931.34\n",
       "Wii             891.18\n",
       "DS              802.78\n",
       "PS              727.58\n",
       "PS4             314.14\n",
       "GBA             312.88\n",
       "PSP             289.53\n",
       "3DS             257.81\n",
       "PC              255.76\n",
       "GB              254.43\n",
       "XB              251.57\n",
       "NES             251.05\n",
       "N64             218.01\n",
       "SNES            200.04\n",
       "GC              196.73\n",
       "XOne            159.32\n",
       "2600             86.48\n",
       "WiiU             82.19\n",
       "PSV              53.81\n",
       "SAT              33.59\n",
       "GEN              28.35\n",
       "DC               15.95\n",
       "SCD               1.86\n",
       "NG                1.44\n",
       "WS                1.42\n",
       "TG16              0.16\n",
       "3DO               0.10\n",
       "GG                0.04\n",
       "PCFX              0.03"
      ]
     },
     "execution_count": 15,
     "metadata": {},
     "output_type": "execute_result"
    }
   ],
   "source": [
    "top_platforms = data.groupby('platform').agg({'total_income': 'sum'})\n",
    "top_platforms.sort_values(by='total_income', ascending=False)"
   ]
  },
  {
   "cell_type": "markdown",
   "id": "49e4bd4e",
   "metadata": {},
   "source": [
    "Отберём топ-10 платформ по продажам"
   ]
  },
  {
   "cell_type": "code",
   "execution_count": 16,
   "id": "880e553f",
   "metadata": {},
   "outputs": [],
   "source": [
    "top_platforms = top_platforms.sort_values(by='total_income', ascending=False).head(10)\n",
    "top_platforms = top_platforms.index"
   ]
  },
  {
   "cell_type": "markdown",
   "id": "8e843693",
   "metadata": {},
   "source": [
    "Построим таблицу, на которой отметим топ-10 платформы и их суммарные продажи по годам."
   ]
  },
  {
   "cell_type": "code",
   "execution_count": 17,
   "id": "5c63495e",
   "metadata": {
    "scrolled": false
   },
   "outputs": [
    {
     "data": {
      "image/png": "[encoded data removed]",
      "text/plain": [
       "<Figure size 720x720 with 1 Axes>"
      ]
     },
     "metadata": {
      "needs_background": "light"
     },
     "output_type": "display_data"
    }
   ],
   "source": [
    "data.query('platform in @top_platforms').pivot_table(index='year_of_release', columns = 'platform',\\\n",
    "                                         values='total_income', aggfunc='sum').plot(kind='bar', figsize=(10, 10), \\\n",
    "                                         rot=45, title='Распределение продаж платформ по годам', stacked=True)\n",
    "plt.xlabel('Год')\n",
    "plt.ylabel('Доход, млн.')\n",
    "plt.show()"
   ]
  },
  {
   "cell_type": "markdown",
   "id": "a398f30e",
   "metadata": {},
   "source": [
    "Рассчитаем, какой средний срок жизни платформы на рынке. Для этого отфильтруем платформы по прибыли, минимальная - 10 млн: ориентируемся на первую таблицу по всем платформам, в которой у платформ меньше 10 млн прибыль не превышает 1-2 млн."
   ]
  },
  {
   "cell_type": "code",
   "execution_count": 18,
   "id": "1af4f393",
   "metadata": {
    "scrolled": true
   },
   "outputs": [
    {
     "data": {
      "text/plain": [
       "year_of_release    6.086957\n",
       "dtype: float64"
      ]
     },
     "execution_count": 18,
     "metadata": {},
     "output_type": "execute_result"
    }
   ],
   "source": [
    "#минимальный порог продаж в млн.\n",
    "min_sales = 10\n",
    "\n",
    "#формируем таблицу, в которой платформы проходят минимальный порог продаж\n",
    "report = data.groupby (['platform', 'year_of_release']).agg({'total_income': 'sum'}).query('total_income > @min_sales')\n",
    "\n",
    "#находим среднее арифметическое по уникальным годам существования платформы на рынке\n",
    "report.reset_index().groupby('platform').agg({'year_of_release': 'nunique'}).mean() "
   ]
  },
  {
   "cell_type": "markdown",
   "id": "9e370b6e",
   "metadata": {},
   "source": [
    "Видим, что среднее время продолжительности жизни платформы - 6 лет. При этом, исходя из построенного графика мы видим, что пик роста популярности платформы приходится на 3-4 года, после чего, продажи начинают падать. \n",
    "\n",
    "Также, мы видим, что за последние 6 лет на рынке существует только 4 конкурента: PS3/4, X360, 3DS. Увеличение прибыли наблюдается только у PS4 (которая плавно сменила PS3). Продажи 3DS демонстрируют относительную стабильность. Остальные платформы показывают уменьшение прибыли."
   ]
  },
  {
   "cell_type": "markdown",
   "id": "0338ed82",
   "metadata": {},
   "source": [
    "### Диаграмма размаха дохода для площадок"
   ]
  },
  {
   "cell_type": "markdown",
   "id": "e7e13bd0",
   "metadata": {},
   "source": [
    "Построим диаграмму размаха по глобальным продажам игр в разбивке по платформам. За релевантные года будем использовать данные, начиная с 2011 года."
   ]
  },
  {
   "cell_type": "code",
   "execution_count": 19,
   "id": "b99ba758",
   "metadata": {
    "scrolled": false
   },
   "outputs": [
    {
     "data": {
      "image/png": "[encoded data removed]",
      "text/plain": [
       "<Figure size 1080x720 with 1 Axes>"
      ]
     },
     "metadata": {
      "needs_background": "light"
     },
     "output_type": "display_data"
    }
   ],
   "source": [
    "data_filtered = data.query('year_of_release >= 2011')\n",
    "\n",
    "data_filtered.boxplot(column='total_income', by='platform', figsize=(15,10))\n",
    "plt.xlabel('Название платформы')\n",
    "plt.ylabel('Доход')\n",
    "plt.title('Диаграмма размаха дохода для площадок за 2011-2016')\n",
    "plt.ylim(0,2)\n",
    "plt.show()"
   ]
  },
  {
   "cell_type": "markdown",
   "id": "a8091dfa",
   "metadata": {},
   "source": [
    "На диаграмме видно, что самые высокая медиана продаж была на платформе X360, затем - XOne, PS3 и PS4. Самый большой размах при этом у X360 и PS4. Видим, что Xbox и PS являются наиболее перспективными и стабильными платформами, т.к. новые версии органично сменяют старые. Самый низкий доход у PSP и PSV."
   ]
  },
  {
   "cell_type": "markdown",
   "id": "26fcd41c",
   "metadata": {},
   "source": [
    "### Зависимость продаж от оценок"
   ]
  },
  {
   "cell_type": "markdown",
   "id": "a6cd79b9",
   "metadata": {},
   "source": [
    "Постараемся выяснить, зависит ли доход от оценки критиков и пользователей. Для этого построим диаграммы рассеивания."
   ]
  },
  {
   "cell_type": "code",
   "execution_count": 20,
   "id": "925bc262",
   "metadata": {
    "scrolled": true
   },
   "outputs": [
    {
     "data": {
      "image/png": "[encoded data removed]",
      "text/plain": [
       "<Figure size 1080x360 with 1 Axes>"
      ]
     },
     "metadata": {
      "needs_background": "light"
     },
     "output_type": "display_data"
    }
   ],
   "source": [
    "ax=data_filtered.query('platform == \"XOne\"').plot(kind='scatter', x='critic_score', y='total_income', color='red', \n",
    "                                    alpha=0.5, label='XOne', figsize=(15,5))\n",
    "data_filtered.query('platform == \"X360\"').plot(kind='scatter', x='critic_score', y='total_income', color='blue', \n",
    "                                    alpha=0.5, label='X360', ax=ax)\n",
    "data_filtered.query('platform == \"PS3\"').plot(kind='scatter', x='critic_score', y='total_income', color='green', \n",
    "                                    alpha=0.5, label='PS3', ax=ax)\n",
    "data_filtered.query('platform == \"PS4\"').plot(kind='scatter', x='critic_score', y='total_income', color='yellow', \n",
    "                                    alpha=0.5, label='PS4', ax=ax)\n",
    "plt.xlabel('Оценка')\n",
    "plt.ylabel('Доход, млн')\n",
    "plt.title('Зависимость дохода от оценки критиков')\n",
    "plt.legend();"
   ]
  },
  {
   "cell_type": "code",
   "execution_count": 21,
   "id": "6959ece1",
   "metadata": {
    "scrolled": true
   },
   "outputs": [
    {
     "data": {
      "image/png": "[encoded data removed]",
      "text/plain": [
       "<Figure size 1080x360 with 1 Axes>"
      ]
     },
     "metadata": {
      "needs_background": "light"
     },
     "output_type": "display_data"
    }
   ],
   "source": [
    "ax=data_filtered.query('platform == \"XOne\"').plot(kind='scatter', x='user_score', y='total_income', color='red', \n",
    "                                    alpha=0.5, label='XOne', figsize=(15,5))\n",
    "data_filtered.query('platform == \"X360\"').plot(kind='scatter', x='user_score', y='total_income', color='blue', \n",
    "                                    alpha=0.5, label='X360', ax=ax)\n",
    "data_filtered.query('platform == \"PS3\"').plot(kind='scatter', x='user_score', y='total_income', color='green', \n",
    "                                    alpha=0.5, label='PS3', ax=ax)\n",
    "data_filtered.query('platform == \"PS4\"').plot(kind='scatter', x='user_score', y='total_income', color='yellow', \n",
    "                                    alpha=0.5, label='PS4', ax=ax)\n",
    "plt.xlabel('Оценка')\n",
    "plt.ylabel('Доход, млн')\n",
    "plt.title('Зависимость дохода от оценки пользователей')\n",
    "plt.legend();"
   ]
  },
  {
   "cell_type": "markdown",
   "id": "f414b1ae",
   "metadata": {},
   "source": [
    "Построем корреляцию Пирсона для самой популярной платформы X360."
   ]
  },
  {
   "cell_type": "code",
   "execution_count": 22,
   "id": "808ba1eb",
   "metadata": {
    "scrolled": false
   },
   "outputs": [
    {
     "data": {
      "text/html": [
       "<div>\n",
       "<style scoped>\n",
       "    .dataframe tbody tr th:only-of-type {\n",
       "        vertical-align: middle;\n",
       "    }\n",
       "\n",
       "    .dataframe tbody tr th {\n",
       "        vertical-align: top;\n",
       "    }\n",
       "\n",
       "    .dataframe thead th {\n",
       "        text-align: right;\n",
       "    }\n",
       "</style>\n",
       "<table border=\"1\" class=\"dataframe\">\n",
       "  <thead>\n",
       "    <tr style=\"text-align: right;\">\n",
       "      <th></th>\n",
       "      <th>user_score</th>\n",
       "      <th>critic_score</th>\n",
       "      <th>total_income</th>\n",
       "    </tr>\n",
       "  </thead>\n",
       "  <tbody>\n",
       "    <tr>\n",
       "      <td>user_score</td>\n",
       "      <td>1.000000</td>\n",
       "      <td>0.568386</td>\n",
       "      <td>0.038918</td>\n",
       "    </tr>\n",
       "    <tr>\n",
       "      <td>critic_score</td>\n",
       "      <td>0.568386</td>\n",
       "      <td>1.000000</td>\n",
       "      <td>0.391253</td>\n",
       "    </tr>\n",
       "    <tr>\n",
       "      <td>total_income</td>\n",
       "      <td>0.038918</td>\n",
       "      <td>0.391253</td>\n",
       "      <td>1.000000</td>\n",
       "    </tr>\n",
       "  </tbody>\n",
       "</table>\n",
       "</div>"
      ],
      "text/plain": [
       "              user_score  critic_score  total_income\n",
       "user_score      1.000000      0.568386      0.038918\n",
       "critic_score    0.568386      1.000000      0.391253\n",
       "total_income    0.038918      0.391253      1.000000"
      ]
     },
     "execution_count": 22,
     "metadata": {},
     "output_type": "execute_result"
    }
   ],
   "source": [
    "data_filtered.query('platform == \"X360\"')[['user_score', 'critic_score', 'total_income']].corr()"
   ]
  },
  {
   "cell_type": "markdown",
   "id": "03adf706",
   "metadata": {},
   "source": [
    "И суммарно для оставшихся популярных платформ: XOne, PS3, PS4."
   ]
  },
  {
   "cell_type": "code",
   "execution_count": 23,
   "id": "65a828a3",
   "metadata": {},
   "outputs": [
    {
     "data": {
      "text/html": [
       "<div>\n",
       "<style scoped>\n",
       "    .dataframe tbody tr th:only-of-type {\n",
       "        vertical-align: middle;\n",
       "    }\n",
       "\n",
       "    .dataframe tbody tr th {\n",
       "        vertical-align: top;\n",
       "    }\n",
       "\n",
       "    .dataframe thead th {\n",
       "        text-align: right;\n",
       "    }\n",
       "</style>\n",
       "<table border=\"1\" class=\"dataframe\">\n",
       "  <thead>\n",
       "    <tr style=\"text-align: right;\">\n",
       "      <th></th>\n",
       "      <th>user_score</th>\n",
       "      <th>critic_score</th>\n",
       "      <th>total_income</th>\n",
       "    </tr>\n",
       "  </thead>\n",
       "  <tbody>\n",
       "    <tr>\n",
       "      <td>user_score</td>\n",
       "      <td>1.000000</td>\n",
       "      <td>0.537415</td>\n",
       "      <td>-0.007849</td>\n",
       "    </tr>\n",
       "    <tr>\n",
       "      <td>critic_score</td>\n",
       "      <td>0.537415</td>\n",
       "      <td>1.000000</td>\n",
       "      <td>0.382063</td>\n",
       "    </tr>\n",
       "    <tr>\n",
       "      <td>total_income</td>\n",
       "      <td>-0.007849</td>\n",
       "      <td>0.382063</td>\n",
       "      <td>1.000000</td>\n",
       "    </tr>\n",
       "  </tbody>\n",
       "</table>\n",
       "</div>"
      ],
      "text/plain": [
       "              user_score  critic_score  total_income\n",
       "user_score      1.000000      0.537415     -0.007849\n",
       "critic_score    0.537415      1.000000      0.382063\n",
       "total_income   -0.007849      0.382063      1.000000"
      ]
     },
     "execution_count": 23,
     "metadata": {},
     "output_type": "execute_result"
    }
   ],
   "source": [
    "data_filtered[data_filtered['platform'].isin(['XOne', 'PS3', 'PS4'])][['user_score', 'critic_score', 'total_income']].corr()"
   ]
  },
  {
   "cell_type": "markdown",
   "id": "1d77518b",
   "metadata": {},
   "source": [
    "На примере популярных платформ мы видим, что оценка пользователей на доход практически не влияет. Оценка критиков больше влияет на  доход, но корреляцию тоже нельзя назвать ярко выраженной. Эту гипотезу подтверждает корреляция Пирсона по X360 и оставшимся популярным платформам датасета (XOne, PS3, PS4)."
   ]
  },
  {
   "cell_type": "markdown",
   "id": "472f0957",
   "metadata": {},
   "source": [
    "### Зависимость дохода от жанра"
   ]
  },
  {
   "cell_type": "markdown",
   "id": "45039330",
   "metadata": {},
   "source": [
    "Построим диаграммы размаха, чтобы посмотреть зависимость дохода от жанра."
   ]
  },
  {
   "cell_type": "code",
   "execution_count": 24,
   "id": "4e10c737",
   "metadata": {
    "scrolled": false
   },
   "outputs": [
    {
     "data": {
      "image/png": "[encoded data removed]",
      "text/plain": [
       "<Figure size 1080x720 with 1 Axes>"
      ]
     },
     "metadata": {
      "needs_background": "light"
     },
     "output_type": "display_data"
    }
   ],
   "source": [
    "data_filtered.boxplot(column='total_income', by='genre', figsize=(15, 10))\n",
    "plt.title('Зависимость дохода от жанра, 2011-2016')\n",
    "plt.ylim(0, 4)\n",
    "plt.xlabel('Жанр')\n",
    "plt.ylabel('Доход')\n",
    "plt.show()"
   ]
  },
  {
   "cell_type": "markdown",
   "id": "082b155e",
   "metadata": {},
   "source": [
    "Видим, что у нас самая высокая медиана дохода у жанра shooter. У него же самый большой размах в значениях, поэтому он является наиболее перспективным. Затем идут sport и platform (размах у platform чуть больше). Самые низкие продажи у жанра adventure и puzzle. "
   ]
  },
  {
   "cell_type": "markdown",
   "id": "95be4f49",
   "metadata": {},
   "source": [
    "### Выводы"
   ]
  },
  {
   "cell_type": "markdown",
   "id": "daffae4d",
   "metadata": {},
   "source": [
    "Видим, что с 1990 года начал наблюдаться плавный рост выпускаемых игр, с пиком в 2008 и 2009 годах. После этого количество выпускаемых игр стало спадать и с 2012 вышло в плато. \n",
    "\n",
    "Cреднее время продолжительности жизни платформы на рынке - 6 лет. Поэтому для анализа мы взяли последние 6 лет, а именно 2011-2016. При этом пик роста популярности платформы происходит 3-4 года, после чего, продажи начинают падать.  \n",
    "\n",
    "Также, мы видим, что за последние 6 лет на рынке существует только 3 значимых конкурента: PS, X360, DS. Увеличение прибыли наблюдается только у PS4 (которая плавно сменила PS3). Продажи 3DS демонстрируют относительную стабильность. Остальные платформы показывают уменьшение прибыли.\n",
    "\n",
    "Мы выяснили, что самая высокая медиана продаж была на платформе X360, затем - XOne, PS3 и PS4. Самый большой размах при этом у X360 и PS4. Из этого можно сделать вывод, что Xbox и PS являются наиболее перспективными и стабильными платформами, т.к. новые версии органично сменяют старые. Самый низкий доход у PSP и PSV.\n",
    "\n",
    "На примере популярных платформ мы выяснили, что оценка пользователей на доход практически не влияет. Оценка критиков больше влияет на  доход, но корреляцию тоже нельзя назвать ярко выраженной. \n",
    "\n",
    "Самая высокая медиана дохода у жанра shooter. У него же самый большой размах в значениях, поэтому он является наиболее перспективным. Затем идут sport и platform (размах у platform чуть больше). Самые низкие продажи у жанра adventure и puzzle. "
   ]
  },
  {
   "cell_type": "markdown",
   "id": "63c112fc",
   "metadata": {},
   "source": [
    "## Портрет пользователя каждого региона"
   ]
  },
  {
   "cell_type": "markdown",
   "id": "3c37ca9b",
   "metadata": {},
   "source": [
    "Для того, чтобы понять, чем увлекаются пользователи в том или ином регионе, какой продукт может подойти, проанализируем зависимость продаж и следующих критериев:\n",
    "- Самые популярные платформы (топ-5).\n",
    "- Самые популярные жанры (топ-5). \n",
    "- Ррейтинг ESRB.\n",
    "\n",
    "В качестве анализируемых регионом возьмём США (Северная Америка), Европу и Японию."
   ]
  },
  {
   "cell_type": "markdown",
   "id": "4425a3e2",
   "metadata": {},
   "source": [
    "### Самые популярные платформы (топ-5)"
   ]
  },
  {
   "cell_type": "markdown",
   "id": "75b4319f",
   "metadata": {},
   "source": [
    "Построим график по сводной таблице с группировкой по продажам, чтобы лучше визуализировать данные."
   ]
  },
  {
   "cell_type": "code",
   "execution_count": 25,
   "id": "1cb9cac1",
   "metadata": {
    "scrolled": true
   },
   "outputs": [
    {
     "data": {
      "image/png": "[encoded data removed]",
      "text/plain": [
       "<Figure size 1080x360 with 1 Axes>"
      ]
     },
     "metadata": {
      "needs_background": "light"
     },
     "output_type": "display_data"
    }
   ],
   "source": [
    "data_filtered.pivot_table(index='platform', values=['na_sales', 'eu_sales', 'jp_sales'], \n",
    "                          aggfunc='sum').plot(kind='bar',figsize=(15,5), rot=45,\n",
    "                                              title='Распределение продаж по платформам')\n",
    "plt.xlabel('Платформы')\n",
    "plt.ylabel('Продажи')\n",
    "plt.show()"
   ]
  },
  {
   "cell_type": "markdown",
   "id": "1cf1b95c",
   "metadata": {},
   "source": [
    "Выберем топ-5 платформ для каждого региона и посчитаем суммарные продажы по каждой из них."
   ]
  },
  {
   "cell_type": "code",
   "execution_count": 26,
   "id": "bbbea20c",
   "metadata": {
    "scrolled": true
   },
   "outputs": [
    {
     "data": {
      "text/html": [
       "<div>\n",
       "<style scoped>\n",
       "    .dataframe tbody tr th:only-of-type {\n",
       "        vertical-align: middle;\n",
       "    }\n",
       "\n",
       "    .dataframe tbody tr th {\n",
       "        vertical-align: top;\n",
       "    }\n",
       "\n",
       "    .dataframe thead th {\n",
       "        text-align: right;\n",
       "    }\n",
       "</style>\n",
       "<table border=\"1\" class=\"dataframe\">\n",
       "  <thead>\n",
       "    <tr style=\"text-align: right;\">\n",
       "      <th></th>\n",
       "      <th>na_sales</th>\n",
       "      <th>ratio</th>\n",
       "    </tr>\n",
       "    <tr>\n",
       "      <th>platform</th>\n",
       "      <th></th>\n",
       "      <th></th>\n",
       "    </tr>\n",
       "  </thead>\n",
       "  <tbody>\n",
       "    <tr>\n",
       "      <td>X360</td>\n",
       "      <td>226.80</td>\n",
       "      <td>0.33</td>\n",
       "    </tr>\n",
       "    <tr>\n",
       "      <td>PS3</td>\n",
       "      <td>168.26</td>\n",
       "      <td>0.25</td>\n",
       "    </tr>\n",
       "    <tr>\n",
       "      <td>PS4</td>\n",
       "      <td>108.74</td>\n",
       "      <td>0.16</td>\n",
       "    </tr>\n",
       "    <tr>\n",
       "      <td>XOne</td>\n",
       "      <td>93.12</td>\n",
       "      <td>0.14</td>\n",
       "    </tr>\n",
       "    <tr>\n",
       "      <td>3DS</td>\n",
       "      <td>82.65</td>\n",
       "      <td>0.12</td>\n",
       "    </tr>\n",
       "  </tbody>\n",
       "</table>\n",
       "</div>"
      ],
      "text/plain": [
       "          na_sales  ratio\n",
       "platform                 \n",
       "X360        226.80   0.33\n",
       "PS3         168.26   0.25\n",
       "PS4         108.74   0.16\n",
       "XOne         93.12   0.14\n",
       "3DS          82.65   0.12"
      ]
     },
     "metadata": {},
     "output_type": "display_data"
    },
    {
     "data": {
      "text/html": [
       "<div>\n",
       "<style scoped>\n",
       "    .dataframe tbody tr th:only-of-type {\n",
       "        vertical-align: middle;\n",
       "    }\n",
       "\n",
       "    .dataframe tbody tr th {\n",
       "        vertical-align: top;\n",
       "    }\n",
       "\n",
       "    .dataframe thead th {\n",
       "        text-align: right;\n",
       "    }\n",
       "</style>\n",
       "<table border=\"1\" class=\"dataframe\">\n",
       "  <thead>\n",
       "    <tr style=\"text-align: right;\">\n",
       "      <th></th>\n",
       "      <th>eu_sales</th>\n",
       "      <th>ratio</th>\n",
       "    </tr>\n",
       "    <tr>\n",
       "      <th>platform</th>\n",
       "      <th></th>\n",
       "      <th></th>\n",
       "    </tr>\n",
       "  </thead>\n",
       "  <tbody>\n",
       "    <tr>\n",
       "      <td>PS3</td>\n",
       "      <td>163.10</td>\n",
       "      <td>0.30</td>\n",
       "    </tr>\n",
       "    <tr>\n",
       "      <td>PS4</td>\n",
       "      <td>141.09</td>\n",
       "      <td>0.26</td>\n",
       "    </tr>\n",
       "    <tr>\n",
       "      <td>X360</td>\n",
       "      <td>117.10</td>\n",
       "      <td>0.22</td>\n",
       "    </tr>\n",
       "    <tr>\n",
       "      <td>3DS</td>\n",
       "      <td>61.27</td>\n",
       "      <td>0.11</td>\n",
       "    </tr>\n",
       "    <tr>\n",
       "      <td>PC</td>\n",
       "      <td>56.70</td>\n",
       "      <td>0.11</td>\n",
       "    </tr>\n",
       "  </tbody>\n",
       "</table>\n",
       "</div>"
      ],
      "text/plain": [
       "          eu_sales  ratio\n",
       "platform                 \n",
       "PS3         163.10   0.30\n",
       "PS4         141.09   0.26\n",
       "X360        117.10   0.22\n",
       "3DS          61.27   0.11\n",
       "PC           56.70   0.11"
      ]
     },
     "metadata": {},
     "output_type": "display_data"
    },
    {
     "data": {
      "text/html": [
       "<div>\n",
       "<style scoped>\n",
       "    .dataframe tbody tr th:only-of-type {\n",
       "        vertical-align: middle;\n",
       "    }\n",
       "\n",
       "    .dataframe tbody tr th {\n",
       "        vertical-align: top;\n",
       "    }\n",
       "\n",
       "    .dataframe thead th {\n",
       "        text-align: right;\n",
       "    }\n",
       "</style>\n",
       "<table border=\"1\" class=\"dataframe\">\n",
       "  <thead>\n",
       "    <tr style=\"text-align: right;\">\n",
       "      <th></th>\n",
       "      <th>jp_sales</th>\n",
       "      <th>ratio</th>\n",
       "    </tr>\n",
       "    <tr>\n",
       "      <th>platform</th>\n",
       "      <th></th>\n",
       "      <th></th>\n",
       "    </tr>\n",
       "  </thead>\n",
       "  <tbody>\n",
       "    <tr>\n",
       "      <td>3DS</td>\n",
       "      <td>100.62</td>\n",
       "      <td>0.47</td>\n",
       "    </tr>\n",
       "    <tr>\n",
       "      <td>PS3</td>\n",
       "      <td>49.39</td>\n",
       "      <td>0.23</td>\n",
       "    </tr>\n",
       "    <tr>\n",
       "      <td>PSP</td>\n",
       "      <td>24.04</td>\n",
       "      <td>0.11</td>\n",
       "    </tr>\n",
       "    <tr>\n",
       "      <td>PSV</td>\n",
       "      <td>21.84</td>\n",
       "      <td>0.10</td>\n",
       "    </tr>\n",
       "    <tr>\n",
       "      <td>PS4</td>\n",
       "      <td>15.96</td>\n",
       "      <td>0.08</td>\n",
       "    </tr>\n",
       "  </tbody>\n",
       "</table>\n",
       "</div>"
      ],
      "text/plain": [
       "          jp_sales  ratio\n",
       "platform                 \n",
       "3DS         100.62   0.47\n",
       "PS3          49.39   0.23\n",
       "PSP          24.04   0.11\n",
       "PSV          21.84   0.10\n",
       "PS4          15.96   0.08"
      ]
     },
     "metadata": {},
     "output_type": "display_data"
    }
   ],
   "source": [
    "for var in ['na_sales', 'eu_sales', 'jp_sales']:\n",
    "    region_data = data_filtered.pivot_table(index='platform', values=var, aggfunc='sum').\\\n",
    "    sort_values(by=var, ascending=False).head()\n",
    "    region_data['ratio'] = (region_data[var] / region_data[var].sum()).round(2)\n",
    "    display(region_data)\n"
   ]
  },
  {
   "cell_type": "markdown",
   "id": "50334a93",
   "metadata": {},
   "source": [
    "Мы видим, что в США лидируют продажи X360 (33% от продаж), затем идут продажи PS3 (26%). Остальные, менее существенные игроки: PS4 (16%), XOne (14%) и 3DS (12%).\n",
    "\n",
    "В Европе похожая ситуация, с той разницей, что на первом месте находится PS3 (30% от продаж). Второе и третье почти поровну принадлежит PS4 (26%) и X360 (22%). Менеьшая доля у 3DS (11%) и PC (11%).\n",
    "\n",
    "Если смотреть на Японию, то ситуация значительно отличается. 3DS занимает лидирующее первое место и получает 47% от всех продаж. Затем, идёт PS3 (23%). Менее существенные игроки: PSP (11%), PSV (10%), PS4(8%). Xbox среди лидеров на Японском рынке не представлен."
   ]
  },
  {
   "cell_type": "markdown",
   "id": "6a4df710",
   "metadata": {},
   "source": [
    "### Самые популярные жанры (топ-5)"
   ]
  },
  {
   "cell_type": "code",
   "execution_count": 27,
   "id": "58587671",
   "metadata": {
    "scrolled": true
   },
   "outputs": [
    {
     "data": {
      "image/png": "[encoded data removed]",
      "text/plain": [
       "<Figure size 1080x360 with 1 Axes>"
      ]
     },
     "metadata": {
      "needs_background": "light"
     },
     "output_type": "display_data"
    }
   ],
   "source": [
    "data_filtered.pivot_table(index='genre', values=['na_sales', 'eu_sales', 'jp_sales'], \n",
    "                          aggfunc='sum').plot(kind='bar',figsize=(15,5), rot=45,\n",
    "                          title='Распределение продаж по жанрам')\n",
    "plt.xlabel('Жанр')\n",
    "plt.ylabel('Продажи')\n",
    "plt.show()"
   ]
  },
  {
   "cell_type": "code",
   "execution_count": 28,
   "id": "dd2bba80",
   "metadata": {
    "scrolled": false
   },
   "outputs": [
    {
     "data": {
      "text/html": [
       "<div>\n",
       "<style scoped>\n",
       "    .dataframe tbody tr th:only-of-type {\n",
       "        vertical-align: middle;\n",
       "    }\n",
       "\n",
       "    .dataframe tbody tr th {\n",
       "        vertical-align: top;\n",
       "    }\n",
       "\n",
       "    .dataframe thead th {\n",
       "        text-align: right;\n",
       "    }\n",
       "</style>\n",
       "<table border=\"1\" class=\"dataframe\">\n",
       "  <thead>\n",
       "    <tr style=\"text-align: right;\">\n",
       "      <th></th>\n",
       "      <th>na_sales</th>\n",
       "    </tr>\n",
       "    <tr>\n",
       "      <th>genre</th>\n",
       "      <th></th>\n",
       "    </tr>\n",
       "  </thead>\n",
       "  <tbody>\n",
       "    <tr>\n",
       "      <td>Action</td>\n",
       "      <td>230.92</td>\n",
       "    </tr>\n",
       "    <tr>\n",
       "      <td>Shooter</td>\n",
       "      <td>194.43</td>\n",
       "    </tr>\n",
       "    <tr>\n",
       "      <td>Sports</td>\n",
       "      <td>108.70</td>\n",
       "    </tr>\n",
       "    <tr>\n",
       "      <td>Role-Playing</td>\n",
       "      <td>83.78</td>\n",
       "    </tr>\n",
       "    <tr>\n",
       "      <td>Misc</td>\n",
       "      <td>69.69</td>\n",
       "    </tr>\n",
       "  </tbody>\n",
       "</table>\n",
       "</div>"
      ],
      "text/plain": [
       "              na_sales\n",
       "genre                 \n",
       "Action          230.92\n",
       "Shooter         194.43\n",
       "Sports          108.70\n",
       "Role-Playing     83.78\n",
       "Misc             69.69"
      ]
     },
     "metadata": {},
     "output_type": "display_data"
    },
    {
     "data": {
      "text/html": [
       "<div>\n",
       "<style scoped>\n",
       "    .dataframe tbody tr th:only-of-type {\n",
       "        vertical-align: middle;\n",
       "    }\n",
       "\n",
       "    .dataframe tbody tr th {\n",
       "        vertical-align: top;\n",
       "    }\n",
       "\n",
       "    .dataframe thead th {\n",
       "        text-align: right;\n",
       "    }\n",
       "</style>\n",
       "<table border=\"1\" class=\"dataframe\">\n",
       "  <thead>\n",
       "    <tr style=\"text-align: right;\">\n",
       "      <th></th>\n",
       "      <th>eu_sales</th>\n",
       "    </tr>\n",
       "    <tr>\n",
       "      <th>genre</th>\n",
       "      <th></th>\n",
       "    </tr>\n",
       "  </thead>\n",
       "  <tbody>\n",
       "    <tr>\n",
       "      <td>Action</td>\n",
       "      <td>199.12</td>\n",
       "    </tr>\n",
       "    <tr>\n",
       "      <td>Shooter</td>\n",
       "      <td>148.02</td>\n",
       "    </tr>\n",
       "    <tr>\n",
       "      <td>Sports</td>\n",
       "      <td>88.48</td>\n",
       "    </tr>\n",
       "    <tr>\n",
       "      <td>Role-Playing</td>\n",
       "      <td>62.30</td>\n",
       "    </tr>\n",
       "    <tr>\n",
       "      <td>Racing</td>\n",
       "      <td>40.58</td>\n",
       "    </tr>\n",
       "  </tbody>\n",
       "</table>\n",
       "</div>"
      ],
      "text/plain": [
       "              eu_sales\n",
       "genre                 \n",
       "Action          199.12\n",
       "Shooter         148.02\n",
       "Sports           88.48\n",
       "Role-Playing     62.30\n",
       "Racing           40.58"
      ]
     },
     "metadata": {},
     "output_type": "display_data"
    },
    {
     "data": {
      "text/html": [
       "<div>\n",
       "<style scoped>\n",
       "    .dataframe tbody tr th:only-of-type {\n",
       "        vertical-align: middle;\n",
       "    }\n",
       "\n",
       "    .dataframe tbody tr th {\n",
       "        vertical-align: top;\n",
       "    }\n",
       "\n",
       "    .dataframe thead th {\n",
       "        text-align: right;\n",
       "    }\n",
       "</style>\n",
       "<table border=\"1\" class=\"dataframe\">\n",
       "  <thead>\n",
       "    <tr style=\"text-align: right;\">\n",
       "      <th></th>\n",
       "      <th>jp_sales</th>\n",
       "    </tr>\n",
       "    <tr>\n",
       "      <th>genre</th>\n",
       "      <th></th>\n",
       "    </tr>\n",
       "  </thead>\n",
       "  <tbody>\n",
       "    <tr>\n",
       "      <td>Role-Playing</td>\n",
       "      <td>79.87</td>\n",
       "    </tr>\n",
       "    <tr>\n",
       "      <td>Action</td>\n",
       "      <td>63.62</td>\n",
       "    </tr>\n",
       "    <tr>\n",
       "      <td>Misc</td>\n",
       "      <td>17.60</td>\n",
       "    </tr>\n",
       "    <tr>\n",
       "      <td>Fighting</td>\n",
       "      <td>12.38</td>\n",
       "    </tr>\n",
       "    <tr>\n",
       "      <td>Platform</td>\n",
       "      <td>12.13</td>\n",
       "    </tr>\n",
       "  </tbody>\n",
       "</table>\n",
       "</div>"
      ],
      "text/plain": [
       "              jp_sales\n",
       "genre                 \n",
       "Role-Playing     79.87\n",
       "Action           63.62\n",
       "Misc             17.60\n",
       "Fighting         12.38\n",
       "Platform         12.13"
      ]
     },
     "metadata": {},
     "output_type": "display_data"
    }
   ],
   "source": [
    "for var in ['na_sales', 'eu_sales', 'jp_sales']:\n",
    "    display(data_filtered.pivot_table(index='genre', values=var, aggfunc='sum').\\\n",
    "            sort_values(by=var, ascending=False).head())"
   ]
  },
  {
   "cell_type": "markdown",
   "id": "b3683b94",
   "metadata": {},
   "source": [
    "Популярные жанры в США и Европе  практически не отличаются. Первые 4 места одинаковые: \n",
    "- Action \n",
    "- Shooter \n",
    "- Sports \n",
    "- Role-Playing \t\n",
    "\n",
    "Пятое место разделили Misc (вероятно, miscellaneous) и Racing.\n",
    "\n",
    "В Японии на первом месте находится Role-Playing, на втором - Action. Третье место отдано - Misc. На четвертом и пятом - Fighting и Platform (соответственно)\n"
   ]
  },
  {
   "cell_type": "markdown",
   "id": "3a0a3b59",
   "metadata": {},
   "source": [
    "### Влияние рейтинга ESRB на продажи"
   ]
  },
  {
   "cell_type": "markdown",
   "id": "4ab0af03",
   "metadata": {},
   "source": [
    "Для начала опишем значения представленных в таблице рейтингов:\n",
    "\n",
    "- EC (Early childhood) — Для детей младшего возраста\n",
    "- E (Everyone) — Для всех\n",
    "- E10+ (Everyone 10 and older) — Для всех от 10 лет и старше\n",
    "- T (Teen) — Подросткам\n",
    "- M (Mature) — Для взрослых\n",
    "- AO (Adults Only 18+) — Только для взрослых\n",
    "- RP (Rating Pending) — Рейтинг ожидается"
   ]
  },
  {
   "cell_type": "code",
   "execution_count": 29,
   "id": "47f1a907",
   "metadata": {
    "scrolled": true
   },
   "outputs": [
    {
     "data": {
      "image/png": "[encoded data removed]",
      "text/plain": [
       "<Figure size 1080x360 with 1 Axes>"
      ]
     },
     "metadata": {
      "needs_background": "light"
     },
     "output_type": "display_data"
    }
   ],
   "source": [
    "data_filtered.pivot_table(index='rating', values=['na_sales', 'eu_sales', 'jp_sales'], \n",
    "                          aggfunc='sum').plot(kind='bar',figsize=(15,5), rot=45,\n",
    "                          title='Распределение продаж по рейтингу')\n",
    "plt.xlabel('Рейтинг')\n",
    "plt.ylabel('Продажи')\n",
    "plt.show()"
   ]
  },
  {
   "cell_type": "code",
   "execution_count": 30,
   "id": "cecdb291",
   "metadata": {},
   "outputs": [
    {
     "data": {
      "text/html": [
       "<div>\n",
       "<style scoped>\n",
       "    .dataframe tbody tr th:only-of-type {\n",
       "        vertical-align: middle;\n",
       "    }\n",
       "\n",
       "    .dataframe tbody tr th {\n",
       "        vertical-align: top;\n",
       "    }\n",
       "\n",
       "    .dataframe thead th {\n",
       "        text-align: right;\n",
       "    }\n",
       "</style>\n",
       "<table border=\"1\" class=\"dataframe\">\n",
       "  <thead>\n",
       "    <tr style=\"text-align: right;\">\n",
       "      <th></th>\n",
       "      <th>na_sales</th>\n",
       "    </tr>\n",
       "    <tr>\n",
       "      <th>rating</th>\n",
       "      <th></th>\n",
       "    </tr>\n",
       "  </thead>\n",
       "  <tbody>\n",
       "    <tr>\n",
       "      <td>M</td>\n",
       "      <td>308.45</td>\n",
       "    </tr>\n",
       "    <tr>\n",
       "      <td>E</td>\n",
       "      <td>170.17</td>\n",
       "    </tr>\n",
       "    <tr>\n",
       "      <td>E10+</td>\n",
       "      <td>117.72</td>\n",
       "    </tr>\n",
       "    <tr>\n",
       "      <td>T</td>\n",
       "      <td>109.31</td>\n",
       "    </tr>\n",
       "    <tr>\n",
       "      <td>EC</td>\n",
       "      <td>0.42</td>\n",
       "    </tr>\n",
       "  </tbody>\n",
       "</table>\n",
       "</div>"
      ],
      "text/plain": [
       "        na_sales\n",
       "rating          \n",
       "M         308.45\n",
       "E         170.17\n",
       "E10+      117.72\n",
       "T         109.31\n",
       "EC          0.42"
      ]
     },
     "metadata": {},
     "output_type": "display_data"
    },
    {
     "data": {
      "text/html": [
       "<div>\n",
       "<style scoped>\n",
       "    .dataframe tbody tr th:only-of-type {\n",
       "        vertical-align: middle;\n",
       "    }\n",
       "\n",
       "    .dataframe tbody tr th {\n",
       "        vertical-align: top;\n",
       "    }\n",
       "\n",
       "    .dataframe thead th {\n",
       "        text-align: right;\n",
       "    }\n",
       "</style>\n",
       "<table border=\"1\" class=\"dataframe\">\n",
       "  <thead>\n",
       "    <tr style=\"text-align: right;\">\n",
       "      <th></th>\n",
       "      <th>eu_sales</th>\n",
       "    </tr>\n",
       "    <tr>\n",
       "      <th>rating</th>\n",
       "      <th></th>\n",
       "    </tr>\n",
       "  </thead>\n",
       "  <tbody>\n",
       "    <tr>\n",
       "      <td>M</td>\n",
       "      <td>250.26</td>\n",
       "    </tr>\n",
       "    <tr>\n",
       "      <td>E</td>\n",
       "      <td>141.73</td>\n",
       "    </tr>\n",
       "    <tr>\n",
       "      <td>T</td>\n",
       "      <td>83.16</td>\n",
       "    </tr>\n",
       "    <tr>\n",
       "      <td>E10+</td>\n",
       "      <td>78.00</td>\n",
       "    </tr>\n",
       "    <tr>\n",
       "      <td>RP</td>\n",
       "      <td>0.03</td>\n",
       "    </tr>\n",
       "  </tbody>\n",
       "</table>\n",
       "</div>"
      ],
      "text/plain": [
       "        eu_sales\n",
       "rating          \n",
       "M         250.26\n",
       "E         141.73\n",
       "T          83.16\n",
       "E10+       78.00\n",
       "RP          0.03"
      ]
     },
     "metadata": {},
     "output_type": "display_data"
    },
    {
     "data": {
      "text/html": [
       "<div>\n",
       "<style scoped>\n",
       "    .dataframe tbody tr th:only-of-type {\n",
       "        vertical-align: middle;\n",
       "    }\n",
       "\n",
       "    .dataframe tbody tr th {\n",
       "        vertical-align: top;\n",
       "    }\n",
       "\n",
       "    .dataframe thead th {\n",
       "        text-align: right;\n",
       "    }\n",
       "</style>\n",
       "<table border=\"1\" class=\"dataframe\">\n",
       "  <thead>\n",
       "    <tr style=\"text-align: right;\">\n",
       "      <th></th>\n",
       "      <th>jp_sales</th>\n",
       "    </tr>\n",
       "    <tr>\n",
       "      <th>rating</th>\n",
       "      <th></th>\n",
       "    </tr>\n",
       "  </thead>\n",
       "  <tbody>\n",
       "    <tr>\n",
       "      <td>E</td>\n",
       "      <td>36.68</td>\n",
       "    </tr>\n",
       "    <tr>\n",
       "      <td>T</td>\n",
       "      <td>33.39</td>\n",
       "    </tr>\n",
       "    <tr>\n",
       "      <td>M</td>\n",
       "      <td>26.14</td>\n",
       "    </tr>\n",
       "    <tr>\n",
       "      <td>E10+</td>\n",
       "      <td>11.23</td>\n",
       "    </tr>\n",
       "    <tr>\n",
       "      <td>EC</td>\n",
       "      <td>0.00</td>\n",
       "    </tr>\n",
       "  </tbody>\n",
       "</table>\n",
       "</div>"
      ],
      "text/plain": [
       "        jp_sales\n",
       "rating          \n",
       "E          36.68\n",
       "T          33.39\n",
       "M          26.14\n",
       "E10+       11.23\n",
       "EC          0.00"
      ]
     },
     "metadata": {},
     "output_type": "display_data"
    }
   ],
   "source": [
    "for var in ['na_sales', 'eu_sales', 'jp_sales']:\n",
    "    display(data_filtered.pivot_table(index='rating', values=var, aggfunc='sum').\\\n",
    "            sort_values(by=var, ascending=False).head())"
   ]
  },
  {
   "cell_type": "markdown",
   "id": "4b1364e5",
   "metadata": {},
   "source": [
    "Снова наблюдаем, что в США и Европе у нас наблюдается похожая ситуация. Первое и второе места занимают Mature и Everyone соответственно. Затем идут расхождения. В США 3 место - Everyone 10+, а затем Teen. В Европе - наоборот.\n",
    "\n",
    "В Японии рейтинг расположился иначе:\n",
    "- Everyone\n",
    "- Teen\n",
    "- Mature\n",
    "- Everyone 10+"
   ]
  },
  {
   "cell_type": "markdown",
   "id": "7f5f3d48",
   "metadata": {},
   "source": [
    "### Выводы"
   ]
  },
  {
   "cell_type": "markdown",
   "id": "5c2c668a",
   "metadata": {},
   "source": [
    "Проанализировав зависимость дохода от платформы, жанра и рейтинга ESRB мы можем сформировать следующий портрет пользователя по регионам. Значения расположены по убыванию прибыли.\n",
    "\n",
    "**США**\n",
    "\n",
    "||Платформы|Жанры|Рейтинг| \n",
    "|:---|:--- |:--- |:---|\n",
    "|1|X360 (33% прибыли)|Action|M - Mature|\n",
    "|2|PS3 (25%) | Shooter|E - Everyone| \n",
    "|3||Sports|E10+ - Everyone 10+|\n",
    "|4||Role-Playing|T - Teen|\n",
    "\n",
    "\n",
    "\n",
    "**Европа**\n",
    "\n",
    "||Платформы|Жанры|Рейтинг| \n",
    "|:--| :-------------------- | :-------------------- | :-------------------- |\n",
    "|1|PS3 (30%)|Action|M - Mature|\n",
    "|2|PS4 (26%) | Shooter|E - Everyone| \n",
    "|3|X360 (22%)|Sports|E10+ - Everyone 10+|\n",
    "|4||Role-Playing|T - Teen|\n",
    "|5||Racing||\n",
    "\n",
    "\n",
    "\n",
    "**Япония**\n",
    "\n",
    "||Платформы|Жанры|Рейтинг| \n",
    "|:---|:--- |:--- |:---|\n",
    "|1|3DS (47%)|Role-Playing|E - Everyone|\n",
    "|2|PS3 (23%)|Action|T - Teen| \n",
    "|3||Fighting|M - Mature|\n",
    "|4||Platform|E10+ - Everyone 10+|\n",
    "\n",
    "Видим, что США и Европа довольно похожи по характеристике целевой аудитории. Основное отличие - в платформах, которые они используют. В США больше перспективен Xbox, а в Европе - PS. В Япони портрет пользователя координально отличается."
   ]
  },
  {
   "cell_type": "markdown",
   "id": "d9c5fd74",
   "metadata": {},
   "source": [
    "## Проверка гипотез и пояснения"
   ]
  },
  {
   "cell_type": "markdown",
   "id": "0207b05e",
   "metadata": {},
   "source": [
    "До начала стат-тестов нам необходимо отработать пропущенные значения, которые встречались в столбце `user_score`, иначе у нас не получится проверить гипотезу. Т.к. мы не сможем заменить эти значения никакими другими (без искажения данных), то просто удалим пропущенные значения."
   ]
  },
  {
   "cell_type": "code",
   "execution_count": 31,
   "id": "a22c115e",
   "metadata": {},
   "outputs": [],
   "source": [
    "data_filtered.dropna(subset=['user_score'], inplace=True)\n",
    "data_filtered.reset_index(drop=True, inplace=True)"
   ]
  },
  {
   "cell_type": "markdown",
   "id": "9a00ded0",
   "metadata": {},
   "source": [
    "### Средние пользовательские рейтинги платформ Xbox One и PC одинаковые"
   ]
  },
  {
   "cell_type": "markdown",
   "id": "bffdc33e",
   "metadata": {},
   "source": [
    "Выведем основную и альтернативную гипотезы, чтобы проверить, отличаются средние пользовательские рейтинги Xbox One и PC или нет.\n",
    "\n",
    "$\\begin{equation*}\n",
    " \\begin{cases}\n",
    "   H_0 :\\text{Средние пользовательские рейтинги платформ Xbox One и PC одинаковые}\\\\\n",
    "   H_1 :\\text{Средние пользовательские рейтинги платформ Xbox One и PC отличаются}\n",
    " \\end{cases}\n",
    "\\end{equation*}$\n",
    "\n",
    "Уровень статистической значимости: $\\alpha = 0.05$\n",
    "\n",
    "Посчитаем p-value, используя ttest для сравнения средних двух выборок (Xbox One и PC), которые друг от друга не зависят, дисперсия не равна. \n",
    "\n",
    "Если p-value будет меньше выбранного уровня значимости $\\alpha = 0.05$, то нулевую гипотезу о равенстве отвергнем. Иначе сделаем вывод, что данные не позволили нам отвергнуть нулевую гипотезу."
   ]
  },
  {
   "cell_type": "code",
   "execution_count": 32,
   "id": "0bc69f3c",
   "metadata": {
    "scrolled": true
   },
   "outputs": [
    {
     "name": "stdout",
     "output_type": "stream",
     "text": [
      "p-значение: 0.6130712247638477\n",
      "Не удалось отвергнуть нулевую гипотезу\n"
     ]
    }
   ],
   "source": [
    "data_xone = data_filtered.query('platform == \"XOne\"')\n",
    "data_pc = data_filtered.query('platform == \"PC\"')\n",
    "\n",
    "alpha = .05\n",
    "\n",
    "results = st.ttest_ind(data_xone['user_score'], data_pc['user_score'], equal_var=False)\n",
    "\n",
    "print('p-значение:', results.pvalue)\n",
    "\n",
    "if results.pvalue < alpha:\n",
    "    print('Отвергаем нулевую гипотезу')\n",
    "else:\n",
    "    print('Не удалось отвергнуть нулевую гипотезу')"
   ]
  },
  {
   "cell_type": "markdown",
   "id": "84499e7b",
   "metadata": {},
   "source": [
    "#### Выводы"
   ]
  },
  {
   "cell_type": "markdown",
   "id": "8dcbb507",
   "metadata": {},
   "source": [
    "p-value получилось больше выбранного уровня $\\alpha = 0.05$. \n",
    "\n",
    "Не получилось отвергнуть нулевую гипотезу. Вывод: средние пользовательские рейтинги платформ Xbox One и PC одинаковые."
   ]
  },
  {
   "cell_type": "markdown",
   "id": "379c5b6a",
   "metadata": {},
   "source": [
    "### Средние пользовательские рейтинги жанров Action и Sports разные"
   ]
  },
  {
   "cell_type": "markdown",
   "id": "48209f53",
   "metadata": {},
   "source": [
    "Выведем основную и альтернативную гипотезы, чтобы проверить, отличаются средние пользовательские рейтинги для жанров Action и Sports или нет.\n",
    "\n",
    "$\\begin{equation*}\n",
    " \\begin{cases}\n",
    "   H_0 :\\text{Средние пользовательские рейтинги жанров Action и Sports разные}\\\\\n",
    "   H_1 :\\text{Средние пользовательские рейтинги платформ Xbox One и PC одинаковые}\n",
    " \\end{cases}\n",
    "\\end{equation*}$\n",
    "\n",
    "Уровень статистической значимости: $\\alpha = 0.05$\n",
    "\n",
    "Посчитаем p-value, используя ttest для сравнения средних двух выборок (Action и Sports), которые друг от друга не зависят, дисперсия не равна. \n",
    "\n",
    "Если p-value будет меньше выбранного уровня значимости $\\alpha = 0.05$, то нулевую гипотезу о равенстве отвергнем. Иначе сделаем вывод, что данные не позволили нам отвергнуть нулевую гипотезу."
   ]
  },
  {
   "cell_type": "code",
   "execution_count": 33,
   "id": "ba57b78a",
   "metadata": {},
   "outputs": [
    {
     "name": "stdout",
     "output_type": "stream",
     "text": [
      "p-значение: 8.285648549432565e-19\n",
      "Отвергаем нулевую гипотезу\n"
     ]
    }
   ],
   "source": [
    "data_action = data_filtered.query('genre == \"Action\"')\n",
    "data_sports = data_filtered.query('genre == \"Sports\"')\n",
    "\n",
    "alpha = .05\n",
    "\n",
    "results = st.ttest_ind(data_action['user_score'], data_sports['user_score'], equal_var=False)\n",
    "\n",
    "print('p-значение:', results.pvalue)\n",
    "\n",
    "if results.pvalue < alpha:\n",
    "    print('Отвергаем нулевую гипотезу')\n",
    "else:\n",
    "    print('Не удалось отвергнуть нулевую гипотезу')"
   ]
  },
  {
   "cell_type": "markdown",
   "id": "d5ab8f23",
   "metadata": {},
   "source": [
    "#### Выводы"
   ]
  },
  {
   "cell_type": "markdown",
   "id": "2891f120",
   "metadata": {},
   "source": [
    "p-value получилось меньше выбранного уровня $\\alpha = 0.05$. \n",
    "\n",
    "Отвергаем нулевую гипотезу. Вывод: средние пользовательские рейтинги жанров Action и Sports одинаковые."
   ]
  },
  {
   "cell_type": "markdown",
   "id": "8b101a5a",
   "metadata": {},
   "source": [
    "## Общий вывод"
   ]
  },
  {
   "cell_type": "markdown",
   "id": "74a8c393",
   "metadata": {},
   "source": [
    "В рамках проведённого исследования мы изучили данные. Изменили формат значений в таблице, заполнили пропущенные значения и изменили их формат для удобства работы.\n",
    "\n",
    "Проанализировали распределение платформ по годам и посчитали общую прибыль, а также топ-5 платформ, жарнов и рейтингов для США (Северная Америка), Европы и Японии, чтобы определить портрет целевой аудитории.\n",
    "\n",
    "Также проверили 2 гипотезы:\n",
    "\n",
    "1. Средние пользовательские рейтинги платформ Xbox One и PC одинаковые (не удалось отвергнуть).\n",
    "2. Средние пользовательские рейтинги жанров Action и Sports разные (отвергнута).\n",
    "\n",
    "**Исходя из проведённых исследований мы можем сделать следующие выводы:**\n",
    "\n",
    "Cреднее время продолжительности жизни платформы на рынке - 6 лет. При этом пик роста популярности платформы происходит 3-4 года, после чего, продажи начинают падать.  \n",
    "\n",
    "Также, мы видим, что за последние 6 лет на рынке существует только 3 конкурента: PS, Xbox, DS. Увеличение прибыли наблюдается только у PS4 (которая плавно сменила PS3). Продажи 3DS демонстрируют относительную стабильность. Остальные платформы показывают уменьшение прибыли. \n",
    "\n",
    "Мы выяснили, что самая высокая медиана продаж была на платформе X360, затем - XOne, PS3 и PS4. Самый большой размах при этом у X360 и PS4. Из этого можно сделать вывод, что Xbox и PS являются наиболее перспективными и стабильными платформами, т.к. новые версии органично сменяют старые.\n",
    "\n",
    "На примере популярных платформ мы выяснили, что оценка пользователей на доход практически не влияет. Оценка критиков больше влияет на  доход, но корреляцию тоже нельзя назвать ярко выраженной. \n",
    "\n",
    "Самая высокая медиана дохода у жанра shooter. У него же самый большой размах в значениях, поэтому он является наиболее перспективным. Затем идут sport и platform (размах у platform чуть больше). Самые низкие продажи у жанра adventure и puzzle. \n",
    "\n",
    "**Портрет целевой аудитории**\n",
    "\n",
    "Проанализировав зависимость дохода от платформы, жанра и рейтинга ESRB мы можем сформировать следующий портрет потенциально популярного продукта по регионам:\n",
    "\n",
    "|Страна|Платформа|Жанр|Рейтинг| \n",
    "|:---|:--- |:--- |:---|\n",
    "|США|X360|Action|M - Mature|\n",
    "|Европа|PS3 (30%)|Action|M - Mature| \n",
    "|Япония|3DS (47%)|Role-Playing|E - Everyone|\n",
    "\n",
    "Видим, что США и Европа довольно похожи по характеристике целевой аудитории. Основное отличие - в платформах, которые они используют. В США более перспективныой является Xbox, в Европе - PS, ав Японии - DS. В Япони портрет пользователя координально отличается от западного и европейского.\n",
    "\n",
    "Из этого можно сделать вывод, что для США и Европы мы можем делать похожие игровые продукты и адаптировать их под Xbox/PS. Для Японии нужно запускать нишевые продукты, исходя из тех наиболее популярных значений, которые удалось выяснить."
   ]
  },
  {
   "cell_type": "code",
   "execution_count": null,
   "id": "f11d48be",
   "metadata": {},
   "outputs": [],
   "source": []
  }
 ],
 "metadata": {
  "ExecuteTimeLog": [
   {
    "duration": 1576,
    "start_time": "2022-02-13T15:45:11.132Z"
   },
   {
    "duration": 245,
    "start_time": "2022-02-13T15:45:12.710Z"
   },
   {
    "duration": 7,
    "start_time": "2022-02-13T15:45:12.958Z"
   },
   {
    "duration": 29,
    "start_time": "2022-02-13T15:45:12.968Z"
   },
   {
    "duration": 48,
    "start_time": "2022-02-13T15:45:13.001Z"
   },
   {
    "duration": 37,
    "start_time": "2022-02-13T15:45:13.052Z"
   },
   {
    "duration": 7,
    "start_time": "2022-02-13T15:45:13.092Z"
   },
   {
    "duration": 62,
    "start_time": "2022-02-13T15:45:13.105Z"
   },
   {
    "duration": 16,
    "start_time": "2022-02-13T15:45:13.172Z"
   },
   {
    "duration": 6,
    "start_time": "2022-02-13T15:45:13.190Z"
   },
   {
    "duration": 63,
    "start_time": "2022-02-13T15:45:13.199Z"
   },
   {
    "duration": 8,
    "start_time": "2022-02-13T15:45:13.265Z"
   },
   {
    "duration": 698,
    "start_time": "2022-02-13T15:45:13.275Z"
   },
   {
    "duration": -51,
    "start_time": "2022-02-13T15:45:14.027Z"
   },
   {
    "duration": -53,
    "start_time": "2022-02-13T15:45:14.031Z"
   },
   {
    "duration": -55,
    "start_time": "2022-02-13T15:45:14.034Z"
   },
   {
    "duration": -58,
    "start_time": "2022-02-13T15:45:14.038Z"
   },
   {
    "duration": -60,
    "start_time": "2022-02-13T15:45:14.042Z"
   },
   {
    "duration": -61,
    "start_time": "2022-02-13T15:45:14.045Z"
   },
   {
    "duration": -95,
    "start_time": "2022-02-13T15:45:14.081Z"
   },
   {
    "duration": -98,
    "start_time": "2022-02-13T15:45:14.085Z"
   },
   {
    "duration": -100,
    "start_time": "2022-02-13T15:45:14.089Z"
   },
   {
    "duration": -101,
    "start_time": "2022-02-13T15:45:14.092Z"
   },
   {
    "duration": -103,
    "start_time": "2022-02-13T15:45:14.095Z"
   },
   {
    "duration": -104,
    "start_time": "2022-02-13T15:45:14.098Z"
   },
   {
    "duration": -106,
    "start_time": "2022-02-13T15:45:14.102Z"
   },
   {
    "duration": -108,
    "start_time": "2022-02-13T15:45:14.105Z"
   },
   {
    "duration": -110,
    "start_time": "2022-02-13T15:45:14.109Z"
   },
   {
    "duration": -112,
    "start_time": "2022-02-13T15:45:14.112Z"
   },
   {
    "duration": -114,
    "start_time": "2022-02-13T15:45:14.115Z"
   },
   {
    "duration": -116,
    "start_time": "2022-02-13T15:45:14.119Z"
   },
   {
    "duration": -119,
    "start_time": "2022-02-13T15:45:14.123Z"
   },
   {
    "duration": 18,
    "start_time": "2022-02-13T15:49:47.517Z"
   },
   {
    "duration": 5,
    "start_time": "2022-02-13T15:49:47.538Z"
   },
   {
    "duration": 1048,
    "start_time": "2022-02-13T15:49:47.547Z"
   },
   {
    "duration": -204,
    "start_time": "2022-02-13T15:49:48.804Z"
   },
   {
    "duration": -205,
    "start_time": "2022-02-13T15:49:48.807Z"
   },
   {
    "duration": -207,
    "start_time": "2022-02-13T15:49:48.810Z"
   },
   {
    "duration": -209,
    "start_time": "2022-02-13T15:49:48.814Z"
   },
   {
    "duration": -227,
    "start_time": "2022-02-13T15:49:48.834Z"
   },
   {
    "duration": -234,
    "start_time": "2022-02-13T15:49:48.842Z"
   },
   {
    "duration": -236,
    "start_time": "2022-02-13T15:49:48.846Z"
   },
   {
    "duration": -245,
    "start_time": "2022-02-13T15:49:48.856Z"
   },
   {
    "duration": -294,
    "start_time": "2022-02-13T15:49:48.907Z"
   },
   {
    "duration": -296,
    "start_time": "2022-02-13T15:49:48.911Z"
   },
   {
    "duration": -304,
    "start_time": "2022-02-13T15:49:48.920Z"
   },
   {
    "duration": -276,
    "start_time": "2022-02-13T15:49:48.924Z"
   },
   {
    "duration": -311,
    "start_time": "2022-02-13T15:49:48.961Z"
   },
   {
    "duration": -314,
    "start_time": "2022-02-13T15:49:48.965Z"
   },
   {
    "duration": -319,
    "start_time": "2022-02-13T15:49:48.972Z"
   },
   {
    "duration": -322,
    "start_time": "2022-02-13T15:49:48.976Z"
   },
   {
    "duration": 83053,
    "start_time": "2022-02-13T15:58:21.049Z"
   },
   {
    "duration": 77507,
    "start_time": "2022-02-13T16:01:30.855Z"
   },
   {
    "duration": 1615,
    "start_time": "2022-02-13T16:02:48.365Z"
   },
   {
    "duration": 243,
    "start_time": "2022-02-13T16:02:49.983Z"
   },
   {
    "duration": 20,
    "start_time": "2022-02-13T16:02:50.229Z"
   },
   {
    "duration": 22,
    "start_time": "2022-02-13T16:02:50.252Z"
   },
   {
    "duration": 14,
    "start_time": "2022-02-13T16:02:50.277Z"
   },
   {
    "duration": 23,
    "start_time": "2022-02-13T16:02:50.294Z"
   },
   {
    "duration": 7,
    "start_time": "2022-02-13T16:02:50.351Z"
   },
   {
    "duration": 21,
    "start_time": "2022-02-13T16:02:50.361Z"
   },
   {
    "duration": 13,
    "start_time": "2022-02-13T16:02:50.385Z"
   },
   {
    "duration": 6,
    "start_time": "2022-02-13T16:02:50.401Z"
   },
   {
    "duration": 69,
    "start_time": "2022-02-13T16:02:50.409Z"
   },
   {
    "duration": 7,
    "start_time": "2022-02-13T16:02:50.481Z"
   },
   {
    "duration": 721,
    "start_time": "2022-02-13T16:02:50.490Z"
   },
   {
    "duration": -314,
    "start_time": "2022-02-13T16:02:51.528Z"
   },
   {
    "duration": -317,
    "start_time": "2022-02-13T16:02:51.532Z"
   },
   {
    "duration": -318,
    "start_time": "2022-02-13T16:02:51.535Z"
   },
   {
    "duration": -347,
    "start_time": "2022-02-13T16:02:51.566Z"
   },
   {
    "duration": -353,
    "start_time": "2022-02-13T16:02:51.573Z"
   },
   {
    "duration": -356,
    "start_time": "2022-02-13T16:02:51.578Z"
   },
   {
    "duration": -365,
    "start_time": "2022-02-13T16:02:51.588Z"
   },
   {
    "duration": -366,
    "start_time": "2022-02-13T16:02:51.591Z"
   },
   {
    "duration": -398,
    "start_time": "2022-02-13T16:02:51.624Z"
   },
   {
    "duration": -379,
    "start_time": "2022-02-13T16:02:51.628Z"
   },
   {
    "duration": -406,
    "start_time": "2022-02-13T16:02:51.656Z"
   },
   {
    "duration": -408,
    "start_time": "2022-02-13T16:02:51.660Z"
   },
   {
    "duration": -433,
    "start_time": "2022-02-13T16:02:51.686Z"
   },
   {
    "duration": -434,
    "start_time": "2022-02-13T16:02:51.689Z"
   },
   {
    "duration": -448,
    "start_time": "2022-02-13T16:02:51.704Z"
   },
   {
    "duration": -450,
    "start_time": "2022-02-13T16:02:51.708Z"
   },
   {
    "duration": -457,
    "start_time": "2022-02-13T16:02:51.716Z"
   },
   {
    "duration": -458,
    "start_time": "2022-02-13T16:02:51.719Z"
   },
   {
    "duration": -481,
    "start_time": "2022-02-13T16:02:51.744Z"
   },
   {
    "duration": 201331,
    "start_time": "2022-02-13T16:06:31.453Z"
   },
   {
    "duration": 1781,
    "start_time": "2022-02-13T16:09:52.787Z"
   },
   {
    "duration": 564,
    "start_time": "2022-02-13T16:09:54.571Z"
   },
   {
    "duration": 13,
    "start_time": "2022-02-13T16:09:55.138Z"
   },
   {
    "duration": 35,
    "start_time": "2022-02-13T16:09:55.154Z"
   },
   {
    "duration": 38,
    "start_time": "2022-02-13T16:09:55.192Z"
   },
   {
    "duration": 38,
    "start_time": "2022-02-13T16:09:55.233Z"
   },
   {
    "duration": 7,
    "start_time": "2022-02-13T16:09:55.277Z"
   },
   {
    "duration": 83,
    "start_time": "2022-02-13T16:09:55.287Z"
   },
   {
    "duration": 19,
    "start_time": "2022-02-13T16:09:55.373Z"
   },
   {
    "duration": 9,
    "start_time": "2022-02-13T16:09:55.450Z"
   },
   {
    "duration": 96,
    "start_time": "2022-02-13T16:09:55.462Z"
   },
   {
    "duration": 11,
    "start_time": "2022-02-13T16:09:55.561Z"
   },
   {
    "duration": 2391,
    "start_time": "2022-02-13T16:09:55.577Z"
   },
   {
    "duration": -1580,
    "start_time": "2022-02-13T16:09:59.553Z"
   },
   {
    "duration": -1583,
    "start_time": "2022-02-13T16:09:59.557Z"
   },
   {
    "duration": -1583,
    "start_time": "2022-02-13T16:09:59.559Z"
   },
   {
    "duration": -1585,
    "start_time": "2022-02-13T16:09:59.562Z"
   },
   {
    "duration": -1586,
    "start_time": "2022-02-13T16:09:59.565Z"
   },
   {
    "duration": -1589,
    "start_time": "2022-02-13T16:09:59.570Z"
   },
   {
    "duration": -1590,
    "start_time": "2022-02-13T16:09:59.573Z"
   },
   {
    "duration": -1591,
    "start_time": "2022-02-13T16:09:59.576Z"
   },
   {
    "duration": -1594,
    "start_time": "2022-02-13T16:09:59.580Z"
   },
   {
    "duration": -1600,
    "start_time": "2022-02-13T16:09:59.588Z"
   },
   {
    "duration": -1603,
    "start_time": "2022-02-13T16:09:59.592Z"
   },
   {
    "duration": -1606,
    "start_time": "2022-02-13T16:09:59.597Z"
   },
   {
    "duration": -1608,
    "start_time": "2022-02-13T16:09:59.600Z"
   },
   {
    "duration": -1610,
    "start_time": "2022-02-13T16:09:59.604Z"
   },
   {
    "duration": -1611,
    "start_time": "2022-02-13T16:09:59.607Z"
   },
   {
    "duration": -1613,
    "start_time": "2022-02-13T16:09:59.610Z"
   },
   {
    "duration": -1623,
    "start_time": "2022-02-13T16:09:59.622Z"
   },
   {
    "duration": -1632,
    "start_time": "2022-02-13T16:09:59.632Z"
   },
   {
    "duration": -1633,
    "start_time": "2022-02-13T16:09:59.635Z"
   },
   {
    "duration": 86746,
    "start_time": "2022-02-13T16:18:37.189Z"
   },
   {
    "duration": 1651,
    "start_time": "2022-02-13T16:20:03.938Z"
   },
   {
    "duration": 404,
    "start_time": "2022-02-13T16:20:05.592Z"
   },
   {
    "duration": 7,
    "start_time": "2022-02-13T16:20:06.000Z"
   },
   {
    "duration": 43,
    "start_time": "2022-02-13T16:20:06.010Z"
   },
   {
    "duration": 15,
    "start_time": "2022-02-13T16:20:06.056Z"
   },
   {
    "duration": 22,
    "start_time": "2022-02-13T16:20:06.073Z"
   },
   {
    "duration": 18,
    "start_time": "2022-02-13T16:20:06.099Z"
   },
   {
    "duration": 42,
    "start_time": "2022-02-13T16:20:06.120Z"
   },
   {
    "duration": 15,
    "start_time": "2022-02-13T16:20:06.165Z"
   },
   {
    "duration": 7,
    "start_time": "2022-02-13T16:20:06.182Z"
   },
   {
    "duration": 61,
    "start_time": "2022-02-13T16:20:06.191Z"
   },
   {
    "duration": 8,
    "start_time": "2022-02-13T16:20:06.255Z"
   },
   {
    "duration": 1474,
    "start_time": "2022-02-13T16:20:06.265Z"
   },
   {
    "duration": -483,
    "start_time": "2022-02-13T16:20:08.231Z"
   },
   {
    "duration": -516,
    "start_time": "2022-02-13T16:20:08.266Z"
   },
   {
    "duration": -523,
    "start_time": "2022-02-13T16:20:08.275Z"
   },
   {
    "duration": -525,
    "start_time": "2022-02-13T16:20:08.278Z"
   },
   {
    "duration": -526,
    "start_time": "2022-02-13T16:20:08.281Z"
   },
   {
    "duration": -529,
    "start_time": "2022-02-13T16:20:08.285Z"
   },
   {
    "duration": -595,
    "start_time": "2022-02-13T16:20:08.352Z"
   },
   {
    "duration": -597,
    "start_time": "2022-02-13T16:20:08.356Z"
   },
   {
    "duration": -597,
    "start_time": "2022-02-13T16:20:08.358Z"
   },
   {
    "duration": -600,
    "start_time": "2022-02-13T16:20:08.362Z"
   },
   {
    "duration": -641,
    "start_time": "2022-02-13T16:20:08.405Z"
   },
   {
    "duration": -643,
    "start_time": "2022-02-13T16:20:08.408Z"
   },
   {
    "duration": -643,
    "start_time": "2022-02-13T16:20:08.410Z"
   },
   {
    "duration": -644,
    "start_time": "2022-02-13T16:20:08.413Z"
   },
   {
    "duration": -646,
    "start_time": "2022-02-13T16:20:08.416Z"
   },
   {
    "duration": -648,
    "start_time": "2022-02-13T16:20:08.420Z"
   },
   {
    "duration": -672,
    "start_time": "2022-02-13T16:20:08.445Z"
   },
   {
    "duration": -679,
    "start_time": "2022-02-13T16:20:08.453Z"
   },
   {
    "duration": -680,
    "start_time": "2022-02-13T16:20:08.456Z"
   },
   {
    "duration": 23,
    "start_time": "2022-02-13T16:32:28.485Z"
   },
   {
    "duration": 7,
    "start_time": "2022-02-13T16:32:29.510Z"
   },
   {
    "duration": 1126,
    "start_time": "2022-02-13T16:32:30.556Z"
   },
   {
    "duration": 31,
    "start_time": "2022-02-13T16:32:31.848Z"
   },
   {
    "duration": 1092,
    "start_time": "2022-02-13T16:32:33.872Z"
   },
   {
    "duration": 969,
    "start_time": "2022-02-13T16:32:35.022Z"
   },
   {
    "duration": 1141,
    "start_time": "2022-02-13T16:32:35.994Z"
   },
   {
    "duration": 27,
    "start_time": "2022-02-13T16:32:37.140Z"
   },
   {
    "duration": 16,
    "start_time": "2022-02-13T16:32:37.170Z"
   },
   {
    "duration": 1155,
    "start_time": "2022-02-13T16:32:37.401Z"
   },
   {
    "duration": 689,
    "start_time": "2022-02-13T16:32:39.318Z"
   },
   {
    "duration": -117,
    "start_time": "2022-02-13T16:32:40.128Z"
   },
   {
    "duration": 672,
    "start_time": "2022-02-13T16:32:40.281Z"
   },
   {
    "duration": -100,
    "start_time": "2022-02-13T16:32:41.057Z"
   },
   {
    "duration": 746,
    "start_time": "2022-02-13T16:32:41.155Z"
   },
   {
    "duration": -107,
    "start_time": "2022-02-13T16:32:42.012Z"
   },
   {
    "duration": 9,
    "start_time": "2022-02-13T16:32:42.640Z"
   },
   {
    "duration": 15,
    "start_time": "2022-02-13T16:32:43.461Z"
   },
   {
    "duration": 18,
    "start_time": "2022-02-13T16:32:44.984Z"
   },
   {
    "duration": 3,
    "start_time": "2022-02-13T20:41:08.096Z"
   },
   {
    "duration": 1224,
    "start_time": "2022-02-13T20:41:08.103Z"
   },
   {
    "duration": 330,
    "start_time": "2022-02-13T20:41:09.329Z"
   },
   {
    "duration": 5,
    "start_time": "2022-02-13T20:41:09.661Z"
   },
   {
    "duration": 18,
    "start_time": "2022-02-13T20:41:09.667Z"
   },
   {
    "duration": 12,
    "start_time": "2022-02-13T20:41:09.686Z"
   },
   {
    "duration": 21,
    "start_time": "2022-02-13T20:41:09.700Z"
   },
   {
    "duration": 4,
    "start_time": "2022-02-13T20:41:09.723Z"
   },
   {
    "duration": 21,
    "start_time": "2022-02-13T20:41:09.730Z"
   },
   {
    "duration": 11,
    "start_time": "2022-02-13T20:41:09.754Z"
   },
   {
    "duration": 6,
    "start_time": "2022-02-13T20:41:09.767Z"
   },
   {
    "duration": 27,
    "start_time": "2022-02-13T20:41:09.774Z"
   },
   {
    "duration": 8,
    "start_time": "2022-02-13T20:41:09.803Z"
   },
   {
    "duration": 589,
    "start_time": "2022-02-13T20:41:09.813Z"
   },
   {
    "duration": -732,
    "start_time": "2022-02-13T20:41:11.139Z"
   },
   {
    "duration": -736,
    "start_time": "2022-02-13T20:41:11.144Z"
   },
   {
    "duration": -740,
    "start_time": "2022-02-13T20:41:11.149Z"
   },
   {
    "duration": -748,
    "start_time": "2022-02-13T20:41:11.159Z"
   },
   {
    "duration": -753,
    "start_time": "2022-02-13T20:41:11.165Z"
   },
   {
    "duration": -761,
    "start_time": "2022-02-13T20:41:11.174Z"
   },
   {
    "duration": -764,
    "start_time": "2022-02-13T20:41:11.179Z"
   },
   {
    "duration": -769,
    "start_time": "2022-02-13T20:41:11.185Z"
   },
   {
    "duration": -809,
    "start_time": "2022-02-13T20:41:11.226Z"
   },
   {
    "duration": -813,
    "start_time": "2022-02-13T20:41:11.231Z"
   },
   {
    "duration": -820,
    "start_time": "2022-02-13T20:41:11.239Z"
   },
   {
    "duration": -823,
    "start_time": "2022-02-13T20:41:11.244Z"
   },
   {
    "duration": -826,
    "start_time": "2022-02-13T20:41:11.248Z"
   },
   {
    "duration": -834,
    "start_time": "2022-02-13T20:41:11.257Z"
   },
   {
    "duration": -838,
    "start_time": "2022-02-13T20:41:11.262Z"
   },
   {
    "duration": -842,
    "start_time": "2022-02-13T20:41:11.267Z"
   },
   {
    "duration": -849,
    "start_time": "2022-02-13T20:41:11.275Z"
   },
   {
    "duration": -853,
    "start_time": "2022-02-13T20:41:11.280Z"
   },
   {
    "duration": -861,
    "start_time": "2022-02-13T20:41:11.289Z"
   },
   {
    "duration": 443,
    "start_time": "2022-02-13T20:41:56.721Z"
   },
   {
    "duration": 455,
    "start_time": "2022-02-13T20:42:02.321Z"
   },
   {
    "duration": 84,
    "start_time": "2022-02-13T20:42:06.887Z"
   },
   {
    "duration": 162,
    "start_time": "2022-02-13T20:42:17.176Z"
   },
   {
    "duration": 386,
    "start_time": "2022-02-13T20:42:23.154Z"
   },
   {
    "duration": 513,
    "start_time": "2022-02-13T20:43:01.530Z"
   },
   {
    "duration": 387,
    "start_time": "2022-02-13T20:43:08.073Z"
   },
   {
    "duration": 4,
    "start_time": "2022-02-13T20:43:31.097Z"
   },
   {
    "duration": 1398,
    "start_time": "2022-02-13T20:43:31.106Z"
   },
   {
    "duration": 215,
    "start_time": "2022-02-13T20:43:32.507Z"
   },
   {
    "duration": 6,
    "start_time": "2022-02-13T20:43:32.724Z"
   },
   {
    "duration": 47,
    "start_time": "2022-02-13T20:43:32.732Z"
   },
   {
    "duration": 24,
    "start_time": "2022-02-13T20:43:32.781Z"
   },
   {
    "duration": 32,
    "start_time": "2022-02-13T20:43:32.807Z"
   },
   {
    "duration": 21,
    "start_time": "2022-02-13T20:43:32.841Z"
   },
   {
    "duration": 25,
    "start_time": "2022-02-13T20:43:32.866Z"
   },
   {
    "duration": 22,
    "start_time": "2022-02-13T20:43:32.893Z"
   },
   {
    "duration": 12,
    "start_time": "2022-02-13T20:43:32.917Z"
   },
   {
    "duration": 30,
    "start_time": "2022-02-13T20:43:32.931Z"
   },
   {
    "duration": 25,
    "start_time": "2022-02-13T20:43:32.963Z"
   },
   {
    "duration": 577,
    "start_time": "2022-02-13T20:43:32.990Z"
   },
   {
    "duration": 18,
    "start_time": "2022-02-13T20:43:33.569Z"
   },
   {
    "duration": 21,
    "start_time": "2022-02-13T20:43:33.589Z"
   },
   {
    "duration": 729,
    "start_time": "2022-02-13T20:43:33.612Z"
   },
   {
    "duration": -706,
    "start_time": "2022-02-13T20:43:35.050Z"
   },
   {
    "duration": -713,
    "start_time": "2022-02-13T20:43:35.059Z"
   },
   {
    "duration": -726,
    "start_time": "2022-02-13T20:43:35.073Z"
   },
   {
    "duration": -733,
    "start_time": "2022-02-13T20:43:35.081Z"
   },
   {
    "duration": -745,
    "start_time": "2022-02-13T20:43:35.093Z"
   },
   {
    "duration": -752,
    "start_time": "2022-02-13T20:43:35.101Z"
   },
   {
    "duration": -756,
    "start_time": "2022-02-13T20:43:35.107Z"
   },
   {
    "duration": -760,
    "start_time": "2022-02-13T20:43:35.112Z"
   },
   {
    "duration": -767,
    "start_time": "2022-02-13T20:43:35.120Z"
   },
   {
    "duration": -770,
    "start_time": "2022-02-13T20:43:35.124Z"
   },
   {
    "duration": -774,
    "start_time": "2022-02-13T20:43:35.129Z"
   },
   {
    "duration": -781,
    "start_time": "2022-02-13T20:43:35.137Z"
   },
   {
    "duration": -783,
    "start_time": "2022-02-13T20:43:35.140Z"
   },
   {
    "duration": -788,
    "start_time": "2022-02-13T20:43:35.146Z"
   },
   {
    "duration": -795,
    "start_time": "2022-02-13T20:43:35.154Z"
   },
   {
    "duration": -797,
    "start_time": "2022-02-13T20:43:35.158Z"
   },
   {
    "duration": 858,
    "start_time": "2022-02-13T20:45:26.552Z"
   },
   {
    "duration": 3,
    "start_time": "2022-02-13T20:45:40.615Z"
   },
   {
    "duration": 1275,
    "start_time": "2022-02-13T20:45:40.623Z"
   },
   {
    "duration": 219,
    "start_time": "2022-02-13T20:45:41.901Z"
   },
   {
    "duration": 5,
    "start_time": "2022-02-13T20:45:42.122Z"
   },
   {
    "duration": 25,
    "start_time": "2022-02-13T20:45:42.130Z"
   },
   {
    "duration": 10,
    "start_time": "2022-02-13T20:45:42.157Z"
   },
   {
    "duration": 42,
    "start_time": "2022-02-13T20:45:42.169Z"
   },
   {
    "duration": 5,
    "start_time": "2022-02-13T20:45:42.213Z"
   },
   {
    "duration": 16,
    "start_time": "2022-02-13T20:45:42.221Z"
   },
   {
    "duration": 13,
    "start_time": "2022-02-13T20:45:42.239Z"
   },
   {
    "duration": 5,
    "start_time": "2022-02-13T20:45:42.254Z"
   },
   {
    "duration": 57,
    "start_time": "2022-02-13T20:45:42.261Z"
   },
   {
    "duration": 6,
    "start_time": "2022-02-13T20:45:42.320Z"
   },
   {
    "duration": 410,
    "start_time": "2022-02-13T20:45:42.328Z"
   },
   {
    "duration": 12,
    "start_time": "2022-02-13T20:45:42.740Z"
   },
   {
    "duration": 4,
    "start_time": "2022-02-13T20:45:42.754Z"
   },
   {
    "duration": 900,
    "start_time": "2022-02-13T20:45:42.759Z"
   },
   {
    "duration": 16,
    "start_time": "2022-02-13T20:45:43.661Z"
   },
   {
    "duration": 607,
    "start_time": "2022-02-13T20:45:43.678Z"
   },
   {
    "duration": 642,
    "start_time": "2022-02-13T20:45:44.287Z"
   },
   {
    "duration": 606,
    "start_time": "2022-02-13T20:45:44.931Z"
   },
   {
    "duration": 13,
    "start_time": "2022-02-13T20:45:45.539Z"
   },
   {
    "duration": 20,
    "start_time": "2022-02-13T20:45:45.554Z"
   },
   {
    "duration": 564,
    "start_time": "2022-02-13T20:45:45.578Z"
   },
   {
    "duration": 667,
    "start_time": "2022-02-13T20:45:46.145Z"
   },
   {
    "duration": -668,
    "start_time": "2022-02-13T20:45:47.482Z"
   },
   {
    "duration": -676,
    "start_time": "2022-02-13T20:45:47.492Z"
   },
   {
    "duration": -687,
    "start_time": "2022-02-13T20:45:47.504Z"
   },
   {
    "duration": -692,
    "start_time": "2022-02-13T20:45:47.510Z"
   },
   {
    "duration": -700,
    "start_time": "2022-02-13T20:45:47.519Z"
   },
   {
    "duration": -704,
    "start_time": "2022-02-13T20:45:47.524Z"
   },
   {
    "duration": -712,
    "start_time": "2022-02-13T20:45:47.533Z"
   },
   {
    "duration": -716,
    "start_time": "2022-02-13T20:45:47.538Z"
   },
   {
    "duration": 346,
    "start_time": "2022-02-13T20:47:21.255Z"
   },
   {
    "duration": 4,
    "start_time": "2022-02-13T20:47:31.872Z"
   },
   {
    "duration": 1256,
    "start_time": "2022-02-13T20:47:31.880Z"
   },
   {
    "duration": 183,
    "start_time": "2022-02-13T20:47:33.139Z"
   },
   {
    "duration": 5,
    "start_time": "2022-02-13T20:47:33.324Z"
   },
   {
    "duration": 23,
    "start_time": "2022-02-13T20:47:33.331Z"
   },
   {
    "duration": 12,
    "start_time": "2022-02-13T20:47:33.356Z"
   },
   {
    "duration": 42,
    "start_time": "2022-02-13T20:47:33.370Z"
   },
   {
    "duration": 5,
    "start_time": "2022-02-13T20:47:33.414Z"
   },
   {
    "duration": 17,
    "start_time": "2022-02-13T20:47:33.421Z"
   },
   {
    "duration": 12,
    "start_time": "2022-02-13T20:47:33.440Z"
   },
   {
    "duration": 5,
    "start_time": "2022-02-13T20:47:33.454Z"
   },
   {
    "duration": 51,
    "start_time": "2022-02-13T20:47:33.460Z"
   },
   {
    "duration": 7,
    "start_time": "2022-02-13T20:47:33.513Z"
   },
   {
    "duration": 442,
    "start_time": "2022-02-13T20:47:33.522Z"
   },
   {
    "duration": 13,
    "start_time": "2022-02-13T20:47:33.966Z"
   },
   {
    "duration": 4,
    "start_time": "2022-02-13T20:47:33.980Z"
   },
   {
    "duration": 904,
    "start_time": "2022-02-13T20:47:33.986Z"
   },
   {
    "duration": 25,
    "start_time": "2022-02-13T20:47:34.892Z"
   },
   {
    "duration": 583,
    "start_time": "2022-02-13T20:47:34.919Z"
   },
   {
    "duration": 662,
    "start_time": "2022-02-13T20:47:35.507Z"
   },
   {
    "duration": 691,
    "start_time": "2022-02-13T20:47:36.171Z"
   },
   {
    "duration": 12,
    "start_time": "2022-02-13T20:47:36.864Z"
   },
   {
    "duration": 28,
    "start_time": "2022-02-13T20:47:36.879Z"
   },
   {
    "duration": 570,
    "start_time": "2022-02-13T20:47:36.911Z"
   },
   {
    "duration": 338,
    "start_time": "2022-02-13T20:47:37.484Z"
   },
   {
    "duration": 43,
    "start_time": "2022-02-13T20:47:37.824Z"
   },
   {
    "duration": 629,
    "start_time": "2022-02-13T20:47:37.869Z"
   },
   {
    "duration": -671,
    "start_time": "2022-02-13T20:47:39.172Z"
   },
   {
    "duration": -679,
    "start_time": "2022-02-13T20:47:39.180Z"
   },
   {
    "duration": -680,
    "start_time": "2022-02-13T20:47:39.186Z"
   },
   {
    "duration": -687,
    "start_time": "2022-02-13T20:47:39.195Z"
   },
   {
    "duration": -692,
    "start_time": "2022-02-13T20:47:39.201Z"
   },
   {
    "duration": -700,
    "start_time": "2022-02-13T20:47:39.210Z"
   },
   {
    "duration": 335,
    "start_time": "2022-02-13T20:48:25.271Z"
   },
   {
    "duration": 3,
    "start_time": "2022-02-13T20:50:19.201Z"
   },
   {
    "duration": 1267,
    "start_time": "2022-02-13T20:50:19.208Z"
   },
   {
    "duration": 189,
    "start_time": "2022-02-13T20:50:20.477Z"
   },
   {
    "duration": 6,
    "start_time": "2022-02-13T20:50:20.668Z"
   },
   {
    "duration": 33,
    "start_time": "2022-02-13T20:50:20.675Z"
   },
   {
    "duration": 8,
    "start_time": "2022-02-13T20:50:20.710Z"
   },
   {
    "duration": 18,
    "start_time": "2022-02-13T20:50:20.720Z"
   },
   {
    "duration": 5,
    "start_time": "2022-02-13T20:50:20.740Z"
   },
   {
    "duration": 20,
    "start_time": "2022-02-13T20:50:20.748Z"
   },
   {
    "duration": 45,
    "start_time": "2022-02-13T20:50:20.771Z"
   },
   {
    "duration": 6,
    "start_time": "2022-02-13T20:50:20.819Z"
   },
   {
    "duration": 26,
    "start_time": "2022-02-13T20:50:20.828Z"
   },
   {
    "duration": 13,
    "start_time": "2022-02-13T20:50:20.856Z"
   },
   {
    "duration": 461,
    "start_time": "2022-02-13T20:50:20.871Z"
   },
   {
    "duration": 13,
    "start_time": "2022-02-13T20:50:21.334Z"
   },
   {
    "duration": 4,
    "start_time": "2022-02-13T20:50:21.349Z"
   },
   {
    "duration": 993,
    "start_time": "2022-02-13T20:50:21.355Z"
   },
   {
    "duration": 16,
    "start_time": "2022-02-13T20:50:22.350Z"
   },
   {
    "duration": 666,
    "start_time": "2022-02-13T20:50:22.369Z"
   },
   {
    "duration": 595,
    "start_time": "2022-02-13T20:50:23.037Z"
   },
   {
    "duration": 614,
    "start_time": "2022-02-13T20:50:23.634Z"
   },
   {
    "duration": 12,
    "start_time": "2022-02-13T20:50:24.250Z"
   },
   {
    "duration": 24,
    "start_time": "2022-02-13T20:50:24.264Z"
   },
   {
    "duration": 548,
    "start_time": "2022-02-13T20:50:24.291Z"
   },
   {
    "duration": 348,
    "start_time": "2022-02-13T20:50:24.843Z"
   },
   {
    "duration": 53,
    "start_time": "2022-02-13T20:50:25.193Z"
   },
   {
    "duration": 391,
    "start_time": "2022-02-13T20:50:25.249Z"
   },
   {
    "duration": 39,
    "start_time": "2022-02-13T20:50:25.642Z"
   },
   {
    "duration": 292,
    "start_time": "2022-02-13T20:50:25.707Z"
   },
   {
    "duration": 42,
    "start_time": "2022-02-13T20:50:26.001Z"
   },
   {
    "duration": 7,
    "start_time": "2022-02-13T20:50:26.046Z"
   },
   {
    "duration": 18,
    "start_time": "2022-02-13T20:50:26.056Z"
   },
   {
    "duration": 41,
    "start_time": "2022-02-13T20:50:26.077Z"
   },
   {
    "duration": 3,
    "start_time": "2022-02-13T20:51:30.917Z"
   },
   {
    "duration": 1373,
    "start_time": "2022-02-13T20:51:30.925Z"
   },
   {
    "duration": 189,
    "start_time": "2022-02-13T20:51:32.301Z"
   },
   {
    "duration": 18,
    "start_time": "2022-02-13T20:51:32.492Z"
   },
   {
    "duration": 24,
    "start_time": "2022-02-13T20:51:32.512Z"
   },
   {
    "duration": 11,
    "start_time": "2022-02-13T20:51:32.538Z"
   },
   {
    "duration": 18,
    "start_time": "2022-02-13T20:51:32.551Z"
   },
   {
    "duration": 5,
    "start_time": "2022-02-13T20:51:32.571Z"
   },
   {
    "duration": 41,
    "start_time": "2022-02-13T20:51:32.580Z"
   },
   {
    "duration": 11,
    "start_time": "2022-02-13T20:51:32.624Z"
   },
   {
    "duration": 5,
    "start_time": "2022-02-13T20:51:32.637Z"
   },
   {
    "duration": 69,
    "start_time": "2022-02-13T20:51:32.644Z"
   },
   {
    "duration": 10,
    "start_time": "2022-02-13T20:51:32.715Z"
   },
   {
    "duration": 695,
    "start_time": "2022-02-13T20:51:32.727Z"
   },
   {
    "duration": 17,
    "start_time": "2022-02-13T20:51:33.424Z"
   },
   {
    "duration": 5,
    "start_time": "2022-02-13T20:51:33.444Z"
   },
   {
    "duration": 1535,
    "start_time": "2022-02-13T20:51:33.451Z"
   },
   {
    "duration": 32,
    "start_time": "2022-02-13T20:51:34.989Z"
   },
   {
    "duration": 947,
    "start_time": "2022-02-13T20:51:35.024Z"
   },
   {
    "duration": 698,
    "start_time": "2022-02-13T20:51:35.975Z"
   },
   {
    "duration": 687,
    "start_time": "2022-02-13T20:51:36.676Z"
   },
   {
    "duration": 14,
    "start_time": "2022-02-13T20:51:37.366Z"
   },
   {
    "duration": 34,
    "start_time": "2022-02-13T20:51:37.382Z"
   },
   {
    "duration": 540,
    "start_time": "2022-02-13T20:51:37.420Z"
   },
   {
    "duration": 352,
    "start_time": "2022-02-13T20:51:37.963Z"
   },
   {
    "duration": 43,
    "start_time": "2022-02-13T20:51:38.317Z"
   },
   {
    "duration": 382,
    "start_time": "2022-02-13T20:51:38.362Z"
   },
   {
    "duration": 36,
    "start_time": "2022-02-13T20:51:38.746Z"
   },
   {
    "duration": 317,
    "start_time": "2022-02-13T20:51:38.783Z"
   },
   {
    "duration": 37,
    "start_time": "2022-02-13T20:51:39.103Z"
   },
   {
    "duration": 7,
    "start_time": "2022-02-13T20:51:39.142Z"
   },
   {
    "duration": 31,
    "start_time": "2022-02-13T20:51:39.150Z"
   },
   {
    "duration": 28,
    "start_time": "2022-02-13T20:51:39.183Z"
   }
  ],
  "kernelspec": {
   "display_name": "Python 3 (ipykernel)",
   "language": "python",
   "name": "python3"
  },
  "language_info": {
   "codemirror_mode": {
    "name": "ipython",
    "version": 3
   },
   "file_extension": ".py",
   "mimetype": "text/x-python",
   "name": "python",
   "nbconvert_exporter": "python",
   "pygments_lexer": "ipython3",
   "version": "3.9.7"
  },
  "toc": {
   "base_numbering": 1,
   "nav_menu": {},
   "number_sections": true,
   "sideBar": true,
   "skip_h1_title": true,
   "title_cell": "Table of Contents",
   "title_sidebar": "Contents",
   "toc_cell": true,
   "toc_position": {
    "height": "calc(100% - 180px)",
    "left": "10px",
    "top": "150px",
    "width": "384px"
   },
   "toc_section_display": true,
   "toc_window_display": true
  }
 },
 "nbformat": 4,
 "nbformat_minor": 5
}
