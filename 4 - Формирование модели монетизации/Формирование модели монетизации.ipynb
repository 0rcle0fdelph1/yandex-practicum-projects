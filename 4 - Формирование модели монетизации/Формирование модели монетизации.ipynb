{
 "cells": [
  {
   "cell_type": "markdown",
   "id": "dbce4bb2",
   "metadata": {},
   "source": [
    "# Игры — Формирование модели монетизации"
   ]
  },
  {
   "cell_type": "markdown",
   "id": "93c84121",
   "metadata": {},
   "source": [
    "### Дополнительные материалы исследования:\n",
    "- [Презентация](https://drive.google.com/file/d/1J8o790XgSjbQNMYfntWuMzZLuADAeI7H/view?usp=sharing)\n",
    "- [Дашборд](https://public.tableau.com/views/SpaceBrothers_16570606890240/Dashboard1?:language=en-US&publish=yes&:display_count=n&:origin=viz_share_link)"
   ]
  },
  {
   "cell_type": "markdown",
   "id": "3fc22191",
   "metadata": {},
   "source": [
    "### Описание проекта**:** \n",
    "\n",
    "Игровая механика «Космических братьев» основана на том, что пользователи строят свою космическую программу и пытаются преуспеть в колонизации галактики. Модель монетизации ещё не выстроена, но предполагается, что в приложении будет происходить показ рекламы на экране с выбором типа объекта для постройки. Стоимость рекламного показа - 0.07 USD.\n",
    "\n",
    "**Цель исследования: Сформировать модель монетизации игрового приложения.**\n",
    "\n",
    "Критерии успешной модели:\n",
    "1. Пользователь лоялен и готов смотреть рекламу (реклама не спровоцирует отток).\n",
    "2. Реклама имеет положительную окупаемость уже на первом уровне (в худшем случае - нулевую).\n",
    "\n",
    "При этом, задача удержать пользователя и перевсти на 2-й уровень является более приоритетной, чем получение прибыли.\n",
    "\n",
    "Также в рамках исследования необходимо проверить 2 статистические гипотезы.\n",
    "\n",
    "### **Описание датасетов:**\n",
    "\n",
    "В датасете представлены данные по игре пользователей на первом уровне. Завершение первого уровня требует от игрока выполнения одного из двух условий:\n",
    "\n",
    "- Победа над первым врагом.\n",
    "- Реализация проекта - разработка орбитальной сборки спутников.\n",
    "\n",
    "В датасете содержатся данные первых пользователей приложения — когорты пользователей, которые начали пользоваться приложением в период с 4 по 10 мая включительно.\n",
    "\n",
    "Датасет **game_actions.csv**:\n",
    "\n",
    "- `event_datetime` — время события;\n",
    "- `event` — одно из трёх событий:\n",
    "    1. `building` — объект построен,\n",
    "    2. `finished_stage_1` — первый уровень завершён,\n",
    "    3. `project` — проект завершён;\n",
    "- `building_type` — один из трёх типов здания:\n",
    "    1. `assembly_shop` — сборочный цех,\n",
    "    2. `spaceport` — космопорт,\n",
    "    3. `research_center` — исследовательский центр;\n",
    "- `user_id` — идентификатор пользователя;\n",
    "- `project_type` — тип реализованного проекта;\n",
    "\n",
    "Датасет **ad_cost.csv**:\n",
    "\n",
    "- `day` - день, в который был совершен клик по объявлению\n",
    "- `source` - источник трафика\n",
    "- `cost` - стоимость кликов\n",
    "\n",
    "Датасет **user_source.csv**:\n",
    "\n",
    "- `user_id` - идентификатор пользователя\n",
    "- `source` - источников, с которого пришёл пользователь, установивший приложение"
   ]
  },
  {
   "cell_type": "markdown",
   "id": "aad01d8f",
   "metadata": {},
   "source": [
    "-------------"
   ]
  },
  {
   "cell_type": "markdown",
   "id": "c1778893",
   "metadata": {},
   "source": [
    "## Предобработка данных"
   ]
  },
  {
   "cell_type": "markdown",
   "id": "b8aca313",
   "metadata": {},
   "source": [
    "Для начала импортируем все библиотеки, с которыми будем работать."
   ]
  },
  {
   "cell_type": "code",
   "execution_count": 1,
   "id": "6a342296",
   "metadata": {},
   "outputs": [],
   "source": [
    "import os\n",
    "import pandas as pd\n",
    "import numpy as np\n",
    "\n",
    "from collections import Counter as c\n",
    "from datetime import datetime, timedelta\n",
    "from time import monotonic\n",
    "\n",
    "import matplotlib.pyplot as plt \n",
    "import seaborn as sns\n",
    "\n",
    "from scipy import stats as st\n",
    "\n",
    "import warnings\n",
    "warnings.filterwarnings('ignore')"
   ]
  },
  {
   "cell_type": "markdown",
   "id": "364c4300",
   "metadata": {},
   "source": [
    "Импортируем данные."
   ]
  },
  {
   "cell_type": "code",
   "execution_count": 2,
   "id": "0e53ee09",
   "metadata": {},
   "outputs": [],
   "source": [
    "if os.path.exists ('ad_costs.csv'):\n",
    "    ad_costs = pd.read_csv('ad_costs.csv')\n",
    "else:\n",
    "    ad_costs = pd.read_csv('/datasets/ad_costs.csv') \n",
    "\n",
    "if os.path.exists ('game_actions.csv'):\n",
    "    game_actions = pd.read_csv('game_actions.csv')\n",
    "else:\n",
    "    game_actions = pd.read_csv('/datasets/game_actions.csv') \n",
    "\n",
    "if os.path.exists ('user_source.csv'):\n",
    "    user_source = pd.read_csv('user_source.csv')\n",
    "else:\n",
    "    user_source = pd.read_csv('/datasets/user_source.csv') "
   ]
  },
  {
   "cell_type": "markdown",
   "id": "94a6033c",
   "metadata": {},
   "source": [
    "Напишем функцию, чтобы получить первичное представление о данных."
   ]
  },
  {
   "cell_type": "code",
   "execution_count": 3,
   "id": "30cb7054",
   "metadata": {},
   "outputs": [],
   "source": [
    "def df_info (df):\n",
    "    \n",
    "    print(df.columns)\n",
    "    print()\n",
    "    print(df.info(memory_usage='deep'))\n",
    "    display(df.sample(5))\n",
    "    print('Количество пропущенных значений:')\n",
    "    print(df.isna().sum())\n",
    "    print()\n",
    "    print('Количество дубликатов:', df.duplicated().sum())\n",
    "    \n",
    "    return"
   ]
  },
  {
   "cell_type": "markdown",
   "id": "9dcfcb45",
   "metadata": {},
   "source": [
    "**ad_costs**"
   ]
  },
  {
   "cell_type": "code",
   "execution_count": 4,
   "id": "2df291ec",
   "metadata": {},
   "outputs": [
    {
     "name": "stdout",
     "output_type": "stream",
     "text": [
      "Index(['source', 'day', 'cost'], dtype='object')\n",
      "\n",
      "<class 'pandas.core.frame.DataFrame'>\n",
      "RangeIndex: 28 entries, 0 to 27\n",
      "Data columns (total 3 columns):\n",
      " #   Column  Non-Null Count  Dtype  \n",
      "---  ------  --------------  -----  \n",
      " 0   source  28 non-null     object \n",
      " 1   day     28 non-null     object \n",
      " 2   cost    28 non-null     float64\n",
      "dtypes: float64(1), object(2)\n",
      "memory usage: 4.2 KB\n",
      "None\n"
     ]
    },
    {
     "data": {
      "text/html": [
       "<div>\n",
       "<style scoped>\n",
       "    .dataframe tbody tr th:only-of-type {\n",
       "        vertical-align: middle;\n",
       "    }\n",
       "\n",
       "    .dataframe tbody tr th {\n",
       "        vertical-align: top;\n",
       "    }\n",
       "\n",
       "    .dataframe thead th {\n",
       "        text-align: right;\n",
       "    }\n",
       "</style>\n",
       "<table border=\"1\" class=\"dataframe\">\n",
       "  <thead>\n",
       "    <tr style=\"text-align: right;\">\n",
       "      <th></th>\n",
       "      <th>source</th>\n",
       "      <th>day</th>\n",
       "      <th>cost</th>\n",
       "    </tr>\n",
       "  </thead>\n",
       "  <tbody>\n",
       "    <tr>\n",
       "      <th>2</th>\n",
       "      <td>facebook_ads</td>\n",
       "      <td>2020-05-05</td>\n",
       "      <td>260.185754</td>\n",
       "    </tr>\n",
       "    <tr>\n",
       "      <th>7</th>\n",
       "      <td>instagram_new_adverts</td>\n",
       "      <td>2020-05-03</td>\n",
       "      <td>943.204717</td>\n",
       "    </tr>\n",
       "    <tr>\n",
       "      <th>22</th>\n",
       "      <td>youtube_channel_reklama</td>\n",
       "      <td>2020-05-04</td>\n",
       "      <td>259.073224</td>\n",
       "    </tr>\n",
       "    <tr>\n",
       "      <th>26</th>\n",
       "      <td>youtube_channel_reklama</td>\n",
       "      <td>2020-05-08</td>\n",
       "      <td>40.217907</td>\n",
       "    </tr>\n",
       "    <tr>\n",
       "      <th>23</th>\n",
       "      <td>youtube_channel_reklama</td>\n",
       "      <td>2020-05-05</td>\n",
       "      <td>147.041741</td>\n",
       "    </tr>\n",
       "  </tbody>\n",
       "</table>\n",
       "</div>"
      ],
      "text/plain": [
       "                     source         day        cost\n",
       "2              facebook_ads  2020-05-05  260.185754\n",
       "7     instagram_new_adverts  2020-05-03  943.204717\n",
       "22  youtube_channel_reklama  2020-05-04  259.073224\n",
       "26  youtube_channel_reklama  2020-05-08   40.217907\n",
       "23  youtube_channel_reklama  2020-05-05  147.041741"
      ]
     },
     "metadata": {},
     "output_type": "display_data"
    },
    {
     "name": "stdout",
     "output_type": "stream",
     "text": [
      "Количество пропущенных значений:\n",
      "source    0\n",
      "day       0\n",
      "cost      0\n",
      "dtype: int64\n",
      "\n",
      "Количество дубликатов: 0\n"
     ]
    }
   ],
   "source": [
    "df_info(ad_costs)"
   ]
  },
  {
   "cell_type": "markdown",
   "id": "686aeab7",
   "metadata": {},
   "source": [
    "Видим, что у нас неверно определён тип данных `day`. Приведём его к соответствующему формату."
   ]
  },
  {
   "cell_type": "code",
   "execution_count": 5,
   "id": "ff2ca215",
   "metadata": {},
   "outputs": [],
   "source": [
    "ad_costs['day'] = pd.to_datetime(ad_costs['day'], format = '%Y-%m-%d')"
   ]
  },
  {
   "cell_type": "markdown",
   "id": "c82daf4b",
   "metadata": {},
   "source": [
    "Изучим приведённые в порядок данные с помощью describe()."
   ]
  },
  {
   "cell_type": "code",
   "execution_count": 6,
   "id": "8d3555fe",
   "metadata": {
    "scrolled": false
   },
   "outputs": [
    {
     "data": {
      "text/html": [
       "<div>\n",
       "<style scoped>\n",
       "    .dataframe tbody tr th:only-of-type {\n",
       "        vertical-align: middle;\n",
       "    }\n",
       "\n",
       "    .dataframe tbody tr th {\n",
       "        vertical-align: top;\n",
       "    }\n",
       "\n",
       "    .dataframe thead th {\n",
       "        text-align: right;\n",
       "    }\n",
       "</style>\n",
       "<table border=\"1\" class=\"dataframe\">\n",
       "  <thead>\n",
       "    <tr style=\"text-align: right;\">\n",
       "      <th></th>\n",
       "      <th>count</th>\n",
       "      <th>unique</th>\n",
       "      <th>top</th>\n",
       "      <th>freq</th>\n",
       "      <th>first</th>\n",
       "      <th>last</th>\n",
       "      <th>mean</th>\n",
       "      <th>std</th>\n",
       "      <th>min</th>\n",
       "      <th>25%</th>\n",
       "      <th>50%</th>\n",
       "      <th>75%</th>\n",
       "      <th>max</th>\n",
       "    </tr>\n",
       "  </thead>\n",
       "  <tbody>\n",
       "    <tr>\n",
       "      <th>source</th>\n",
       "      <td>28</td>\n",
       "      <td>4</td>\n",
       "      <td>yandex_direct</td>\n",
       "      <td>7</td>\n",
       "      <td>NaT</td>\n",
       "      <td>NaT</td>\n",
       "      <td>NaN</td>\n",
       "      <td>NaN</td>\n",
       "      <td>NaN</td>\n",
       "      <td>NaN</td>\n",
       "      <td>NaN</td>\n",
       "      <td>NaN</td>\n",
       "      <td>NaN</td>\n",
       "    </tr>\n",
       "    <tr>\n",
       "      <th>day</th>\n",
       "      <td>28</td>\n",
       "      <td>7</td>\n",
       "      <td>2020-05-05 00:00:00</td>\n",
       "      <td>4</td>\n",
       "      <td>2020-05-03</td>\n",
       "      <td>2020-05-09</td>\n",
       "      <td>NaN</td>\n",
       "      <td>NaN</td>\n",
       "      <td>NaN</td>\n",
       "      <td>NaN</td>\n",
       "      <td>NaN</td>\n",
       "      <td>NaN</td>\n",
       "      <td>NaN</td>\n",
       "    </tr>\n",
       "    <tr>\n",
       "      <th>cost</th>\n",
       "      <td>28.0</td>\n",
       "      <td>NaN</td>\n",
       "      <td>NaN</td>\n",
       "      <td>NaN</td>\n",
       "      <td>NaT</td>\n",
       "      <td>NaT</td>\n",
       "      <td>271.56</td>\n",
       "      <td>286.87</td>\n",
       "      <td>23.31</td>\n",
       "      <td>66.75</td>\n",
       "      <td>160.06</td>\n",
       "      <td>349.03</td>\n",
       "      <td>969.14</td>\n",
       "    </tr>\n",
       "  </tbody>\n",
       "</table>\n",
       "</div>"
      ],
      "text/plain": [
       "       count unique                  top freq      first       last    mean  \\\n",
       "source    28      4        yandex_direct    7        NaT        NaT     NaN   \n",
       "day       28      7  2020-05-05 00:00:00    4 2020-05-03 2020-05-09     NaN   \n",
       "cost    28.0    NaN                  NaN  NaN        NaT        NaT  271.56   \n",
       "\n",
       "           std    min    25%     50%     75%     max  \n",
       "source     NaN    NaN    NaN     NaN     NaN     NaN  \n",
       "day        NaN    NaN    NaN     NaN     NaN     NaN  \n",
       "cost    286.87  23.31  66.75  160.06  349.03  969.14  "
      ]
     },
     "execution_count": 6,
     "metadata": {},
     "output_type": "execute_result"
    }
   ],
   "source": [
    "ad_costs.describe(include='all').round(2).T"
   ]
  },
  {
   "cell_type": "markdown",
   "id": "9a254083",
   "metadata": {},
   "source": [
    "Также рассмотрим, какие у нас есть уникальные источники, и как они распределены."
   ]
  },
  {
   "cell_type": "code",
   "execution_count": 7,
   "id": "08222e21",
   "metadata": {},
   "outputs": [
    {
     "data": {
      "text/plain": [
       "Counter({'facebook_ads': 7,\n",
       "         'instagram_new_adverts': 7,\n",
       "         'yandex_direct': 7,\n",
       "         'youtube_channel_reklama': 7})"
      ]
     },
     "execution_count": 7,
     "metadata": {},
     "output_type": "execute_result"
    }
   ],
   "source": [
    "c(ad_costs['source'])"
   ]
  },
  {
   "cell_type": "markdown",
   "id": "5c6c9a31",
   "metadata": {},
   "source": [
    "**Выводы:**\n",
    "\n",
    "1. Видим, что таблица содержит данные о пользователях, пришедших с 3 мая по 9 мая включительно.\n",
    "2. У нас есть 4 рекламных источника, которые содержат информацию по тратам за каждый из дней.\n",
    "3. Медианная стоимость привлечения в день - 160."
   ]
  },
  {
   "cell_type": "markdown",
   "id": "129bd142",
   "metadata": {},
   "source": [
    "**game_actions**"
   ]
  },
  {
   "cell_type": "code",
   "execution_count": 8,
   "id": "ef1c8b26",
   "metadata": {},
   "outputs": [
    {
     "name": "stdout",
     "output_type": "stream",
     "text": [
      "Index(['event_datetime', 'event', 'building_type', 'user_id', 'project_type'], dtype='object')\n",
      "\n",
      "<class 'pandas.core.frame.DataFrame'>\n",
      "RangeIndex: 135640 entries, 0 to 135639\n",
      "Data columns (total 5 columns):\n",
      " #   Column          Non-Null Count   Dtype \n",
      "---  ------          --------------   ----- \n",
      " 0   event_datetime  135640 non-null  object\n",
      " 1   event           135640 non-null  object\n",
      " 2   building_type   127957 non-null  object\n",
      " 3   user_id         135640 non-null  object\n",
      " 4   project_type    1866 non-null    object\n",
      "dtypes: object(5)\n",
      "memory usage: 43.1 MB\n",
      "None\n"
     ]
    },
    {
     "data": {
      "text/html": [
       "<div>\n",
       "<style scoped>\n",
       "    .dataframe tbody tr th:only-of-type {\n",
       "        vertical-align: middle;\n",
       "    }\n",
       "\n",
       "    .dataframe tbody tr th {\n",
       "        vertical-align: top;\n",
       "    }\n",
       "\n",
       "    .dataframe thead th {\n",
       "        text-align: right;\n",
       "    }\n",
       "</style>\n",
       "<table border=\"1\" class=\"dataframe\">\n",
       "  <thead>\n",
       "    <tr style=\"text-align: right;\">\n",
       "      <th></th>\n",
       "      <th>event_datetime</th>\n",
       "      <th>event</th>\n",
       "      <th>building_type</th>\n",
       "      <th>user_id</th>\n",
       "      <th>project_type</th>\n",
       "    </tr>\n",
       "  </thead>\n",
       "  <tbody>\n",
       "    <tr>\n",
       "      <th>81635</th>\n",
       "      <td>2020-05-11 09:27:15</td>\n",
       "      <td>building</td>\n",
       "      <td>spaceport</td>\n",
       "      <td>4f51d206-3f7b-4aff-b38d-a7083c9b53b0</td>\n",
       "      <td>NaN</td>\n",
       "    </tr>\n",
       "    <tr>\n",
       "      <th>119165</th>\n",
       "      <td>2020-05-16 19:30:10</td>\n",
       "      <td>building</td>\n",
       "      <td>spaceport</td>\n",
       "      <td>a1d79fad-a8cd-4587-aad0-d167a40d84f8</td>\n",
       "      <td>NaN</td>\n",
       "    </tr>\n",
       "    <tr>\n",
       "      <th>129120</th>\n",
       "      <td>2020-05-19 23:48:28</td>\n",
       "      <td>finished_stage_1</td>\n",
       "      <td>NaN</td>\n",
       "      <td>23afd857-c3d8-442b-9d7f-f95e5e3ba65e</td>\n",
       "      <td>NaN</td>\n",
       "    </tr>\n",
       "    <tr>\n",
       "      <th>70480</th>\n",
       "      <td>2020-05-10 11:57:05</td>\n",
       "      <td>building</td>\n",
       "      <td>assembly_shop</td>\n",
       "      <td>ae575ff3-4225-4f09-8cee-7fcaa8120cf0</td>\n",
       "      <td>NaN</td>\n",
       "    </tr>\n",
       "    <tr>\n",
       "      <th>34946</th>\n",
       "      <td>2020-05-07 17:23:23</td>\n",
       "      <td>building</td>\n",
       "      <td>assembly_shop</td>\n",
       "      <td>3d0f886c-e6e6-4ed0-8964-776b6faec438</td>\n",
       "      <td>NaN</td>\n",
       "    </tr>\n",
       "  </tbody>\n",
       "</table>\n",
       "</div>"
      ],
      "text/plain": [
       "             event_datetime             event  building_type  \\\n",
       "81635   2020-05-11 09:27:15          building      spaceport   \n",
       "119165  2020-05-16 19:30:10          building      spaceport   \n",
       "129120  2020-05-19 23:48:28  finished_stage_1            NaN   \n",
       "70480   2020-05-10 11:57:05          building  assembly_shop   \n",
       "34946   2020-05-07 17:23:23          building  assembly_shop   \n",
       "\n",
       "                                     user_id project_type  \n",
       "81635   4f51d206-3f7b-4aff-b38d-a7083c9b53b0          NaN  \n",
       "119165  a1d79fad-a8cd-4587-aad0-d167a40d84f8          NaN  \n",
       "129120  23afd857-c3d8-442b-9d7f-f95e5e3ba65e          NaN  \n",
       "70480   ae575ff3-4225-4f09-8cee-7fcaa8120cf0          NaN  \n",
       "34946   3d0f886c-e6e6-4ed0-8964-776b6faec438          NaN  "
      ]
     },
     "metadata": {},
     "output_type": "display_data"
    },
    {
     "name": "stdout",
     "output_type": "stream",
     "text": [
      "Количество пропущенных значений:\n",
      "event_datetime         0\n",
      "event                  0\n",
      "building_type       7683\n",
      "user_id                0\n",
      "project_type      133774\n",
      "dtype: int64\n",
      "\n",
      "Количество дубликатов: 1\n"
     ]
    }
   ],
   "source": [
    "df_info(game_actions)"
   ]
  },
  {
   "cell_type": "markdown",
   "id": "95c38346",
   "metadata": {},
   "source": [
    "Видим, что у нас есть пропущенные значения в building_type и project_type (связанные, вероятно, с тем, что они не связаны с соответствующими ивентами). Заполнять эти значения не имеет смысла. Исправим незначительные ошибки в данных.\n",
    "\n",
    "Приведём неверный формат `event_datetime` к datetime."
   ]
  },
  {
   "cell_type": "code",
   "execution_count": 9,
   "id": "443ab0ac",
   "metadata": {},
   "outputs": [],
   "source": [
    "game_actions['event_datetime'] = pd.to_datetime(game_actions['event_datetime'], format = '%Y-%m-%d %H:%M:%S')"
   ]
  },
  {
   "cell_type": "markdown",
   "id": "674e8060",
   "metadata": {},
   "source": [
    "Удалим имеющийся единственный дубликат."
   ]
  },
  {
   "cell_type": "code",
   "execution_count": 10,
   "id": "1e7fa534",
   "metadata": {},
   "outputs": [],
   "source": [
    "game_actions = game_actions.drop_duplicates().reset_index(drop=True)"
   ]
  },
  {
   "cell_type": "markdown",
   "id": "4a0c5029",
   "metadata": {},
   "source": [
    "Изучим приведённые в порядок данные с помощью describe()."
   ]
  },
  {
   "cell_type": "code",
   "execution_count": 11,
   "id": "cdd99dc8",
   "metadata": {
    "scrolled": false
   },
   "outputs": [
    {
     "data": {
      "text/html": [
       "<div>\n",
       "<style scoped>\n",
       "    .dataframe tbody tr th:only-of-type {\n",
       "        vertical-align: middle;\n",
       "    }\n",
       "\n",
       "    .dataframe tbody tr th {\n",
       "        vertical-align: top;\n",
       "    }\n",
       "\n",
       "    .dataframe thead th {\n",
       "        text-align: right;\n",
       "    }\n",
       "</style>\n",
       "<table border=\"1\" class=\"dataframe\">\n",
       "  <thead>\n",
       "    <tr style=\"text-align: right;\">\n",
       "      <th></th>\n",
       "      <th>count</th>\n",
       "      <th>unique</th>\n",
       "      <th>top</th>\n",
       "      <th>freq</th>\n",
       "      <th>first</th>\n",
       "      <th>last</th>\n",
       "    </tr>\n",
       "  </thead>\n",
       "  <tbody>\n",
       "    <tr>\n",
       "      <th>event_datetime</th>\n",
       "      <td>135639</td>\n",
       "      <td>128790</td>\n",
       "      <td>2020-05-10 03:08:18</td>\n",
       "      <td>4</td>\n",
       "      <td>2020-05-04 00:00:01</td>\n",
       "      <td>2020-06-05 12:32:49</td>\n",
       "    </tr>\n",
       "    <tr>\n",
       "      <th>event</th>\n",
       "      <td>135639</td>\n",
       "      <td>3</td>\n",
       "      <td>building</td>\n",
       "      <td>127956</td>\n",
       "      <td>NaT</td>\n",
       "      <td>NaT</td>\n",
       "    </tr>\n",
       "    <tr>\n",
       "      <th>building_type</th>\n",
       "      <td>127956</td>\n",
       "      <td>3</td>\n",
       "      <td>spaceport</td>\n",
       "      <td>59325</td>\n",
       "      <td>NaT</td>\n",
       "      <td>NaT</td>\n",
       "    </tr>\n",
       "    <tr>\n",
       "      <th>user_id</th>\n",
       "      <td>135639</td>\n",
       "      <td>13576</td>\n",
       "      <td>d6aca06a-cd75-4cd8-b8cd-240a3c163884</td>\n",
       "      <td>22</td>\n",
       "      <td>NaT</td>\n",
       "      <td>NaT</td>\n",
       "    </tr>\n",
       "    <tr>\n",
       "      <th>project_type</th>\n",
       "      <td>1866</td>\n",
       "      <td>1</td>\n",
       "      <td>satellite_orbital_assembly</td>\n",
       "      <td>1866</td>\n",
       "      <td>NaT</td>\n",
       "      <td>NaT</td>\n",
       "    </tr>\n",
       "  </tbody>\n",
       "</table>\n",
       "</div>"
      ],
      "text/plain": [
       "                 count  unique                                   top    freq  \\\n",
       "event_datetime  135639  128790                   2020-05-10 03:08:18       4   \n",
       "event           135639       3                              building  127956   \n",
       "building_type   127956       3                             spaceport   59325   \n",
       "user_id         135639   13576  d6aca06a-cd75-4cd8-b8cd-240a3c163884      22   \n",
       "project_type      1866       1            satellite_orbital_assembly    1866   \n",
       "\n",
       "                             first                last  \n",
       "event_datetime 2020-05-04 00:00:01 2020-06-05 12:32:49  \n",
       "event                          NaT                 NaT  \n",
       "building_type                  NaT                 NaT  \n",
       "user_id                        NaT                 NaT  \n",
       "project_type                   NaT                 NaT  "
      ]
     },
     "execution_count": 11,
     "metadata": {},
     "output_type": "execute_result"
    }
   ],
   "source": [
    "game_actions.describe(include='all').round(2).T"
   ]
  },
  {
   "cell_type": "markdown",
   "id": "6fc4c8c5",
   "metadata": {},
   "source": [
    "Видим, что у нас всего 1 вид project_type. Проверим, насколько он соотносится с событием project. И насколько событие project соотносится с событием finished_stage_1."
   ]
  },
  {
   "cell_type": "code",
   "execution_count": 12,
   "id": "bf11af14",
   "metadata": {
    "scrolled": true
   },
   "outputs": [
    {
     "data": {
      "text/plain": [
       "event\n",
       "building            13576\n",
       "finished_stage_1     5817\n",
       "project              1866\n",
       "Name: user_id, dtype: int64"
      ]
     },
     "execution_count": 12,
     "metadata": {},
     "output_type": "execute_result"
    }
   ],
   "source": [
    "game_actions.groupby('event')['user_id'].nunique()"
   ]
  },
  {
   "cell_type": "code",
   "execution_count": 13,
   "id": "f59420f2",
   "metadata": {},
   "outputs": [
    {
     "data": {
      "text/plain": [
       "user_id    1866\n",
       "event      1866\n",
       "dtype: int64"
      ]
     },
     "execution_count": 13,
     "metadata": {},
     "output_type": "execute_result"
    }
   ],
   "source": [
    "(\n",
    "    game_actions\n",
    "    .query('event in [\"project\", \"finished_stage_1\"]')\n",
    "    .groupby('user_id')['event'].nunique()\n",
    "    .reset_index()\n",
    "    .query('event == 2').count()\n",
    ")"
   ]
  },
  {
   "cell_type": "markdown",
   "id": "b7410775",
   "metadata": {},
   "source": [
    "**Выводы:**\n",
    "\n",
    "1. Таблица содержит данные о событиях пользователей с 4 мая по 5 июля включительно. Что примечательно: привлечение пользователя началось с 3 мая, т.к. закупка рекламы происходит за день до показа рекламы. \n",
    "2. Наиболее популярным событием является building. Около 50% пользователей строят spaceport.\n",
    "3. Видим, что строительтсво объектов является обязательным условием для завершения 1-го уровня.\n",
    "4. Около 30% успешно завершают проект. Вероятно, остальные 70% пользователей выбирают сразиться с врагом.\n",
    "5. satellite_orbital_assembly является единственным доступным проектом на 1-м уровне."
   ]
  },
  {
   "cell_type": "markdown",
   "id": "54eb0a59",
   "metadata": {},
   "source": [
    "**user_source**"
   ]
  },
  {
   "cell_type": "code",
   "execution_count": 14,
   "id": "5ba22bea",
   "metadata": {},
   "outputs": [
    {
     "name": "stdout",
     "output_type": "stream",
     "text": [
      "Index(['user_id', 'source'], dtype='object')\n",
      "\n",
      "<class 'pandas.core.frame.DataFrame'>\n",
      "RangeIndex: 13576 entries, 0 to 13575\n",
      "Data columns (total 2 columns):\n",
      " #   Column   Non-Null Count  Dtype \n",
      "---  ------   --------------  ----- \n",
      " 0   user_id  13576 non-null  object\n",
      " 1   source   13576 non-null  object\n",
      "dtypes: object(2)\n",
      "memory usage: 2.2 MB\n",
      "None\n"
     ]
    },
    {
     "data": {
      "text/html": [
       "<div>\n",
       "<style scoped>\n",
       "    .dataframe tbody tr th:only-of-type {\n",
       "        vertical-align: middle;\n",
       "    }\n",
       "\n",
       "    .dataframe tbody tr th {\n",
       "        vertical-align: top;\n",
       "    }\n",
       "\n",
       "    .dataframe thead th {\n",
       "        text-align: right;\n",
       "    }\n",
       "</style>\n",
       "<table border=\"1\" class=\"dataframe\">\n",
       "  <thead>\n",
       "    <tr style=\"text-align: right;\">\n",
       "      <th></th>\n",
       "      <th>user_id</th>\n",
       "      <th>source</th>\n",
       "    </tr>\n",
       "  </thead>\n",
       "  <tbody>\n",
       "    <tr>\n",
       "      <th>12322</th>\n",
       "      <td>e852fc6d-2096-4382-898e-dcd7567a5f27</td>\n",
       "      <td>yandex_direct</td>\n",
       "    </tr>\n",
       "    <tr>\n",
       "      <th>6801</th>\n",
       "      <td>7e5e083e-402c-4d43-a7cd-e8a1155c3897</td>\n",
       "      <td>youtube_channel_reklama</td>\n",
       "    </tr>\n",
       "    <tr>\n",
       "      <th>13472</th>\n",
       "      <td>fe00942f-ec13-4642-93f4-8f5cdb0d2c75</td>\n",
       "      <td>yandex_direct</td>\n",
       "    </tr>\n",
       "    <tr>\n",
       "      <th>10446</th>\n",
       "      <td>c5220342-efb4-401a-83e0-87535307024f</td>\n",
       "      <td>yandex_direct</td>\n",
       "    </tr>\n",
       "    <tr>\n",
       "      <th>11956</th>\n",
       "      <td>e1827bd1-a9c1-4790-9e54-32058d5d69e1</td>\n",
       "      <td>yandex_direct</td>\n",
       "    </tr>\n",
       "  </tbody>\n",
       "</table>\n",
       "</div>"
      ],
      "text/plain": [
       "                                    user_id                   source\n",
       "12322  e852fc6d-2096-4382-898e-dcd7567a5f27            yandex_direct\n",
       "6801   7e5e083e-402c-4d43-a7cd-e8a1155c3897  youtube_channel_reklama\n",
       "13472  fe00942f-ec13-4642-93f4-8f5cdb0d2c75            yandex_direct\n",
       "10446  c5220342-efb4-401a-83e0-87535307024f            yandex_direct\n",
       "11956  e1827bd1-a9c1-4790-9e54-32058d5d69e1            yandex_direct"
      ]
     },
     "metadata": {},
     "output_type": "display_data"
    },
    {
     "name": "stdout",
     "output_type": "stream",
     "text": [
      "Количество пропущенных значений:\n",
      "user_id    0\n",
      "source     0\n",
      "dtype: int64\n",
      "\n",
      "Количество дубликатов: 0\n"
     ]
    }
   ],
   "source": [
    "df_info(user_source)"
   ]
  },
  {
   "cell_type": "code",
   "execution_count": 15,
   "id": "219d0bdd",
   "metadata": {},
   "outputs": [
    {
     "data": {
      "text/plain": [
       "Counter({'facebook_ads': 2726,\n",
       "         'yandex_direct': 4817,\n",
       "         'youtube_channel_reklama': 2686,\n",
       "         'instagram_new_adverts': 3347})"
      ]
     },
     "execution_count": 15,
     "metadata": {},
     "output_type": "execute_result"
    }
   ],
   "source": [
    "c(user_source['source'])"
   ]
  },
  {
   "cell_type": "code",
   "execution_count": 16,
   "id": "7ccaded0",
   "metadata": {
    "scrolled": false
   },
   "outputs": [
    {
     "data": {
      "text/html": [
       "<div>\n",
       "<style scoped>\n",
       "    .dataframe tbody tr th:only-of-type {\n",
       "        vertical-align: middle;\n",
       "    }\n",
       "\n",
       "    .dataframe tbody tr th {\n",
       "        vertical-align: top;\n",
       "    }\n",
       "\n",
       "    .dataframe thead th {\n",
       "        text-align: right;\n",
       "    }\n",
       "</style>\n",
       "<table border=\"1\" class=\"dataframe\">\n",
       "  <thead>\n",
       "    <tr style=\"text-align: right;\">\n",
       "      <th></th>\n",
       "      <th>count</th>\n",
       "      <th>unique</th>\n",
       "      <th>top</th>\n",
       "      <th>freq</th>\n",
       "    </tr>\n",
       "  </thead>\n",
       "  <tbody>\n",
       "    <tr>\n",
       "      <th>user_id</th>\n",
       "      <td>13576</td>\n",
       "      <td>13576</td>\n",
       "      <td>ffa7e2c4-e05a-40d5-b66a-4c62d032575d</td>\n",
       "      <td>1</td>\n",
       "    </tr>\n",
       "    <tr>\n",
       "      <th>source</th>\n",
       "      <td>13576</td>\n",
       "      <td>4</td>\n",
       "      <td>yandex_direct</td>\n",
       "      <td>4817</td>\n",
       "    </tr>\n",
       "  </tbody>\n",
       "</table>\n",
       "</div>"
      ],
      "text/plain": [
       "         count unique                                   top  freq\n",
       "user_id  13576  13576  ffa7e2c4-e05a-40d5-b66a-4c62d032575d     1\n",
       "source   13576      4                         yandex_direct  4817"
      ]
     },
     "execution_count": 16,
     "metadata": {},
     "output_type": "execute_result"
    }
   ],
   "source": [
    "user_source.describe(include='all').round(2).T"
   ]
  },
  {
   "cell_type": "markdown",
   "id": "337f1400",
   "metadata": {},
   "source": [
    "**Выводы:**\n",
    "\n",
    "1. Чистые данные без аномалий.\n",
    "2. Наиболее частым рекламным источником для пользователей является yandex_direct."
   ]
  },
  {
   "cell_type": "markdown",
   "id": "fb0cabe1",
   "metadata": {},
   "source": [
    "---------------"
   ]
  },
  {
   "cell_type": "markdown",
   "id": "ba10b1a7",
   "metadata": {},
   "source": [
    "## Исследовательский анализ данных"
   ]
  },
  {
   "cell_type": "markdown",
   "id": "1df8e80e",
   "metadata": {},
   "source": [
    "Построим гистограмму для событий, чтобы посмотреть активность пользователей за месяц."
   ]
  },
  {
   "cell_type": "code",
   "execution_count": 17,
   "id": "099429bf",
   "metadata": {
    "scrolled": false
   },
   "outputs": [
    {
     "data": {
      "image/png": "[encoded data removed]",
      "text/plain": [
       "<Figure size 1080x504 with 1 Axes>"
      ]
     },
     "metadata": {
      "needs_background": "light"
     },
     "output_type": "display_data"
    }
   ],
   "source": [
    "#чтобы вычислить оптимальное кол-во интервалов для bins, извлечём из кол-ва значений квадратный корень\n",
    "\n",
    "b = int(game_actions['event_datetime'].shape[0]**0.5)\n",
    "\n",
    "game_actions['event_datetime'].hist(bins=b, figsize=(15, 7))\n",
    "\n",
    "plt.title('Распределение событий по времени', fontsize=15)\n",
    "plt.xlabel('Дата')\n",
    "plt.ylabel('Кол-во событий')\n",
    "\n",
    "plt.show()"
   ]
  },
  {
   "cell_type": "markdown",
   "id": "34ea1c72",
   "metadata": {},
   "source": [
    "Видим, что у нас резкое увеличение событий примерно до 11 мая, после чего резко отрезается до половины и после этого медленно падает. Необходимо исследовать даннную аномалию. \n",
    "\n",
    "Посмотрим внимательнее, кто из этих пользователей завершил уровень, а кто - нет. Добавим новый атрибут `finished`, в который пропишем категорию пользователя согласно его `user_id` и тому, каким образом он завершил/не завершил уровень. Это упростит дальнейшую работу с данными.\n",
    "\n",
    "- `unfinished` - не закончил уровень;\n",
    "- `project` - закончил через проект;\n",
    "- `battle` - закончил через бой с противником.\n",
    "\n",
    "Для начала отфильтруем всех тех, кто закончил уровень."
   ]
  },
  {
   "cell_type": "code",
   "execution_count": 18,
   "id": "058b6cd2",
   "metadata": {},
   "outputs": [],
   "source": [
    "id_fin = (\n",
    "    game_actions.\n",
    "    loc[(game_actions['event'] == 'finished_stage_1') | (game_actions['event'] == 'project'), ['user_id', 'project_type']]\n",
    "    .drop_duplicates().reset_index(drop=True)\n",
    ")"
   ]
  },
  {
   "cell_type": "markdown",
   "id": "896345fb",
   "metadata": {},
   "source": [
    "Теперь выберем из них тех, кто закончил проект и создадим отдельно датафрейм, в который запишем категорию пользователя, а также список из `user_id`, чтобы затем по нему фильтровать первую таблицу."
   ]
  },
  {
   "cell_type": "code",
   "execution_count": 19,
   "id": "82ed4f7c",
   "metadata": {
    "scrolled": true
   },
   "outputs": [],
   "source": [
    "id_fin_pr = id_fin.groupby('user_id').agg({'project_type': 'nunique'}).query('project_type == 1').reset_index()\n",
    "id_fin_pr['finished'] = 'project'\n",
    "id_fin_pr_list = id_fin_pr['user_id']"
   ]
  },
  {
   "cell_type": "markdown",
   "id": "74a07588",
   "metadata": {},
   "source": [
    "Уберём из таблицы тех, кто закончил уровень проектом. Добавим им категорию `battle`, а затем присоединим один датафрейм к другому."
   ]
  },
  {
   "cell_type": "code",
   "execution_count": 20,
   "id": "4251ff67",
   "metadata": {},
   "outputs": [],
   "source": [
    "id_fin = id_fin.query('user_id not in @id_fin_pr_list').reset_index(drop=True)\n",
    "id_fin['finished'] = 'battle'\n",
    "id_fin = pd.concat([id_fin, id_fin_pr], axis=0)"
   ]
  },
  {
   "cell_type": "markdown",
   "id": "997b1f23",
   "metadata": {},
   "source": [
    "Склеим изначальную таблицу с фильтрованной по uid. Там, где у нас пропущенные значения в новом атрибуте `finished` - проставим `unfinished`."
   ]
  },
  {
   "cell_type": "code",
   "execution_count": 21,
   "id": "2f08f8cf",
   "metadata": {
    "scrolled": true
   },
   "outputs": [
    {
     "data": {
      "text/html": [
       "<div>\n",
       "<style scoped>\n",
       "    .dataframe tbody tr th:only-of-type {\n",
       "        vertical-align: middle;\n",
       "    }\n",
       "\n",
       "    .dataframe tbody tr th {\n",
       "        vertical-align: top;\n",
       "    }\n",
       "\n",
       "    .dataframe thead th {\n",
       "        text-align: right;\n",
       "    }\n",
       "</style>\n",
       "<table border=\"1\" class=\"dataframe\">\n",
       "  <thead>\n",
       "    <tr style=\"text-align: right;\">\n",
       "      <th></th>\n",
       "      <th>event_datetime</th>\n",
       "      <th>event</th>\n",
       "      <th>building_type</th>\n",
       "      <th>user_id</th>\n",
       "      <th>project_type</th>\n",
       "      <th>finished</th>\n",
       "    </tr>\n",
       "  </thead>\n",
       "  <tbody>\n",
       "    <tr>\n",
       "      <th>0</th>\n",
       "      <td>2020-05-04 00:00:01</td>\n",
       "      <td>building</td>\n",
       "      <td>assembly_shop</td>\n",
       "      <td>55e92310-cb8e-4754-b622-597e124b03de</td>\n",
       "      <td>NaN</td>\n",
       "      <td>unfinished</td>\n",
       "    </tr>\n",
       "    <tr>\n",
       "      <th>1</th>\n",
       "      <td>2020-05-04 00:00:03</td>\n",
       "      <td>building</td>\n",
       "      <td>assembly_shop</td>\n",
       "      <td>c07b1c10-f477-44dc-81dc-ec82254b1347</td>\n",
       "      <td>NaN</td>\n",
       "      <td>project</td>\n",
       "    </tr>\n",
       "    <tr>\n",
       "      <th>2</th>\n",
       "      <td>2020-05-04 00:00:16</td>\n",
       "      <td>building</td>\n",
       "      <td>assembly_shop</td>\n",
       "      <td>6edd42cc-e753-4ff6-a947-2107cd560710</td>\n",
       "      <td>NaN</td>\n",
       "      <td>battle</td>\n",
       "    </tr>\n",
       "    <tr>\n",
       "      <th>3</th>\n",
       "      <td>2020-05-04 00:00:16</td>\n",
       "      <td>building</td>\n",
       "      <td>assembly_shop</td>\n",
       "      <td>92c69003-d60a-444a-827f-8cc51bf6bf4c</td>\n",
       "      <td>NaN</td>\n",
       "      <td>unfinished</td>\n",
       "    </tr>\n",
       "    <tr>\n",
       "      <th>4</th>\n",
       "      <td>2020-05-04 00:00:35</td>\n",
       "      <td>building</td>\n",
       "      <td>assembly_shop</td>\n",
       "      <td>cdc6bb92-0ccb-4490-9866-ef142f09139d</td>\n",
       "      <td>NaN</td>\n",
       "      <td>battle</td>\n",
       "    </tr>\n",
       "  </tbody>\n",
       "</table>\n",
       "</div>"
      ],
      "text/plain": [
       "       event_datetime     event  building_type  \\\n",
       "0 2020-05-04 00:00:01  building  assembly_shop   \n",
       "1 2020-05-04 00:00:03  building  assembly_shop   \n",
       "2 2020-05-04 00:00:16  building  assembly_shop   \n",
       "3 2020-05-04 00:00:16  building  assembly_shop   \n",
       "4 2020-05-04 00:00:35  building  assembly_shop   \n",
       "\n",
       "                                user_id project_type    finished  \n",
       "0  55e92310-cb8e-4754-b622-597e124b03de          NaN  unfinished  \n",
       "1  c07b1c10-f477-44dc-81dc-ec82254b1347          NaN     project  \n",
       "2  6edd42cc-e753-4ff6-a947-2107cd560710          NaN      battle  \n",
       "3  92c69003-d60a-444a-827f-8cc51bf6bf4c          NaN  unfinished  \n",
       "4  cdc6bb92-0ccb-4490-9866-ef142f09139d          NaN      battle  "
      ]
     },
     "execution_count": 21,
     "metadata": {},
     "output_type": "execute_result"
    }
   ],
   "source": [
    "game_actions = game_actions.merge(id_fin[['user_id', 'finished']], on='user_id', how='left')\n",
    "game_actions['finished'] = game_actions['finished'].fillna('unfinished')\n",
    "game_actions.head()"
   ]
  },
  {
   "cell_type": "markdown",
   "id": "dfea8b48",
   "metadata": {},
   "source": [
    "Проверим корректность."
   ]
  },
  {
   "cell_type": "code",
   "execution_count": 22,
   "id": "8b42920d",
   "metadata": {
    "scrolled": false
   },
   "outputs": [
    {
     "data": {
      "text/html": [
       "<div>\n",
       "<style scoped>\n",
       "    .dataframe tbody tr th:only-of-type {\n",
       "        vertical-align: middle;\n",
       "    }\n",
       "\n",
       "    .dataframe tbody tr th {\n",
       "        vertical-align: top;\n",
       "    }\n",
       "\n",
       "    .dataframe thead th {\n",
       "        text-align: right;\n",
       "    }\n",
       "</style>\n",
       "<table border=\"1\" class=\"dataframe\">\n",
       "  <thead>\n",
       "    <tr style=\"text-align: right;\">\n",
       "      <th></th>\n",
       "      <th>event_datetime</th>\n",
       "      <th>event</th>\n",
       "      <th>building_type</th>\n",
       "      <th>user_id</th>\n",
       "      <th>project_type</th>\n",
       "      <th>finished</th>\n",
       "    </tr>\n",
       "  </thead>\n",
       "  <tbody>\n",
       "    <tr>\n",
       "      <th>1</th>\n",
       "      <td>2020-05-04 00:00:03</td>\n",
       "      <td>building</td>\n",
       "      <td>assembly_shop</td>\n",
       "      <td>c07b1c10-f477-44dc-81dc-ec82254b1347</td>\n",
       "      <td>NaN</td>\n",
       "      <td>project</td>\n",
       "    </tr>\n",
       "    <tr>\n",
       "      <th>27085</th>\n",
       "      <td>2020-05-06 23:49:25</td>\n",
       "      <td>building</td>\n",
       "      <td>assembly_shop</td>\n",
       "      <td>c07b1c10-f477-44dc-81dc-ec82254b1347</td>\n",
       "      <td>NaN</td>\n",
       "      <td>project</td>\n",
       "    </tr>\n",
       "    <tr>\n",
       "      <th>28866</th>\n",
       "      <td>2020-05-07 03:56:30</td>\n",
       "      <td>building</td>\n",
       "      <td>spaceport</td>\n",
       "      <td>c07b1c10-f477-44dc-81dc-ec82254b1347</td>\n",
       "      <td>NaN</td>\n",
       "      <td>project</td>\n",
       "    </tr>\n",
       "    <tr>\n",
       "      <th>30712</th>\n",
       "      <td>2020-05-07 07:58:20</td>\n",
       "      <td>building</td>\n",
       "      <td>assembly_shop</td>\n",
       "      <td>c07b1c10-f477-44dc-81dc-ec82254b1347</td>\n",
       "      <td>NaN</td>\n",
       "      <td>project</td>\n",
       "    </tr>\n",
       "    <tr>\n",
       "      <th>30946</th>\n",
       "      <td>2020-05-07 08:30:13</td>\n",
       "      <td>building</td>\n",
       "      <td>assembly_shop</td>\n",
       "      <td>c07b1c10-f477-44dc-81dc-ec82254b1347</td>\n",
       "      <td>NaN</td>\n",
       "      <td>project</td>\n",
       "    </tr>\n",
       "    <tr>\n",
       "      <th>55068</th>\n",
       "      <td>2020-05-09 09:30:40</td>\n",
       "      <td>building</td>\n",
       "      <td>assembly_shop</td>\n",
       "      <td>c07b1c10-f477-44dc-81dc-ec82254b1347</td>\n",
       "      <td>NaN</td>\n",
       "      <td>project</td>\n",
       "    </tr>\n",
       "    <tr>\n",
       "      <th>64546</th>\n",
       "      <td>2020-05-10 02:18:34</td>\n",
       "      <td>building</td>\n",
       "      <td>assembly_shop</td>\n",
       "      <td>c07b1c10-f477-44dc-81dc-ec82254b1347</td>\n",
       "      <td>NaN</td>\n",
       "      <td>project</td>\n",
       "    </tr>\n",
       "    <tr>\n",
       "      <th>86328</th>\n",
       "      <td>2020-05-11 23:16:25</td>\n",
       "      <td>building</td>\n",
       "      <td>research_center</td>\n",
       "      <td>c07b1c10-f477-44dc-81dc-ec82254b1347</td>\n",
       "      <td>NaN</td>\n",
       "      <td>project</td>\n",
       "    </tr>\n",
       "    <tr>\n",
       "      <th>88074</th>\n",
       "      <td>2020-05-12 04:26:44</td>\n",
       "      <td>building</td>\n",
       "      <td>research_center</td>\n",
       "      <td>c07b1c10-f477-44dc-81dc-ec82254b1347</td>\n",
       "      <td>NaN</td>\n",
       "      <td>project</td>\n",
       "    </tr>\n",
       "    <tr>\n",
       "      <th>96372</th>\n",
       "      <td>2020-05-13 05:45:37</td>\n",
       "      <td>building</td>\n",
       "      <td>spaceport</td>\n",
       "      <td>c07b1c10-f477-44dc-81dc-ec82254b1347</td>\n",
       "      <td>NaN</td>\n",
       "      <td>project</td>\n",
       "    </tr>\n",
       "    <tr>\n",
       "      <th>96713</th>\n",
       "      <td>2020-05-13 06:53:03</td>\n",
       "      <td>project</td>\n",
       "      <td>NaN</td>\n",
       "      <td>c07b1c10-f477-44dc-81dc-ec82254b1347</td>\n",
       "      <td>satellite_orbital_assembly</td>\n",
       "      <td>project</td>\n",
       "    </tr>\n",
       "    <tr>\n",
       "      <th>104201</th>\n",
       "      <td>2020-05-14 07:07:27</td>\n",
       "      <td>building</td>\n",
       "      <td>spaceport</td>\n",
       "      <td>c07b1c10-f477-44dc-81dc-ec82254b1347</td>\n",
       "      <td>NaN</td>\n",
       "      <td>project</td>\n",
       "    </tr>\n",
       "    <tr>\n",
       "      <th>110365</th>\n",
       "      <td>2020-05-15 05:29:13</td>\n",
       "      <td>finished_stage_1</td>\n",
       "      <td>NaN</td>\n",
       "      <td>c07b1c10-f477-44dc-81dc-ec82254b1347</td>\n",
       "      <td>NaN</td>\n",
       "      <td>project</td>\n",
       "    </tr>\n",
       "  </tbody>\n",
       "</table>\n",
       "</div>"
      ],
      "text/plain": [
       "            event_datetime             event    building_type  \\\n",
       "1      2020-05-04 00:00:03          building    assembly_shop   \n",
       "27085  2020-05-06 23:49:25          building    assembly_shop   \n",
       "28866  2020-05-07 03:56:30          building        spaceport   \n",
       "30712  2020-05-07 07:58:20          building    assembly_shop   \n",
       "30946  2020-05-07 08:30:13          building    assembly_shop   \n",
       "55068  2020-05-09 09:30:40          building    assembly_shop   \n",
       "64546  2020-05-10 02:18:34          building    assembly_shop   \n",
       "86328  2020-05-11 23:16:25          building  research_center   \n",
       "88074  2020-05-12 04:26:44          building  research_center   \n",
       "96372  2020-05-13 05:45:37          building        spaceport   \n",
       "96713  2020-05-13 06:53:03           project              NaN   \n",
       "104201 2020-05-14 07:07:27          building        spaceport   \n",
       "110365 2020-05-15 05:29:13  finished_stage_1              NaN   \n",
       "\n",
       "                                     user_id                project_type  \\\n",
       "1       c07b1c10-f477-44dc-81dc-ec82254b1347                         NaN   \n",
       "27085   c07b1c10-f477-44dc-81dc-ec82254b1347                         NaN   \n",
       "28866   c07b1c10-f477-44dc-81dc-ec82254b1347                         NaN   \n",
       "30712   c07b1c10-f477-44dc-81dc-ec82254b1347                         NaN   \n",
       "30946   c07b1c10-f477-44dc-81dc-ec82254b1347                         NaN   \n",
       "55068   c07b1c10-f477-44dc-81dc-ec82254b1347                         NaN   \n",
       "64546   c07b1c10-f477-44dc-81dc-ec82254b1347                         NaN   \n",
       "86328   c07b1c10-f477-44dc-81dc-ec82254b1347                         NaN   \n",
       "88074   c07b1c10-f477-44dc-81dc-ec82254b1347                         NaN   \n",
       "96372   c07b1c10-f477-44dc-81dc-ec82254b1347                         NaN   \n",
       "96713   c07b1c10-f477-44dc-81dc-ec82254b1347  satellite_orbital_assembly   \n",
       "104201  c07b1c10-f477-44dc-81dc-ec82254b1347                         NaN   \n",
       "110365  c07b1c10-f477-44dc-81dc-ec82254b1347                         NaN   \n",
       "\n",
       "       finished  \n",
       "1       project  \n",
       "27085   project  \n",
       "28866   project  \n",
       "30712   project  \n",
       "30946   project  \n",
       "55068   project  \n",
       "64546   project  \n",
       "86328   project  \n",
       "88074   project  \n",
       "96372   project  \n",
       "96713   project  \n",
       "104201  project  \n",
       "110365  project  "
      ]
     },
     "execution_count": 22,
     "metadata": {},
     "output_type": "execute_result"
    }
   ],
   "source": [
    "game_actions.query('user_id == \"c07b1c10-f477-44dc-81dc-ec82254b1347\"')"
   ]
  },
  {
   "cell_type": "markdown",
   "id": "4ca2d9cf",
   "metadata": {},
   "source": [
    "Видим, что у нас сначала завершился проект, потом на следующий день достроилось здание, а ещё на следующий - произошёл переход на новый уровень. ВОзможно, пользователь не может перейти на следующий уровень до того, как у него всё не достроится на первом (автоматический трекинг события), и пока он не подтвердит, что строительство завершено и он переходит. Иначе непонятен такой разрыв в днях. \n",
    "\n",
    "Посмотрим, какое у нас распределение закончивших/не закончивших уровень."
   ]
  },
  {
   "cell_type": "code",
   "execution_count": 23,
   "id": "c402db0b",
   "metadata": {
    "scrolled": true
   },
   "outputs": [
    {
     "name": "stdout",
     "output_type": "stream",
     "text": [
      " % пользователей, заверших/не завершивших уровень в 1-й месяц:\n"
     ]
    },
    {
     "data": {
      "text/html": [
       "<div>\n",
       "<style scoped>\n",
       "    .dataframe tbody tr th:only-of-type {\n",
       "        vertical-align: middle;\n",
       "    }\n",
       "\n",
       "    .dataframe tbody tr th {\n",
       "        vertical-align: top;\n",
       "    }\n",
       "\n",
       "    .dataframe thead th {\n",
       "        text-align: right;\n",
       "    }\n",
       "</style>\n",
       "<table border=\"1\" class=\"dataframe\">\n",
       "  <thead>\n",
       "    <tr style=\"text-align: right;\">\n",
       "      <th></th>\n",
       "      <th>user_id</th>\n",
       "    </tr>\n",
       "    <tr>\n",
       "      <th>finished</th>\n",
       "      <th></th>\n",
       "    </tr>\n",
       "  </thead>\n",
       "  <tbody>\n",
       "    <tr>\n",
       "      <th>battle</th>\n",
       "      <td>29.102829</td>\n",
       "    </tr>\n",
       "    <tr>\n",
       "      <th>project</th>\n",
       "      <td>13.744844</td>\n",
       "    </tr>\n",
       "    <tr>\n",
       "      <th>unfinished</th>\n",
       "      <td>57.152328</td>\n",
       "    </tr>\n",
       "  </tbody>\n",
       "</table>\n",
       "</div>"
      ],
      "text/plain": [
       "              user_id\n",
       "finished             \n",
       "battle      29.102829\n",
       "project     13.744844\n",
       "unfinished  57.152328"
      ]
     },
     "execution_count": 23,
     "metadata": {},
     "output_type": "execute_result"
    }
   ],
   "source": [
    "print(' % пользователей, заверших/не завершивших уровень в 1-й месяц:')\n",
    "\n",
    "(\n",
    "    game_actions\n",
    "    .groupby('finished')['user_id'].nunique()\n",
    "    .reset_index()\n",
    "    .groupby('finished')\n",
    "    .agg({'user_id': lambda x: x / game_actions['user_id'].nunique() * 100})\n",
    ")"
   ]
  },
  {
   "cell_type": "code",
   "execution_count": 24,
   "id": "1bb49d55",
   "metadata": {
    "scrolled": true
   },
   "outputs": [
    {
     "name": "stdout",
     "output_type": "stream",
     "text": [
      "% пользователей, заверших уровень в 1-й месяц:\n"
     ]
    },
    {
     "data": {
      "text/plain": [
       "42.85"
      ]
     },
     "execution_count": 24,
     "metadata": {},
     "output_type": "execute_result"
    }
   ],
   "source": [
    "print('% пользователей, заверших уровень в 1-й месяц:')\n",
    "np.round(game_actions.query('event == \"finished_stage_1\"')['user_id'].nunique() / game_actions['user_id'].nunique() * 100, 2)"
   ]
  },
  {
   "cell_type": "markdown",
   "id": "f910be5e",
   "metadata": {},
   "source": [
    "42.85% прохождения игры в первый месяц - довольно хороший результат, с учётом того, что остальные могут завершить уровень в следующий месяц. Построим гистограмму и сравним распределение событий в группах закончивших/не закончивших, чтобы выяснить, что провоцирует резкий спад событий 11 мая."
   ]
  },
  {
   "cell_type": "code",
   "execution_count": 25,
   "id": "c8691257",
   "metadata": {},
   "outputs": [
    {
     "data": {
      "image/png": "[encoded data removed]",
      "text/plain": [
       "<Figure size 1080x504 with 1 Axes>"
      ]
     },
     "metadata": {
      "needs_background": "light"
     },
     "output_type": "display_data"
    }
   ],
   "source": [
    "plt.figure(figsize = (15,7))\n",
    "\n",
    "for var in ['unfinished', 'battle', 'project']:\n",
    "    \n",
    "    b = int(game_actions.query('finished == @var')['event_datetime'].shape[0]**0.5)\n",
    "    \n",
    "    game_actions.query('finished == @var')['event_datetime'].hist(label=f\"Категория пользователя - {var}\", bins=b, alpha=0.5)\n",
    "\n",
    "plt.title('Распределение событий по времени', fontsize=15)\n",
    "plt.xlabel('Дата')\n",
    "plt.ylabel('Кол-во событий')\n",
    "plt.legend()\n",
    "\n",
    "plt.show()"
   ]
  },
  {
   "cell_type": "markdown",
   "id": "e3c2bd8e",
   "metadata": {},
   "source": [
    "Поведение пользователей, не закончивших уровень, абсолютрно идентично тем, кто его закончил. То есть, ввероятно, пользователи ещё дойдут до завершения уровня. Посмотрим теперь, когда именно пользователи заканчивают уровень."
   ]
  },
  {
   "cell_type": "code",
   "execution_count": 26,
   "id": "a3cac363",
   "metadata": {
    "scrolled": false
   },
   "outputs": [
    {
     "data": {
      "image/png": "[encoded data removed]",
      "text/plain": [
       "<Figure size 1080x504 with 1 Axes>"
      ]
     },
     "metadata": {
      "needs_background": "light"
     },
     "output_type": "display_data"
    }
   ],
   "source": [
    "plt.figure(figsize = (15,7))\n",
    "\n",
    "for var in ['battle', 'project']:\n",
    "\n",
    "    b = int(game_actions.query('event == \"finished_stage_1\" & finished == @var')['event_datetime'].shape[0]**0.5)\n",
    "\n",
    "    (\n",
    "        game_actions\n",
    "        .query('event == \"finished_stage_1\" & finished == @var')['event_datetime']\n",
    "        .hist(label=f\"Закончили уровень через {var}\", bins=b, alpha=0.6)\n",
    "    )\n",
    "\n",
    "plt.title('Распределение завершения уровня по времени', fontsize=15)\n",
    "plt.xlabel('Дата')\n",
    "plt.ylabel('Кол-во событий')\n",
    "plt.legend()\n",
    "#plt.savefig('fin_hist.png')\n",
    "\n",
    "plt.show()"
   ]
  },
  {
   "cell_type": "markdown",
   "id": "4c680cbd",
   "metadata": {},
   "source": [
    "Текущая гистограмма имеет более нормальное распредление. \n",
    "\n",
    "1. Видим, что большинство пользователей заканчивают уровень где-то 16 мая. \n",
    "2. Через battle уровень можно завершить раньше, чем через project. \n",
    "3. Ненормальное распределение провоцируют события building. Необходимо понять, какие именно.\n",
    "\n",
    "Посмотрим на события в разбивке по типу пользователя."
   ]
  },
  {
   "cell_type": "code",
   "execution_count": 27,
   "id": "cc7c7bac",
   "metadata": {},
   "outputs": [],
   "source": [
    "game_actions['event_datetime_d'] = game_actions['event_datetime'].dt.date"
   ]
  },
  {
   "cell_type": "code",
   "execution_count": 28,
   "id": "b6784664",
   "metadata": {},
   "outputs": [
    {
     "data": {
      "image/png": "[encoded data removed]",
      "text/plain": [
       "<Figure size 720x360 with 1 Axes>"
      ]
     },
     "metadata": {
      "needs_background": "light"
     },
     "output_type": "display_data"
    },
    {
     "data": {
      "image/png": "[encoded data removed]",
      "text/plain": [
       "<Figure size 720x360 with 1 Axes>"
      ]
     },
     "metadata": {
      "needs_background": "light"
     },
     "output_type": "display_data"
    },
    {
     "data": {
      "image/png": "[encoded data removed]",
      "text/plain": [
       "<Figure size 720x360 with 1 Axes>"
      ]
     },
     "metadata": {
      "needs_background": "light"
     },
     "output_type": "display_data"
    }
   ],
   "source": [
    "for ind in ['project', 'battle', 'unfinished']:\n",
    "    \n",
    "    (\n",
    "        game_actions\n",
    "        .query('finished == @ind')\n",
    "        .pivot_table(index='event_datetime_d', columns='building_type', values='user_id', aggfunc='count')\n",
    "        .plot(figsize=(10, 5), alpha=0.6, linewidth=3)\n",
    "    )\n",
    "\n",
    "    plt.title(f\"Распределение постройки разных типов зданий для {ind}\", fontsize=15)\n",
    "    plt.xlabel('Дата')\n",
    "    plt.ylabel('Кол-во событий')\n",
    "    plt.legend()\n",
    "\n",
    "    plt.show()"
   ]
  },
  {
   "cell_type": "markdown",
   "id": "fb24c913",
   "metadata": {},
   "source": [
    "Видим для всех пользователей одинаковую картину распределения событий. Сначала они строят assembly_shop. Числа 11 строительство этого типа зданий резко прекращается. Кол-во построенных зданий всегда одинаково. Можно предположить, что строительство здания необходимо для постройки research_center, т.к. видим, что в самом начале пользователи не строят ни одного такого здания. Строительство этого типа происходит в первую неделю приобретения пользователей."
   ]
  },
  {
   "cell_type": "code",
   "execution_count": 29,
   "id": "e700a0c5",
   "metadata": {},
   "outputs": [
    {
     "name": "stdout",
     "output_type": "stream",
     "text": [
      "Первое событие строительство research_center:\n"
     ]
    },
    {
     "data": {
      "text/plain": [
       "Timestamp('2020-05-06 03:43:43')"
      ]
     },
     "execution_count": 29,
     "metadata": {},
     "output_type": "execute_result"
    }
   ],
   "source": [
    "print('Первое событие строительство research_center:')\n",
    "game_actions.query('building_type == \"research_center\"')['event_datetime'].min()"
   ]
  },
  {
   "cell_type": "markdown",
   "id": "d509c706",
   "metadata": {},
   "source": [
    "Высчитаем timedelta между событиями, чтобы понять, сколько времени занимает их строительство. В таймдельту будем записывать время от 1-го события до следующего, поэтому таймдельта для 1-го события будет NaN. Следовательно часть таймдельты для assembly_shop мы потеряем из-за того, что это первое событие в приложении и первый тип здания, который может построить пользователь."
   ]
  },
  {
   "cell_type": "code",
   "execution_count": 30,
   "id": "6c86c324",
   "metadata": {},
   "outputs": [
    {
     "name": "stdout",
     "output_type": "stream",
     "text": [
      "CPU times: user 2.4 s, sys: 32 ms, total: 2.43 s\n",
      "Wall time: 2.45 s\n"
     ]
    }
   ],
   "source": [
    "%%time\n",
    "\n",
    "game_actions['timedelta'] = game_actions.groupby('user_id')['event_datetime'].diff()"
   ]
  },
  {
   "cell_type": "code",
   "execution_count": 31,
   "id": "cc611b69",
   "metadata": {
    "scrolled": false
   },
   "outputs": [
    {
     "data": {
      "text/html": [
       "<div>\n",
       "<style scoped>\n",
       "    .dataframe tbody tr th:only-of-type {\n",
       "        vertical-align: middle;\n",
       "    }\n",
       "\n",
       "    .dataframe tbody tr th {\n",
       "        vertical-align: top;\n",
       "    }\n",
       "\n",
       "    .dataframe thead th {\n",
       "        text-align: right;\n",
       "    }\n",
       "</style>\n",
       "<table border=\"1\" class=\"dataframe\">\n",
       "  <thead>\n",
       "    <tr style=\"text-align: right;\">\n",
       "      <th></th>\n",
       "      <th>event_datetime</th>\n",
       "      <th>event</th>\n",
       "      <th>building_type</th>\n",
       "      <th>user_id</th>\n",
       "      <th>project_type</th>\n",
       "      <th>finished</th>\n",
       "      <th>event_datetime_d</th>\n",
       "      <th>timedelta</th>\n",
       "    </tr>\n",
       "  </thead>\n",
       "  <tbody>\n",
       "    <tr>\n",
       "      <th>1</th>\n",
       "      <td>2020-05-04 00:00:03</td>\n",
       "      <td>building</td>\n",
       "      <td>assembly_shop</td>\n",
       "      <td>c07b1c10-f477-44dc-81dc-ec82254b1347</td>\n",
       "      <td>NaN</td>\n",
       "      <td>project</td>\n",
       "      <td>2020-05-04</td>\n",
       "      <td>NaT</td>\n",
       "    </tr>\n",
       "    <tr>\n",
       "      <th>27085</th>\n",
       "      <td>2020-05-06 23:49:25</td>\n",
       "      <td>building</td>\n",
       "      <td>assembly_shop</td>\n",
       "      <td>c07b1c10-f477-44dc-81dc-ec82254b1347</td>\n",
       "      <td>NaN</td>\n",
       "      <td>project</td>\n",
       "      <td>2020-05-06</td>\n",
       "      <td>2 days 23:49:22</td>\n",
       "    </tr>\n",
       "    <tr>\n",
       "      <th>28866</th>\n",
       "      <td>2020-05-07 03:56:30</td>\n",
       "      <td>building</td>\n",
       "      <td>spaceport</td>\n",
       "      <td>c07b1c10-f477-44dc-81dc-ec82254b1347</td>\n",
       "      <td>NaN</td>\n",
       "      <td>project</td>\n",
       "      <td>2020-05-07</td>\n",
       "      <td>0 days 04:07:05</td>\n",
       "    </tr>\n",
       "    <tr>\n",
       "      <th>30712</th>\n",
       "      <td>2020-05-07 07:58:20</td>\n",
       "      <td>building</td>\n",
       "      <td>assembly_shop</td>\n",
       "      <td>c07b1c10-f477-44dc-81dc-ec82254b1347</td>\n",
       "      <td>NaN</td>\n",
       "      <td>project</td>\n",
       "      <td>2020-05-07</td>\n",
       "      <td>0 days 04:01:50</td>\n",
       "    </tr>\n",
       "    <tr>\n",
       "      <th>30946</th>\n",
       "      <td>2020-05-07 08:30:13</td>\n",
       "      <td>building</td>\n",
       "      <td>assembly_shop</td>\n",
       "      <td>c07b1c10-f477-44dc-81dc-ec82254b1347</td>\n",
       "      <td>NaN</td>\n",
       "      <td>project</td>\n",
       "      <td>2020-05-07</td>\n",
       "      <td>0 days 00:31:53</td>\n",
       "    </tr>\n",
       "    <tr>\n",
       "      <th>55068</th>\n",
       "      <td>2020-05-09 09:30:40</td>\n",
       "      <td>building</td>\n",
       "      <td>assembly_shop</td>\n",
       "      <td>c07b1c10-f477-44dc-81dc-ec82254b1347</td>\n",
       "      <td>NaN</td>\n",
       "      <td>project</td>\n",
       "      <td>2020-05-09</td>\n",
       "      <td>2 days 01:00:27</td>\n",
       "    </tr>\n",
       "    <tr>\n",
       "      <th>64546</th>\n",
       "      <td>2020-05-10 02:18:34</td>\n",
       "      <td>building</td>\n",
       "      <td>assembly_shop</td>\n",
       "      <td>c07b1c10-f477-44dc-81dc-ec82254b1347</td>\n",
       "      <td>NaN</td>\n",
       "      <td>project</td>\n",
       "      <td>2020-05-10</td>\n",
       "      <td>0 days 16:47:54</td>\n",
       "    </tr>\n",
       "    <tr>\n",
       "      <th>86328</th>\n",
       "      <td>2020-05-11 23:16:25</td>\n",
       "      <td>building</td>\n",
       "      <td>research_center</td>\n",
       "      <td>c07b1c10-f477-44dc-81dc-ec82254b1347</td>\n",
       "      <td>NaN</td>\n",
       "      <td>project</td>\n",
       "      <td>2020-05-11</td>\n",
       "      <td>1 days 20:57:51</td>\n",
       "    </tr>\n",
       "    <tr>\n",
       "      <th>88074</th>\n",
       "      <td>2020-05-12 04:26:44</td>\n",
       "      <td>building</td>\n",
       "      <td>research_center</td>\n",
       "      <td>c07b1c10-f477-44dc-81dc-ec82254b1347</td>\n",
       "      <td>NaN</td>\n",
       "      <td>project</td>\n",
       "      <td>2020-05-12</td>\n",
       "      <td>0 days 05:10:19</td>\n",
       "    </tr>\n",
       "    <tr>\n",
       "      <th>96372</th>\n",
       "      <td>2020-05-13 05:45:37</td>\n",
       "      <td>building</td>\n",
       "      <td>spaceport</td>\n",
       "      <td>c07b1c10-f477-44dc-81dc-ec82254b1347</td>\n",
       "      <td>NaN</td>\n",
       "      <td>project</td>\n",
       "      <td>2020-05-13</td>\n",
       "      <td>1 days 01:18:53</td>\n",
       "    </tr>\n",
       "    <tr>\n",
       "      <th>96713</th>\n",
       "      <td>2020-05-13 06:53:03</td>\n",
       "      <td>project</td>\n",
       "      <td>NaN</td>\n",
       "      <td>c07b1c10-f477-44dc-81dc-ec82254b1347</td>\n",
       "      <td>satellite_orbital_assembly</td>\n",
       "      <td>project</td>\n",
       "      <td>2020-05-13</td>\n",
       "      <td>0 days 01:07:26</td>\n",
       "    </tr>\n",
       "    <tr>\n",
       "      <th>104201</th>\n",
       "      <td>2020-05-14 07:07:27</td>\n",
       "      <td>building</td>\n",
       "      <td>spaceport</td>\n",
       "      <td>c07b1c10-f477-44dc-81dc-ec82254b1347</td>\n",
       "      <td>NaN</td>\n",
       "      <td>project</td>\n",
       "      <td>2020-05-14</td>\n",
       "      <td>1 days 00:14:24</td>\n",
       "    </tr>\n",
       "    <tr>\n",
       "      <th>110365</th>\n",
       "      <td>2020-05-15 05:29:13</td>\n",
       "      <td>finished_stage_1</td>\n",
       "      <td>NaN</td>\n",
       "      <td>c07b1c10-f477-44dc-81dc-ec82254b1347</td>\n",
       "      <td>NaN</td>\n",
       "      <td>project</td>\n",
       "      <td>2020-05-15</td>\n",
       "      <td>0 days 22:21:46</td>\n",
       "    </tr>\n",
       "  </tbody>\n",
       "</table>\n",
       "</div>"
      ],
      "text/plain": [
       "            event_datetime             event    building_type  \\\n",
       "1      2020-05-04 00:00:03          building    assembly_shop   \n",
       "27085  2020-05-06 23:49:25          building    assembly_shop   \n",
       "28866  2020-05-07 03:56:30          building        spaceport   \n",
       "30712  2020-05-07 07:58:20          building    assembly_shop   \n",
       "30946  2020-05-07 08:30:13          building    assembly_shop   \n",
       "55068  2020-05-09 09:30:40          building    assembly_shop   \n",
       "64546  2020-05-10 02:18:34          building    assembly_shop   \n",
       "86328  2020-05-11 23:16:25          building  research_center   \n",
       "88074  2020-05-12 04:26:44          building  research_center   \n",
       "96372  2020-05-13 05:45:37          building        spaceport   \n",
       "96713  2020-05-13 06:53:03           project              NaN   \n",
       "104201 2020-05-14 07:07:27          building        spaceport   \n",
       "110365 2020-05-15 05:29:13  finished_stage_1              NaN   \n",
       "\n",
       "                                     user_id                project_type  \\\n",
       "1       c07b1c10-f477-44dc-81dc-ec82254b1347                         NaN   \n",
       "27085   c07b1c10-f477-44dc-81dc-ec82254b1347                         NaN   \n",
       "28866   c07b1c10-f477-44dc-81dc-ec82254b1347                         NaN   \n",
       "30712   c07b1c10-f477-44dc-81dc-ec82254b1347                         NaN   \n",
       "30946   c07b1c10-f477-44dc-81dc-ec82254b1347                         NaN   \n",
       "55068   c07b1c10-f477-44dc-81dc-ec82254b1347                         NaN   \n",
       "64546   c07b1c10-f477-44dc-81dc-ec82254b1347                         NaN   \n",
       "86328   c07b1c10-f477-44dc-81dc-ec82254b1347                         NaN   \n",
       "88074   c07b1c10-f477-44dc-81dc-ec82254b1347                         NaN   \n",
       "96372   c07b1c10-f477-44dc-81dc-ec82254b1347                         NaN   \n",
       "96713   c07b1c10-f477-44dc-81dc-ec82254b1347  satellite_orbital_assembly   \n",
       "104201  c07b1c10-f477-44dc-81dc-ec82254b1347                         NaN   \n",
       "110365  c07b1c10-f477-44dc-81dc-ec82254b1347                         NaN   \n",
       "\n",
       "       finished event_datetime_d       timedelta  \n",
       "1       project       2020-05-04             NaT  \n",
       "27085   project       2020-05-06 2 days 23:49:22  \n",
       "28866   project       2020-05-07 0 days 04:07:05  \n",
       "30712   project       2020-05-07 0 days 04:01:50  \n",
       "30946   project       2020-05-07 0 days 00:31:53  \n",
       "55068   project       2020-05-09 2 days 01:00:27  \n",
       "64546   project       2020-05-10 0 days 16:47:54  \n",
       "86328   project       2020-05-11 1 days 20:57:51  \n",
       "88074   project       2020-05-12 0 days 05:10:19  \n",
       "96372   project       2020-05-13 1 days 01:18:53  \n",
       "96713   project       2020-05-13 0 days 01:07:26  \n",
       "104201  project       2020-05-14 1 days 00:14:24  \n",
       "110365  project       2020-05-15 0 days 22:21:46  "
      ]
     },
     "execution_count": 31,
     "metadata": {},
     "output_type": "execute_result"
    }
   ],
   "source": [
    "game_actions.query('user_id == \"c07b1c10-f477-44dc-81dc-ec82254b1347\"')"
   ]
  },
  {
   "cell_type": "markdown",
   "id": "efa87a59",
   "metadata": {},
   "source": [
    "Посмотрим на таймдельту в разбивке по зданиям."
   ]
  },
  {
   "cell_type": "code",
   "execution_count": 32,
   "id": "f7783be3",
   "metadata": {},
   "outputs": [
    {
     "data": {
      "text/html": [
       "<div>\n",
       "<style scoped>\n",
       "    .dataframe tbody tr th:only-of-type {\n",
       "        vertical-align: middle;\n",
       "    }\n",
       "\n",
       "    .dataframe tbody tr th {\n",
       "        vertical-align: top;\n",
       "    }\n",
       "\n",
       "    .dataframe thead th {\n",
       "        text-align: right;\n",
       "    }\n",
       "</style>\n",
       "<table border=\"1\" class=\"dataframe\">\n",
       "  <thead>\n",
       "    <tr style=\"text-align: right;\">\n",
       "      <th>building_type</th>\n",
       "      <th>assembly_shop</th>\n",
       "      <th>research_center</th>\n",
       "      <th>spaceport</th>\n",
       "    </tr>\n",
       "  </thead>\n",
       "  <tbody>\n",
       "    <tr>\n",
       "      <th>count</th>\n",
       "      <td>40918</td>\n",
       "      <td>14137</td>\n",
       "      <td>59325</td>\n",
       "    </tr>\n",
       "    <tr>\n",
       "      <th>mean</th>\n",
       "      <td>0 days 22:43:08.420743926</td>\n",
       "      <td>1 days 00:14:03.205276932</td>\n",
       "      <td>1 days 11:07:46.481854193</td>\n",
       "    </tr>\n",
       "    <tr>\n",
       "      <th>std</th>\n",
       "      <td>0 days 21:42:53.300465770</td>\n",
       "      <td>0 days 18:40:29.750351809</td>\n",
       "      <td>1 days 09:58:39.249225850</td>\n",
       "    </tr>\n",
       "    <tr>\n",
       "      <th>min</th>\n",
       "      <td>0 days 00:00:02</td>\n",
       "      <td>0 days 00:00:07</td>\n",
       "      <td>0 days 00:00:04</td>\n",
       "    </tr>\n",
       "    <tr>\n",
       "      <th>25%</th>\n",
       "      <td>0 days 06:44:27.250000</td>\n",
       "      <td>0 days 08:32:09</td>\n",
       "      <td>0 days 09:43:16</td>\n",
       "    </tr>\n",
       "    <tr>\n",
       "      <th>50%</th>\n",
       "      <td>0 days 16:05:17.500000</td>\n",
       "      <td>0 days 19:51:14</td>\n",
       "      <td>0 days 23:54:25</td>\n",
       "    </tr>\n",
       "    <tr>\n",
       "      <th>75%</th>\n",
       "      <td>1 days 07:55:46.750000</td>\n",
       "      <td>1 days 12:45:41</td>\n",
       "      <td>2 days 01:57:00</td>\n",
       "    </tr>\n",
       "    <tr>\n",
       "      <th>max</th>\n",
       "      <td>6 days 14:50:14</td>\n",
       "      <td>2 days 23:59:46</td>\n",
       "      <td>6 days 23:57:14</td>\n",
       "    </tr>\n",
       "  </tbody>\n",
       "</table>\n",
       "</div>"
      ],
      "text/plain": [
       "building_type              assembly_shop            research_center  \\\n",
       "count                              40918                      14137   \n",
       "mean           0 days 22:43:08.420743926  1 days 00:14:03.205276932   \n",
       "std            0 days 21:42:53.300465770  0 days 18:40:29.750351809   \n",
       "min                      0 days 00:00:02            0 days 00:00:07   \n",
       "25%               0 days 06:44:27.250000            0 days 08:32:09   \n",
       "50%               0 days 16:05:17.500000            0 days 19:51:14   \n",
       "75%               1 days 07:55:46.750000            1 days 12:45:41   \n",
       "max                      6 days 14:50:14            2 days 23:59:46   \n",
       "\n",
       "building_type                  spaceport  \n",
       "count                              59325  \n",
       "mean           1 days 11:07:46.481854193  \n",
       "std            1 days 09:58:39.249225850  \n",
       "min                      0 days 00:00:04  \n",
       "25%                      0 days 09:43:16  \n",
       "50%                      0 days 23:54:25  \n",
       "75%                      2 days 01:57:00  \n",
       "max                      6 days 23:57:14  "
      ]
     },
     "execution_count": 32,
     "metadata": {},
     "output_type": "execute_result"
    }
   ],
   "source": [
    "game_actions.groupby('building_type')['timedelta'].describe(include='all').round(2).T"
   ]
  },
  {
   "cell_type": "markdown",
   "id": "f9ce9fbb",
   "metadata": {},
   "source": [
    "Видим, что у нас медиана между событиями в простройке зданий проходит где-то на 16-23 часах. То есть, вероятно, столько времени проходит между постройкой 2-х зданий. Каких точно, мы не можем сказать, т.к. логи записываются по порядку и постройка может инициироваться во время строительства ещё одного объекта. Тем не менее, мы можем заметить тренды:\n",
    "\n",
    "1. Меньше всего времени занимает строительство assembly_shop (медиана - 16 ч). Затем идёт research_center(20 ч) и spaceport (24 ч).\n",
    "2. Возможно, у assembly_shop самое минимальное время не потому, что оно действительно минимальное, а из-за того, что пользователи в процессе погружения в игру заходят в неё/строят максимально часто.\n",
    "3. research_center - это событие, которое открывется последним, поэтому до его постройки у нас самое \"минимальное максимальное\" время - всего 3 дня. Вероятно, пользователи, которые его строят, уже наиболее вовлечены в игру и наименее будут подвержены оттоку. Или же, это происходит благодаря наложению финиша событий spaceport.\n",
    "2. Видим, что хотя бы 1 р/день пользователи всё-таки заходят в приложение, что должно положительно влиять на retention.\n",
    "\n",
    "Посчитаем среднее время, которое необходимо для прохождения игры, в днях."
   ]
  },
  {
   "cell_type": "code",
   "execution_count": 33,
   "id": "0add75df",
   "metadata": {
    "scrolled": true
   },
   "outputs": [
    {
     "data": {
      "text/html": [
       "<div>\n",
       "<style scoped>\n",
       "    .dataframe tbody tr th:only-of-type {\n",
       "        vertical-align: middle;\n",
       "    }\n",
       "\n",
       "    .dataframe tbody tr th {\n",
       "        vertical-align: top;\n",
       "    }\n",
       "\n",
       "    .dataframe thead th {\n",
       "        text-align: right;\n",
       "    }\n",
       "</style>\n",
       "<table border=\"1\" class=\"dataframe\">\n",
       "  <thead>\n",
       "    <tr style=\"text-align: right;\">\n",
       "      <th></th>\n",
       "      <th>user_id</th>\n",
       "      <th>finished</th>\n",
       "      <th>timedelta</th>\n",
       "      <th>timedelta_d</th>\n",
       "    </tr>\n",
       "  </thead>\n",
       "  <tbody>\n",
       "    <tr>\n",
       "      <th>0</th>\n",
       "      <td>0001f83c-c6ac-4621-b7f0-8a28b283ac30</td>\n",
       "      <td>unfinished</td>\n",
       "      <td>14 days 10:18:29</td>\n",
       "      <td>14.0</td>\n",
       "    </tr>\n",
       "    <tr>\n",
       "      <th>1</th>\n",
       "      <td>00151b4f-ba38-44a8-a650-d7cf130a0105</td>\n",
       "      <td>unfinished</td>\n",
       "      <td>12 days 07:37:40</td>\n",
       "      <td>12.0</td>\n",
       "    </tr>\n",
       "    <tr>\n",
       "      <th>2</th>\n",
       "      <td>001aaea6-3d14-43f1-8ca8-7f48820f17aa</td>\n",
       "      <td>unfinished</td>\n",
       "      <td>8 days 15:12:35</td>\n",
       "      <td>8.0</td>\n",
       "    </tr>\n",
       "    <tr>\n",
       "      <th>3</th>\n",
       "      <td>001d39dc-366c-4021-9604-6a3b9ff01e25</td>\n",
       "      <td>battle</td>\n",
       "      <td>6 days 10:38:42</td>\n",
       "      <td>6.0</td>\n",
       "    </tr>\n",
       "    <tr>\n",
       "      <th>4</th>\n",
       "      <td>002f508f-67b6-479f-814b-b05f00d4e995</td>\n",
       "      <td>unfinished</td>\n",
       "      <td>16 days 12:56:47</td>\n",
       "      <td>16.0</td>\n",
       "    </tr>\n",
       "  </tbody>\n",
       "</table>\n",
       "</div>"
      ],
      "text/plain": [
       "                                user_id    finished        timedelta  \\\n",
       "0  0001f83c-c6ac-4621-b7f0-8a28b283ac30  unfinished 14 days 10:18:29   \n",
       "1  00151b4f-ba38-44a8-a650-d7cf130a0105  unfinished 12 days 07:37:40   \n",
       "2  001aaea6-3d14-43f1-8ca8-7f48820f17aa  unfinished  8 days 15:12:35   \n",
       "3  001d39dc-366c-4021-9604-6a3b9ff01e25      battle  6 days 10:38:42   \n",
       "4  002f508f-67b6-479f-814b-b05f00d4e995  unfinished 16 days 12:56:47   \n",
       "\n",
       "   timedelta_d  \n",
       "0         14.0  \n",
       "1         12.0  \n",
       "2          8.0  \n",
       "3          6.0  \n",
       "4         16.0  "
      ]
     },
     "execution_count": 33,
     "metadata": {},
     "output_type": "execute_result"
    }
   ],
   "source": [
    "fin_time = (\n",
    "    game_actions\n",
    "    .groupby(['user_id', 'finished'])\n",
    "    .agg({'event_datetime': lambda x: x.max() - x.min()})\n",
    "    .reset_index()\n",
    "    .rename(columns={'event_datetime': 'timedelta'})\n",
    ")\n",
    "\n",
    "fin_time['timedelta_d'] = fin_time['timedelta'].astype('timedelta64[D]')\n",
    "\n",
    "fin_time.head()"
   ]
  },
  {
   "cell_type": "code",
   "execution_count": 34,
   "id": "acbe81e7",
   "metadata": {
    "scrolled": false
   },
   "outputs": [
    {
     "data": {
      "image/png": "[encoded data removed]",
      "text/plain": [
       "<Figure size 720x360 with 1 Axes>"
      ]
     },
     "metadata": {
      "needs_background": "light"
     },
     "output_type": "display_data"
    }
   ],
   "source": [
    "plt.figure(figsize = (10,5))\n",
    "\n",
    "for var in ['unfinished', 'battle', 'project']:\n",
    "    \n",
    "    b = int(fin_time.query('finished == @var')['timedelta_d'].shape[0]**0.5)\n",
    "    \n",
    "    fin_time.query('finished == @var')['timedelta_d'].hist(label=f\"Категория пользователя - {var}\", bins=b, alpha=0.5)\n",
    "\n",
    "plt.title('Максимальное время от 1-го до последнего события', fontsize=15)\n",
    "plt.xlabel('Дни')\n",
    "plt.ylabel('Кол-во событий')\n",
    "plt.legend()\n",
    "\n",
    "plt.show()"
   ]
  },
  {
   "cell_type": "code",
   "execution_count": 35,
   "id": "30f8513a",
   "metadata": {
    "scrolled": false
   },
   "outputs": [
    {
     "data": {
      "text/html": [
       "<div>\n",
       "<style scoped>\n",
       "    .dataframe tbody tr th:only-of-type {\n",
       "        vertical-align: middle;\n",
       "    }\n",
       "\n",
       "    .dataframe tbody tr th {\n",
       "        vertical-align: top;\n",
       "    }\n",
       "\n",
       "    .dataframe thead th {\n",
       "        text-align: right;\n",
       "    }\n",
       "</style>\n",
       "<table border=\"1\" class=\"dataframe\">\n",
       "  <thead>\n",
       "    <tr style=\"text-align: right;\">\n",
       "      <th>finished</th>\n",
       "      <th>battle</th>\n",
       "      <th>project</th>\n",
       "      <th>unfinished</th>\n",
       "    </tr>\n",
       "  </thead>\n",
       "  <tbody>\n",
       "    <tr>\n",
       "      <th>count</th>\n",
       "      <td>3951</td>\n",
       "      <td>1866</td>\n",
       "      <td>7759</td>\n",
       "    </tr>\n",
       "    <tr>\n",
       "      <th>mean</th>\n",
       "      <td>11 days 02:30:24.076183244</td>\n",
       "      <td>13 days 11:00:49.135048231</td>\n",
       "      <td>9 days 18:54:58.255445289</td>\n",
       "    </tr>\n",
       "    <tr>\n",
       "      <th>std</th>\n",
       "      <td>4 days 02:17:54.287406787</td>\n",
       "      <td>3 days 12:11:01.977069676</td>\n",
       "      <td>4 days 08:16:01.522157579</td>\n",
       "    </tr>\n",
       "    <tr>\n",
       "      <th>min</th>\n",
       "      <td>0 days 09:39:01</td>\n",
       "      <td>5 days 03:22:27</td>\n",
       "      <td>0 days 00:00:00</td>\n",
       "    </tr>\n",
       "    <tr>\n",
       "      <th>25%</th>\n",
       "      <td>8 days 07:01:19.500000</td>\n",
       "      <td>10 days 22:49:58.750000</td>\n",
       "      <td>6 days 15:00:22.500000</td>\n",
       "    </tr>\n",
       "    <tr>\n",
       "      <th>50%</th>\n",
       "      <td>10 days 19:01:37</td>\n",
       "      <td>13 days 00:45:41</td>\n",
       "      <td>9 days 14:34:59</td>\n",
       "    </tr>\n",
       "    <tr>\n",
       "      <th>75%</th>\n",
       "      <td>13 days 10:33:17.500000</td>\n",
       "      <td>15 days 13:47:23.750000</td>\n",
       "      <td>12 days 11:14:57.500000</td>\n",
       "    </tr>\n",
       "    <tr>\n",
       "      <th>max</th>\n",
       "      <td>30 days 21:58:53</td>\n",
       "      <td>29 days 03:13:43</td>\n",
       "      <td>29 days 02:01:24</td>\n",
       "    </tr>\n",
       "  </tbody>\n",
       "</table>\n",
       "</div>"
      ],
      "text/plain": [
       "finished                      battle                     project  \\\n",
       "count                           3951                        1866   \n",
       "mean      11 days 02:30:24.076183244  13 days 11:00:49.135048231   \n",
       "std        4 days 02:17:54.287406787   3 days 12:11:01.977069676   \n",
       "min                  0 days 09:39:01             5 days 03:22:27   \n",
       "25%           8 days 07:01:19.500000     10 days 22:49:58.750000   \n",
       "50%                 10 days 19:01:37            13 days 00:45:41   \n",
       "75%          13 days 10:33:17.500000     15 days 13:47:23.750000   \n",
       "max                 30 days 21:58:53            29 days 03:13:43   \n",
       "\n",
       "finished                 unfinished  \n",
       "count                          7759  \n",
       "mean      9 days 18:54:58.255445289  \n",
       "std       4 days 08:16:01.522157579  \n",
       "min                 0 days 00:00:00  \n",
       "25%          6 days 15:00:22.500000  \n",
       "50%                 9 days 14:34:59  \n",
       "75%         12 days 11:14:57.500000  \n",
       "max                29 days 02:01:24  "
      ]
     },
     "execution_count": 35,
     "metadata": {},
     "output_type": "execute_result"
    }
   ],
   "source": [
    "fin_time.groupby('finished')['timedelta'].describe(include='all').round(2).T"
   ]
  },
  {
   "cell_type": "markdown",
   "id": "3fdac356",
   "metadata": {},
   "source": [
    "1. Видим, что пользователю требуются 1-2 недели на прохождение первого уровня. \n",
    "2. Путь через битву - быстрее, в среднем - 10 дней. Путь через проект - 13. Те, кто не заканчивают игру, в среднем, проводят в игре 9 дней. Возможно, они не успевают пройти первый уровень и теряют интерес. \n",
    "3. Пользователи, которые проходят игру через проект, проходят её дольше всего. Видим, что завершить уровень через battle можно в первый же день, для project минимальное кол-во дней - 5."
   ]
  },
  {
   "cell_type": "markdown",
   "id": "8321db0b",
   "metadata": {},
   "source": [
    "Посчитаем среднее и медиану событий по каждому типу пользователя."
   ]
  },
  {
   "cell_type": "code",
   "execution_count": 36,
   "id": "6fbbc1f1",
   "metadata": {
    "scrolled": true
   },
   "outputs": [
    {
     "data": {
      "text/html": [
       "<div>\n",
       "<style scoped>\n",
       "    .dataframe tbody tr th:only-of-type {\n",
       "        vertical-align: middle;\n",
       "    }\n",
       "\n",
       "    .dataframe tbody tr th {\n",
       "        vertical-align: top;\n",
       "    }\n",
       "\n",
       "    .dataframe thead tr th {\n",
       "        text-align: left;\n",
       "    }\n",
       "\n",
       "    .dataframe thead tr:last-of-type th {\n",
       "        text-align: right;\n",
       "    }\n",
       "</style>\n",
       "<table border=\"1\" class=\"dataframe\">\n",
       "  <thead>\n",
       "    <tr>\n",
       "      <th></th>\n",
       "      <th colspan=\"2\" halign=\"left\">event</th>\n",
       "    </tr>\n",
       "    <tr>\n",
       "      <th></th>\n",
       "      <th>mean</th>\n",
       "      <th>median</th>\n",
       "    </tr>\n",
       "    <tr>\n",
       "      <th>finished</th>\n",
       "      <th></th>\n",
       "      <th></th>\n",
       "    </tr>\n",
       "  </thead>\n",
       "  <tbody>\n",
       "    <tr>\n",
       "      <th>battle</th>\n",
       "      <td>10.411541</td>\n",
       "      <td>11</td>\n",
       "    </tr>\n",
       "    <tr>\n",
       "      <th>project</th>\n",
       "      <td>14.647910</td>\n",
       "      <td>14</td>\n",
       "    </tr>\n",
       "    <tr>\n",
       "      <th>unfinished</th>\n",
       "      <td>8.657043</td>\n",
       "      <td>8</td>\n",
       "    </tr>\n",
       "  </tbody>\n",
       "</table>\n",
       "</div>"
      ],
      "text/plain": [
       "                event       \n",
       "                 mean median\n",
       "finished                    \n",
       "battle      10.411541     11\n",
       "project     14.647910     14\n",
       "unfinished   8.657043      8"
      ]
     },
     "execution_count": 36,
     "metadata": {},
     "output_type": "execute_result"
    }
   ],
   "source": [
    "(\n",
    "    game_actions.\n",
    "    groupby(['user_id', 'finished'])\n",
    "    .agg({'event': 'count'})\n",
    "    .reset_index().groupby('finished')\n",
    "    .agg({'event': ['mean', 'median']})\n",
    ")"
   ]
  },
  {
   "cell_type": "markdown",
   "id": "664f37cc",
   "metadata": {},
   "source": [
    "Медиана и среднее практически совпадают, что свидетельствует о малом разбросе и приближенному к нормальному распределениию."
   ]
  },
  {
   "cell_type": "code",
   "execution_count": 37,
   "id": "a966703b",
   "metadata": {},
   "outputs": [
    {
     "data": {
      "text/html": [
       "<div>\n",
       "<style scoped>\n",
       "    .dataframe tbody tr th:only-of-type {\n",
       "        vertical-align: middle;\n",
       "    }\n",
       "\n",
       "    .dataframe tbody tr th {\n",
       "        vertical-align: top;\n",
       "    }\n",
       "\n",
       "    .dataframe thead tr th {\n",
       "        text-align: left;\n",
       "    }\n",
       "\n",
       "    .dataframe thead tr:last-of-type th {\n",
       "        text-align: right;\n",
       "    }\n",
       "</style>\n",
       "<table border=\"1\" class=\"dataframe\">\n",
       "  <thead>\n",
       "    <tr>\n",
       "      <th></th>\n",
       "      <th></th>\n",
       "      <th colspan=\"2\" halign=\"left\">event</th>\n",
       "    </tr>\n",
       "    <tr>\n",
       "      <th></th>\n",
       "      <th></th>\n",
       "      <th>mean</th>\n",
       "      <th>median</th>\n",
       "    </tr>\n",
       "    <tr>\n",
       "      <th>finished</th>\n",
       "      <th>building_type</th>\n",
       "      <th></th>\n",
       "      <th></th>\n",
       "    </tr>\n",
       "  </thead>\n",
       "  <tbody>\n",
       "    <tr>\n",
       "      <th rowspan=\"3\" valign=\"top\">battle</th>\n",
       "      <th>assembly_shop</th>\n",
       "      <td>4.125032</td>\n",
       "      <td>4</td>\n",
       "    </tr>\n",
       "    <tr>\n",
       "      <th>research_center</th>\n",
       "      <td>1.603330</td>\n",
       "      <td>1</td>\n",
       "    </tr>\n",
       "    <tr>\n",
       "      <th>spaceport</th>\n",
       "      <td>4.399589</td>\n",
       "      <td>4</td>\n",
       "    </tr>\n",
       "    <tr>\n",
       "      <th rowspan=\"3\" valign=\"top\">project</th>\n",
       "      <th>assembly_shop</th>\n",
       "      <td>4.885316</td>\n",
       "      <td>5</td>\n",
       "    </tr>\n",
       "    <tr>\n",
       "      <th>research_center</th>\n",
       "      <td>1.981243</td>\n",
       "      <td>2</td>\n",
       "    </tr>\n",
       "    <tr>\n",
       "      <th>spaceport</th>\n",
       "      <td>5.781350</td>\n",
       "      <td>6</td>\n",
       "    </tr>\n",
       "    <tr>\n",
       "      <th rowspan=\"3\" valign=\"top\">unfinished</th>\n",
       "      <th>assembly_shop</th>\n",
       "      <td>3.747906</td>\n",
       "      <td>4</td>\n",
       "    </tr>\n",
       "    <tr>\n",
       "      <th>research_center</th>\n",
       "      <td>1.930407</td>\n",
       "      <td>2</td>\n",
       "    </tr>\n",
       "    <tr>\n",
       "      <th>spaceport</th>\n",
       "      <td>4.203587</td>\n",
       "      <td>4</td>\n",
       "    </tr>\n",
       "  </tbody>\n",
       "</table>\n",
       "</div>"
      ],
      "text/plain": [
       "                               event       \n",
       "                                mean median\n",
       "finished   building_type                   \n",
       "battle     assembly_shop    4.125032      4\n",
       "           research_center  1.603330      1\n",
       "           spaceport        4.399589      4\n",
       "project    assembly_shop    4.885316      5\n",
       "           research_center  1.981243      2\n",
       "           spaceport        5.781350      6\n",
       "unfinished assembly_shop    3.747906      4\n",
       "           research_center  1.930407      2\n",
       "           spaceport        4.203587      4"
      ]
     },
     "execution_count": 37,
     "metadata": {},
     "output_type": "execute_result"
    }
   ],
   "source": [
    "(\n",
    "    game_actions\n",
    "    .groupby(['user_id', 'finished', 'building_type'])\n",
    "    .agg({'event': 'count'})\n",
    "    .reset_index()\n",
    "    .groupby(['finished', 'building_type'])\n",
    "    .agg({'event': ['mean', 'median']})\n",
    ")"
   ]
  },
  {
   "cell_type": "markdown",
   "id": "cd74f3af",
   "metadata": {},
   "source": [
    "В целом, всё то же самое: не закончившие уровень игроки строят меньше, чем необходимо, для завершения уровня. При этом, если посмотрим на разбивку по типам зданий, то видим, что они строят чуть больше, чем те, кто завешил уровень, через battle, но меньше, чем те, кто завершил через проект. Тут можно предположить, что они выбирают своей основной стратегией \"проект\", но не могут его завершить. Хотя это предположение слабое и нуждается в более внимательном и детальном исследовании."
   ]
  },
  {
   "cell_type": "markdown",
   "id": "46d5572d",
   "metadata": {},
   "source": [
    "### Выводы:\n",
    "\n",
    "Исходя из приведённого выше анализа, мы можем сделать следующие выводы и предположения:\n",
    "\n",
    "1. События имеют неравномерное распределение.\n",
    "2. Модель поведения у пользователей, которые завершили уровень через проект/битву или не завершили его, +/- одинаковая.\n",
    "3. Самый быстрый путь перейти на новый уровень - через битву, медленный - через проект. В среднем, чтобы завершить 1-й уровень, требуются 1-2 недели.\n",
    "4. Пользователи, не завершившие уровень, строят меньше построек, чем все остальные.\n",
    "5. В среднем, строительство здания занимает около 12-24 ч. \n",
    "6. В среднем, пользователи заходят в приложение 1 р/день.\n",
    "\n",
    "В связи с этим можно дать следующие рекомендации:\n",
    "\n",
    "1. Возможно, стоит уменьшить время прохождения первого уровеня для большего вовлечения пользователей. Кажется, что 1-2 недели на 1-й уровень - это довольно много.\n",
    "2. В связи с этим, стоит уменьшить время постройки внутри приложения. Потенциально, это не только увеличит переход на следующий уровень, но и увеличит retention. "
   ]
  },
  {
   "cell_type": "markdown",
   "id": "08a0d9da",
   "metadata": {},
   "source": [
    "------------"
   ]
  },
  {
   "cell_type": "markdown",
   "id": "2b029cec",
   "metadata": {},
   "source": [
    "## Расчёт модели монетизации\n",
    "\n",
    "Сначала посмотрим, сколько вообще компания платит за привлечение пользователей."
   ]
  },
  {
   "cell_type": "code",
   "execution_count": 38,
   "id": "a90ebbd6",
   "metadata": {},
   "outputs": [
    {
     "name": "stdout",
     "output_type": "stream",
     "text": [
      "Сумма затрат: 7603.58\n"
     ]
    }
   ],
   "source": [
    "print('Сумма затрат:', ad_costs['cost'].sum().round(2))\n"
   ]
  },
  {
   "cell_type": "code",
   "execution_count": 39,
   "id": "b9d8ea0f",
   "metadata": {},
   "outputs": [
    {
     "data": {
      "text/html": [
       "<div>\n",
       "<style scoped>\n",
       "    .dataframe tbody tr th:only-of-type {\n",
       "        vertical-align: middle;\n",
       "    }\n",
       "\n",
       "    .dataframe tbody tr th {\n",
       "        vertical-align: top;\n",
       "    }\n",
       "\n",
       "    .dataframe thead th {\n",
       "        text-align: right;\n",
       "    }\n",
       "</style>\n",
       "<table border=\"1\" class=\"dataframe\">\n",
       "  <thead>\n",
       "    <tr style=\"text-align: right;\">\n",
       "      <th></th>\n",
       "      <th>source</th>\n",
       "      <th>day</th>\n",
       "      <th>cost</th>\n",
       "    </tr>\n",
       "  </thead>\n",
       "  <tbody>\n",
       "    <tr>\n",
       "      <th>0</th>\n",
       "      <td>facebook_ads</td>\n",
       "      <td>2020-05-03</td>\n",
       "      <td>935.882786</td>\n",
       "    </tr>\n",
       "    <tr>\n",
       "      <th>1</th>\n",
       "      <td>facebook_ads</td>\n",
       "      <td>2020-05-04</td>\n",
       "      <td>548.354480</td>\n",
       "    </tr>\n",
       "    <tr>\n",
       "      <th>2</th>\n",
       "      <td>facebook_ads</td>\n",
       "      <td>2020-05-05</td>\n",
       "      <td>260.185754</td>\n",
       "    </tr>\n",
       "    <tr>\n",
       "      <th>3</th>\n",
       "      <td>facebook_ads</td>\n",
       "      <td>2020-05-06</td>\n",
       "      <td>177.982200</td>\n",
       "    </tr>\n",
       "    <tr>\n",
       "      <th>4</th>\n",
       "      <td>facebook_ads</td>\n",
       "      <td>2020-05-07</td>\n",
       "      <td>111.766796</td>\n",
       "    </tr>\n",
       "  </tbody>\n",
       "</table>\n",
       "</div>"
      ],
      "text/plain": [
       "         source        day        cost\n",
       "0  facebook_ads 2020-05-03  935.882786\n",
       "1  facebook_ads 2020-05-04  548.354480\n",
       "2  facebook_ads 2020-05-05  260.185754\n",
       "3  facebook_ads 2020-05-06  177.982200\n",
       "4  facebook_ads 2020-05-07  111.766796"
      ]
     },
     "execution_count": 39,
     "metadata": {},
     "output_type": "execute_result"
    }
   ],
   "source": [
    "ad_costs.head()"
   ]
  },
  {
   "cell_type": "code",
   "execution_count": 40,
   "id": "bc7207b9",
   "metadata": {},
   "outputs": [
    {
     "name": "stdout",
     "output_type": "stream",
     "text": [
      "Сумма затрат в разбивке по каналам:\n"
     ]
    },
    {
     "data": {
      "text/plain": [
       "source\n",
       "facebook_ads               2140.90\n",
       "instagram_new_adverts      2161.44\n",
       "yandex_direct              2233.11\n",
       "youtube_channel_reklama    1068.12\n",
       "Name: cost, dtype: float64"
      ]
     },
     "execution_count": 40,
     "metadata": {},
     "output_type": "execute_result"
    }
   ],
   "source": [
    "print('Сумма затрат в разбивке по каналам:')\n",
    "\n",
    "ad_costs.groupby('source')['cost'].sum().round(2)"
   ]
  },
  {
   "cell_type": "code",
   "execution_count": 41,
   "id": "32d980c1",
   "metadata": {},
   "outputs": [
    {
     "data": {
      "image/png": "[encoded data removed]",
      "text/plain": [
       "<Figure size 720x360 with 1 Axes>"
      ]
     },
     "metadata": {
      "needs_background": "light"
     },
     "output_type": "display_data"
    }
   ],
   "source": [
    "ad_costs.pivot_table(index='day', columns='source', values='cost').plot(figsize=(10, 5))\n",
    "\n",
    "plt.title('Расходы на платный трафик, 7 дней', fontsize=15)\n",
    "plt.xlabel('Дни')\n",
    "plt.ylabel('Сумма')\n",
    "plt.show()"
   ]
  },
  {
   "cell_type": "markdown",
   "id": "3f1e67b3",
   "metadata": {},
   "source": [
    "Видим, что больше всего компания потратила на привлечение пользователей в первые дни. Посчитаем стоимость привлечения без разбивки по каналам, т.к. в данном иследовании у нас нет цели проанализировать прибыльность каналов и нужна универсальная модель."
   ]
  },
  {
   "cell_type": "code",
   "execution_count": 42,
   "id": "0a825bbc",
   "metadata": {},
   "outputs": [
    {
     "name": "stdout",
     "output_type": "stream",
     "text": [
      "Стоимость привлечения пользователя: 0.56\n",
      "Кол-во рекламных показов для окупаемости в 0: 8.0\n"
     ]
    }
   ],
   "source": [
    "#cpl = cost per lead\n",
    "#cpi = cost per impression\n",
    "\n",
    "costs = ad_costs['cost'].sum()\n",
    "cpl = costs / game_actions['user_id'].nunique()\n",
    "cpi = 0.07\n",
    "\n",
    "print('Стоимость привлечения пользователя:', cpl.round(2))\n",
    "print('Кол-во рекламных показов для окупаемости в 0:', (cpl / cpi).round(2))"
   ]
  },
  {
   "cell_type": "markdown",
   "id": "1b81379c",
   "metadata": {},
   "source": [
    "Точка безубыточности - 8 рекламных показов (или 0.56 USD). Для того, чтобы пользователь окупился, необходимо показать ему рекламу 9+ раз. Из проведённого ранее анализа, мы знаем, что пользователи строят от 8 до 14 построек, поэтому даже те пользователи, которые не завершают 1-й уровень в 1-й месяц, в итоге всё равно окупаются.\n",
    "\n",
    "Посчитаем, сколько потенциально пользователь может принести компании прибыли. Расчитывать будем по следующей формуле:\n",
    "\n",
    "**Выручка** = кол-во ивентов * стоимость рекламного показа\n",
    "\n",
    "**ROMI (Return On Marketing Investment)** = (выручка - издержки) / издержки\n",
    "\n",
    "Мы считаем по всей выборке (с выбросами и пр.), т.к. считаем, что именно в таком виде она будет являться максимально репрезентативной даже для последующих месяцев, если игровая механика не изменится."
   ]
  },
  {
   "cell_type": "code",
   "execution_count": 43,
   "id": "3bba386a",
   "metadata": {},
   "outputs": [
    {
     "name": "stdout",
     "output_type": "stream",
     "text": [
      "Потенциальная прибыль: 1353.34\n",
      "Потенциальный ROMI:  117.80%\n"
     ]
    }
   ],
   "source": [
    "revenue_ev = game_actions.query('event == \"building\"')['event'].count() * cpi\n",
    "\n",
    "print('Потенциальная прибыль:', (revenue_ev - costs).round(2))\n",
    "print('Потенциальный ROMI:',  f\"{(revenue_ev) / costs: .2%}\")"
   ]
  },
  {
   "cell_type": "markdown",
   "id": "0b583174",
   "metadata": {},
   "source": [
    "Видим, что ROMI - 117.80%, который свидетельствует о том, что на 1 вложенный доллар мы получили бы 1.17. Посчитаем также недополученную прибыль - реклама, которую можно было бы показывать после завершения проекта или уровня."
   ]
  },
  {
   "cell_type": "code",
   "execution_count": 44,
   "id": "ce7be2ed",
   "metadata": {
    "scrolled": true
   },
   "outputs": [
    {
     "name": "stdout",
     "output_type": "stream",
     "text": [
      "Потенциальная выручка project: 130.62\n",
      "Потенциальная выручка finished_stage_1: 407.19\n",
      "Максимальная потенциальная прибыль: 1891.15\n",
      "Максимальный потенциальный ROMI:  124.87%\n"
     ]
    }
   ],
   "source": [
    "revenue_pr = game_actions.query('event == \"project\"')['event'].count() * cpi\n",
    "revenue_fin = game_actions.query('event == \"finished_stage_1\"')['event'].count() * cpi\n",
    "\n",
    "print('Потенциальная выручка project:', revenue_pr.round(2))\n",
    "print('Потенциальная выручка finished_stage_1:', revenue_fin.round(2))\n",
    "print('Максимальная потенциальная прибыль:', (revenue_ev + revenue_pr + revenue_fin - costs).round(2))\n",
    "print('Максимальный потенциальный ROMI:', f\"{(revenue_ev + revenue_pr + revenue_fin) / costs: .2%}\")"
   ]
  },
  {
   "cell_type": "markdown",
   "id": "c70eb1c0",
   "metadata": {},
   "source": [
    "Видим, что мы могли бы получить ещё 540 USD, если бы показывали рекламу после завершения проекта и уровня. Таким образом, окупаемость вышла бы 25%. Посчитаем отдельно окупаемость для finished_stage_1."
   ]
  },
  {
   "cell_type": "code",
   "execution_count": 45,
   "id": "2d25baa1",
   "metadata": {},
   "outputs": [
    {
     "name": "stdout",
     "output_type": "stream",
     "text": [
      "Потенциальный ROMI + finished_stage_1:  123.15%\n"
     ]
    }
   ],
   "source": [
    "print('Потенциальный ROMI + finished_stage_1:', f\"{(revenue_ev + revenue_fin) / costs: .2%}\")"
   ]
  },
  {
   "cell_type": "markdown",
   "id": "3bafbce0",
   "metadata": {},
   "source": [
    "### Выводы:\n",
    "\n",
    "Мы проанализировали предложенную модель монетизации и сделали следующие выводы:\n",
    "\n",
    "1. Чтобы пользователь окупался, ему нужно показывать рекламу от 9 раз (точка безубыточности = 8 рекламных показов). В среднем,пользователи строят здания 8-14 раз за 1-й уровень, поэтому предложенная PM модель монетизации будет окупаться и приносить примерно 18% прибыли от вложенных средств.\n",
    "\n",
    "\n",
    "2. Тем не менее, существует способ повысить прибыль, показывая рекламу ещё и по завершении проекта/уровня. Т.к. после завершения проекта может сразу же последовать завершение уровня (если событтия не разорвутся постройкой здания), предлагаем показывать рекламу только после завершения уровня. В этот момент пользователь максимально замотивирован, чтобы продолжить игру дальше, и отток минимален. Такая модель поможет получить дополнительно +5% к окупаемости.\n",
    "\n",
    "\n",
    "3. Стоит также отметить, что предложенная модель монетизации (building + finished_stage_1) будет оптимальной только с учётом текущей игровой механики. Сейчас время между постройками зданий занимает около 12-24 часов. При такой длительной постройке, мы показываем пользователю рекламу не больше 1-2 раз в сутки, что кажется адекватным. Тем не менее, такие долгие промежутки между событиями кажутся избыточными и могут приводить к тому, что пользователь не может пройти уровень и теряет интерес. Точно сказать об этом мы не можем из-за недостатка данных. В случае, если мы ускорим время постройки зданий и (соответственно) время прохождения пользователем уровня, мы можем увеличить удержание. В то же самое время реклама может стать для пользователя навязчивой и ещё больше провоцировать отток. \n",
    "\n",
    "\n",
    "**Альтернативная модель монетизации:**\n",
    "\n",
    "Модель монетизации, исходящую из цели перевести пользователя на следующий уровень, можно сформулировать следующим образом:\n",
    "\n",
    "1. Сократить время на прохождение 1-го уровня в 2 раза, чтобы посмотреть и проанализировать поведение пользователей. Наша задача, довести пользователей до завершения 1-го уровня в 1-ую неделю игры. \n",
    "\n",
    "\n",
    "2. Мы знаем, что, в среднем, пользователи завершают уровень за 1-2 недели и строят 11-14 зданий (1-2 показа рекламного объявления/день). Если мы сокращаем время на прохождение уровня в 2 раза, то нам надо пропорционально уменьшить кол-во показываемой рекламы.\n",
    "\n",
    "\n",
    "3. В связи с этим рекомедуется плавно увеличивать кол-во показываемой рекламы. Например, на 1-м уровне, мы будем показывать рекламу на каждом 3-м построенном здании. На 2-м уровне, на каждом 2-м построенном здании, а начиная с 3-4 - на каждом.\n",
    "\n",
    "\n",
    "4. Предложенную модель можно раскатить сначала только на небольшой процент пользователей приложения - 10-20%, а потом снять статистику по метрикам удержания. Если мы заметим улучшение поведенческих характеристик - масштабировать изменения на всю игровую логику приложения, а если ухудшатся - откатить обратно. 10-20% должны дать незначительный урон по окупаемости в случае негативного сценария и, вероятнее всего, окупятся с учётом LTV пользователя.\n",
    "\n",
    "\n",
    "5. Сейчас невозможно точно сказать, насколько предложенная альтернативная модель будет окупаться, т.к. у нас нет данных об удержании и лайфтайме пользователя."
   ]
  },
  {
   "cell_type": "markdown",
   "id": "721e6d56",
   "metadata": {},
   "source": [
    "----------"
   ]
  },
  {
   "cell_type": "markdown",
   "id": "28672efb",
   "metadata": {},
   "source": [
    "## Проверка гипотез\n",
    "\n",
    "Приступим к проверке статистических гипотез.\n",
    "\n",
    "### Гипотеза 1:\n",
    "\n",
    "**H_0:** Нет статистически значимых различий в среднем времени прохождения уровня между пользователями, которые заканчивают уровень через реализацию проекта, и пользователями, которые заканчивают уровень победой над другим игроком.\n",
    "\n",
    "**H_1:** Есть статистически значимые различия в среднем времени прохождения уровня между пользователями, которые заканчивают уровень через реализацию проекта, и пользователями, которые заканчивают уровень победой над другим игроком.\n",
    "    \n",
    "В качестве $\\alpha$ возьмём стандартное значение $\\ 0.05$. \n",
    "\n",
    "Чтобы корректно посчитать среднее время прохождения, переведём таймдельту от первого до последнего посещения в секунды (т.к. это минимальное время, которое мы знаем)."
   ]
  },
  {
   "cell_type": "code",
   "execution_count": 46,
   "id": "9e4f9576",
   "metadata": {
    "scrolled": true
   },
   "outputs": [
    {
     "data": {
      "text/html": [
       "<div>\n",
       "<style scoped>\n",
       "    .dataframe tbody tr th:only-of-type {\n",
       "        vertical-align: middle;\n",
       "    }\n",
       "\n",
       "    .dataframe tbody tr th {\n",
       "        vertical-align: top;\n",
       "    }\n",
       "\n",
       "    .dataframe thead th {\n",
       "        text-align: right;\n",
       "    }\n",
       "</style>\n",
       "<table border=\"1\" class=\"dataframe\">\n",
       "  <thead>\n",
       "    <tr style=\"text-align: right;\">\n",
       "      <th></th>\n",
       "      <th>user_id</th>\n",
       "      <th>finished</th>\n",
       "      <th>timedelta</th>\n",
       "      <th>timedelta_d</th>\n",
       "      <th>timedelta_s</th>\n",
       "    </tr>\n",
       "  </thead>\n",
       "  <tbody>\n",
       "    <tr>\n",
       "      <th>0</th>\n",
       "      <td>0001f83c-c6ac-4621-b7f0-8a28b283ac30</td>\n",
       "      <td>unfinished</td>\n",
       "      <td>14 days 10:18:29</td>\n",
       "      <td>14.0</td>\n",
       "      <td>1246709.0</td>\n",
       "    </tr>\n",
       "    <tr>\n",
       "      <th>1</th>\n",
       "      <td>00151b4f-ba38-44a8-a650-d7cf130a0105</td>\n",
       "      <td>unfinished</td>\n",
       "      <td>12 days 07:37:40</td>\n",
       "      <td>12.0</td>\n",
       "      <td>1064260.0</td>\n",
       "    </tr>\n",
       "    <tr>\n",
       "      <th>2</th>\n",
       "      <td>001aaea6-3d14-43f1-8ca8-7f48820f17aa</td>\n",
       "      <td>unfinished</td>\n",
       "      <td>8 days 15:12:35</td>\n",
       "      <td>8.0</td>\n",
       "      <td>745955.0</td>\n",
       "    </tr>\n",
       "    <tr>\n",
       "      <th>3</th>\n",
       "      <td>001d39dc-366c-4021-9604-6a3b9ff01e25</td>\n",
       "      <td>battle</td>\n",
       "      <td>6 days 10:38:42</td>\n",
       "      <td>6.0</td>\n",
       "      <td>556722.0</td>\n",
       "    </tr>\n",
       "    <tr>\n",
       "      <th>4</th>\n",
       "      <td>002f508f-67b6-479f-814b-b05f00d4e995</td>\n",
       "      <td>unfinished</td>\n",
       "      <td>16 days 12:56:47</td>\n",
       "      <td>16.0</td>\n",
       "      <td>1429007.0</td>\n",
       "    </tr>\n",
       "  </tbody>\n",
       "</table>\n",
       "</div>"
      ],
      "text/plain": [
       "                                user_id    finished        timedelta  \\\n",
       "0  0001f83c-c6ac-4621-b7f0-8a28b283ac30  unfinished 14 days 10:18:29   \n",
       "1  00151b4f-ba38-44a8-a650-d7cf130a0105  unfinished 12 days 07:37:40   \n",
       "2  001aaea6-3d14-43f1-8ca8-7f48820f17aa  unfinished  8 days 15:12:35   \n",
       "3  001d39dc-366c-4021-9604-6a3b9ff01e25      battle  6 days 10:38:42   \n",
       "4  002f508f-67b6-479f-814b-b05f00d4e995  unfinished 16 days 12:56:47   \n",
       "\n",
       "   timedelta_d  timedelta_s  \n",
       "0         14.0    1246709.0  \n",
       "1         12.0    1064260.0  \n",
       "2          8.0     745955.0  \n",
       "3          6.0     556722.0  \n",
       "4         16.0    1429007.0  "
      ]
     },
     "execution_count": 46,
     "metadata": {},
     "output_type": "execute_result"
    }
   ],
   "source": [
    "fin_time['timedelta_s'] = fin_time['timedelta'].astype('timedelta64[s]')\n",
    "\n",
    "fin_time.head()"
   ]
  },
  {
   "cell_type": "markdown",
   "id": "5f29b8f8",
   "metadata": {},
   "source": [
    "Используем тест Шапиро-Уилка, чтобы понять, какой тест использовать для проверки гипотезы."
   ]
  },
  {
   "cell_type": "code",
   "execution_count": 47,
   "id": "380a5086",
   "metadata": {},
   "outputs": [
    {
     "name": "stdout",
     "output_type": "stream",
     "text": [
      "Проверка распределения для выборки project:\n",
      "p-значение:  0.00000\n",
      "Отвергаем H_0: распределение не нормально\n",
      "\n",
      "Проверка распределения для выборки battle:\n",
      "p-значение:  0.00000\n",
      "Отвергаем H_0: распределение не нормально\n",
      "\n"
     ]
    }
   ],
   "source": [
    "fin_type = ['project', 'battle']\n",
    "\n",
    "for var in fin_type:   \n",
    "        \n",
    "    print(f\"Проверка распределения для выборки {var}:\")\n",
    "\n",
    "    alpha = 0.05 \n",
    "\n",
    "    results = st.shapiro(fin_time.query('finished == @var')['timedelta_s'])\n",
    "    p_value = results[1]\n",
    "\n",
    "    print(f\"p-значение: {p_value: .5f}\")\n",
    "\n",
    "    if p_value < alpha:\n",
    "        print('Отвергаем H_0: распределение не нормально')\n",
    "    else:\n",
    "        print('Не получилось отвергнуть H_0, распределение нормальное')\n",
    "            \n",
    "    print()\n"
   ]
  },
  {
   "cell_type": "markdown",
   "id": "cf43ac98",
   "metadata": {},
   "source": [
    "Т.к. распределение ненормальное, будем использовать тест Манна-Уитни."
   ]
  },
  {
   "cell_type": "code",
   "execution_count": 48,
   "id": "1e2753f9",
   "metadata": {
    "scrolled": true
   },
   "outputs": [
    {
     "name": "stdout",
     "output_type": "stream",
     "text": [
      "p-значение:  0.00000\n",
      "Отвергаем H_0: есть статистически значимые различия в среднем времени прохождения уровня\n"
     ]
    }
   ],
   "source": [
    "alpha = .05\n",
    "\n",
    "results = st.mannwhitneyu(\n",
    "    fin_time.query('finished == \"project\"')['timedelta_s'],\n",
    "    fin_time.query('finished == \"battle\"')['timedelta_s']\n",
    ")\n",
    "\n",
    "print(f\"p-значение: {results.pvalue: .5f}\")\n",
    "\n",
    "if (results.pvalue < alpha):\n",
    "    print('Отвергаем H_0: есть статистически значимые различия в среднем времени прохождения уровня')\n",
    "else:\n",
    "    print('Не получилось отвергнуть H_0: нет статистически значимых различий в среднем времени прохождения уровня')"
   ]
  },
  {
   "cell_type": "markdown",
   "id": "45a06a88",
   "metadata": {},
   "source": [
    "### Гипотеза 2:\n",
    "\n",
    "**H_0:** Нет статистически значимых различий в среднем количестве построек разного типа между пользователями, которые заканчивают уровень через реализацию проекта, и пользователями, которые заканчивают уровень победой над другим игроком.\n",
    "    \n",
    "**H_1:**  Есть статистически значимые различия в среднем количестве построек разного типа между пользователями, которые заканчивают уровень через реализацию проекта, и пользователями, которые заканчивают уровень победой над другим игроком.\n",
    "    \n",
    "В качестве  $\\alpha = 0.05$ . Разделим выборки и посчитаем распределение на нормальность."
   ]
  },
  {
   "cell_type": "code",
   "execution_count": 49,
   "id": "20d18241",
   "metadata": {
    "scrolled": true
   },
   "outputs": [
    {
     "data": {
      "text/html": [
       "<div>\n",
       "<style scoped>\n",
       "    .dataframe tbody tr th:only-of-type {\n",
       "        vertical-align: middle;\n",
       "    }\n",
       "\n",
       "    .dataframe tbody tr th {\n",
       "        vertical-align: top;\n",
       "    }\n",
       "\n",
       "    .dataframe thead th {\n",
       "        text-align: right;\n",
       "    }\n",
       "</style>\n",
       "<table border=\"1\" class=\"dataframe\">\n",
       "  <thead>\n",
       "    <tr style=\"text-align: right;\">\n",
       "      <th></th>\n",
       "      <th>user_id</th>\n",
       "      <th>finished</th>\n",
       "      <th>building_type</th>\n",
       "      <th>event</th>\n",
       "    </tr>\n",
       "  </thead>\n",
       "  <tbody>\n",
       "    <tr>\n",
       "      <th>0</th>\n",
       "      <td>001d39dc-366c-4021-9604-6a3b9ff01e25</td>\n",
       "      <td>battle</td>\n",
       "      <td>assembly_shop</td>\n",
       "      <td>4</td>\n",
       "    </tr>\n",
       "    <tr>\n",
       "      <th>1</th>\n",
       "      <td>001d39dc-366c-4021-9604-6a3b9ff01e25</td>\n",
       "      <td>battle</td>\n",
       "      <td>spaceport</td>\n",
       "      <td>4</td>\n",
       "    </tr>\n",
       "    <tr>\n",
       "      <th>2</th>\n",
       "      <td>003ee7e8-6356-4286-a715-62f22a18d2a1</td>\n",
       "      <td>battle</td>\n",
       "      <td>assembly_shop</td>\n",
       "      <td>4</td>\n",
       "    </tr>\n",
       "    <tr>\n",
       "      <th>3</th>\n",
       "      <td>003ee7e8-6356-4286-a715-62f22a18d2a1</td>\n",
       "      <td>battle</td>\n",
       "      <td>research_center</td>\n",
       "      <td>1</td>\n",
       "    </tr>\n",
       "    <tr>\n",
       "      <th>4</th>\n",
       "      <td>003ee7e8-6356-4286-a715-62f22a18d2a1</td>\n",
       "      <td>battle</td>\n",
       "      <td>spaceport</td>\n",
       "      <td>3</td>\n",
       "    </tr>\n",
       "  </tbody>\n",
       "</table>\n",
       "</div>"
      ],
      "text/plain": [
       "                                user_id finished    building_type  event\n",
       "0  001d39dc-366c-4021-9604-6a3b9ff01e25   battle    assembly_shop      4\n",
       "1  001d39dc-366c-4021-9604-6a3b9ff01e25   battle        spaceport      4\n",
       "2  003ee7e8-6356-4286-a715-62f22a18d2a1   battle    assembly_shop      4\n",
       "3  003ee7e8-6356-4286-a715-62f22a18d2a1   battle  research_center      1\n",
       "4  003ee7e8-6356-4286-a715-62f22a18d2a1   battle        spaceport      3"
      ]
     },
     "execution_count": 49,
     "metadata": {},
     "output_type": "execute_result"
    }
   ],
   "source": [
    "fin_event = (\n",
    "    game_actions\n",
    "    .query('event == \"building\" & finished != \"unfinished\"')\n",
    "    .groupby(['user_id', 'finished', 'building_type'])['event']\n",
    "    .count()\n",
    "    .reset_index()\n",
    ")\n",
    "\n",
    "fin_event.head()"
   ]
  },
  {
   "cell_type": "code",
   "execution_count": 50,
   "id": "6aad03d6",
   "metadata": {},
   "outputs": [],
   "source": [
    "#добавим ещё 1 параметр для цикла, объявляем в начале функции, чтобы было легче читать код\n",
    "\n",
    "fin_type = ['project', 'battle']\n",
    "build_type = ['assembly_shop', 'spaceport', 'research_center']\n",
    "\n",
    "def shapiro (df):\n",
    "    \n",
    "    for var in fin_type:\n",
    "        \n",
    "        for ind in build_type:\n",
    "            \n",
    "            print(f\"Проверка распределения для выборки {var}, постройка {ind}:\")\n",
    "\n",
    "            alpha = 0.05 \n",
    "\n",
    "            results = st.shapiro(df.query('finished == @var & building_type == @ind')['event'])\n",
    "            p_value = results[1]\n",
    "\n",
    "            print(f\"p-значение: {p_value: .5f}\")\n",
    "\n",
    "            if p_value < alpha:\n",
    "                print('Отвергаем H_0: распределение не нормально')\n",
    "            else:\n",
    "                print('Не получилось отвергнуть H_0, распределение нормальное')\n",
    "                \n",
    "            print()\n",
    "        \n",
    "    return"
   ]
  },
  {
   "cell_type": "code",
   "execution_count": 51,
   "id": "7af81ab6",
   "metadata": {
    "scrolled": false
   },
   "outputs": [
    {
     "name": "stdout",
     "output_type": "stream",
     "text": [
      "Проверка распределения для выборки project, постройка assembly_shop:\n",
      "p-значение:  0.00000\n",
      "Отвергаем H_0: распределение не нормально\n",
      "\n",
      "Проверка распределения для выборки project, постройка spaceport:\n",
      "p-значение:  0.00000\n",
      "Отвергаем H_0: распределение не нормально\n",
      "\n",
      "Проверка распределения для выборки project, постройка research_center:\n",
      "p-значение:  0.00000\n",
      "Отвергаем H_0: распределение не нормально\n",
      "\n",
      "Проверка распределения для выборки battle, постройка assembly_shop:\n",
      "p-значение:  0.00000\n",
      "Отвергаем H_0: распределение не нормально\n",
      "\n",
      "Проверка распределения для выборки battle, постройка spaceport:\n",
      "p-значение:  0.00000\n",
      "Отвергаем H_0: распределение не нормально\n",
      "\n",
      "Проверка распределения для выборки battle, постройка research_center:\n",
      "p-значение:  0.00000\n",
      "Отвергаем H_0: распределение не нормально\n",
      "\n"
     ]
    }
   ],
   "source": [
    "shapiro(fin_event)"
   ]
  },
  {
   "cell_type": "markdown",
   "id": "94747868",
   "metadata": {},
   "source": [
    "Проверяем гипотезу с помощью Манна-Уитни с поправкой на множественные сравнения Бонферрони (т.к. у нас 3 события). Таким образом, $\\alpha = 0.05/3$"
   ]
  },
  {
   "cell_type": "code",
   "execution_count": 52,
   "id": "580126d4",
   "metadata": {},
   "outputs": [],
   "source": [
    "build_type = ['assembly_shop', 'spaceport', 'research_center']\n",
    "\n",
    "def mannwhitheyu (df, fin_type_1, fin_type_2, coef=1):\n",
    "    \n",
    "    for var in build_type:   \n",
    "        \n",
    "        print(f\"Выборки {fin_type_1} и {fin_type_2}. Проверка для постройки {var}:\")\n",
    "\n",
    "        alpha = 0.05 / coef\n",
    "\n",
    "        results = st.mannwhitneyu(\n",
    "            df.query('finished == @fin_type_1 & building_type == @var')['event'],\n",
    "            df.query('finished == @fin_type_2 & building_type == @var')['event']\n",
    "        )\n",
    "        \n",
    "\n",
    "        print(f\"p-значение: {results.pvalue: .5f}\")\n",
    "\n",
    "        if results.pvalue < alpha:\n",
    "            print('Отвергаем H_0: есть статистически значимые различия в среднем кол-ве построек разного типа')\n",
    "        else:\n",
    "            print('Не получилось отвергнуть H_0: нет статистически значимых различий в среднем кол-ве построек разного типа')\n",
    "            \n",
    "        print()\n",
    "        \n",
    "    return"
   ]
  },
  {
   "cell_type": "code",
   "execution_count": 53,
   "id": "c47b2644",
   "metadata": {
    "scrolled": true
   },
   "outputs": [
    {
     "name": "stdout",
     "output_type": "stream",
     "text": [
      "Выборки battle и project. Проверка для постройки assembly_shop:\n",
      "p-значение:  0.00000\n",
      "Отвергаем H_0: есть статистически значимые различия в среднем кол-ве построек разного типа\n",
      "\n",
      "Выборки battle и project. Проверка для постройки spaceport:\n",
      "p-значение:  0.00000\n",
      "Отвергаем H_0: есть статистически значимые различия в среднем кол-ве построек разного типа\n",
      "\n",
      "Выборки battle и project. Проверка для постройки research_center:\n",
      "p-значение:  0.00000\n",
      "Отвергаем H_0: есть статистически значимые различия в среднем кол-ве построек разного типа\n",
      "\n"
     ]
    }
   ],
   "source": [
    "mannwhitheyu (fin_event, 'battle', 'project', 3)"
   ]
  },
  {
   "cell_type": "markdown",
   "id": "8c3e800d",
   "metadata": {},
   "source": [
    "### Выводы:\n",
    "\n",
    "Проверка гипотез показада различие в поведении пользователей, заканчивающих уровень через битву и через проект. У этих пользователей разное время, за которое они заканчивают уровень, и разное количество построек (разных типов). Возможно, в будущем, этих пользователей стоит рассмотреть внимательнее, на предмет того, какие из них показывают большее удержание и большую прибыль (с учётом LTV) и скорректировать игровую механику/модель монетизации. В текущем исследовании эти вопросы рассмотреть невозможно, т.к. недостаточно данных."
   ]
  },
  {
   "cell_type": "markdown",
   "id": "79d7dce1",
   "metadata": {},
   "source": [
    "-----------------"
   ]
  },
  {
   "cell_type": "markdown",
   "id": "b9c5d352",
   "metadata": {},
   "source": [
    "## Выводы и рекомендации\n",
    "\n",
    "В ходе исследования мы провели базовую предобработку данных, исправили найденные ошибки, категоризировали пользователей, разбив по типу завершения уровня (project | battle | unfinished), рассчитали таймдельту между событиями  и провели EDA.\n",
    "\n",
    "**Поведенческие паттерны:**\n",
    "\n",
    "Гистограммы подсветили, что пользователи всех 3-х категорий показывают схожее поведение при прохождении первого уровня, но есть и различия. Были замечены следующие поведенческие паттерны:\n",
    "\n",
    "1. Самый быстрый путь перейти на новый уровень - через битву (можно завершить в тот же день), медленный - через проект (не менее 5 дней). В среднем, чтобы завершить 1-й уровень, требуются 1-2 недели.\n",
    "4. Пользователи, не завершившие уровень, строят меньше построек, чем все остальные. В срденем - 8 построек (против 11 - битва и 14 - проект)\n",
    "5. Строительство постройки занимает около 12-24 ч, что кажется избыточным и может негативно влиять на прохождение 1-го уровня и удержание.\n",
    "6. В среднем, пользователи заходят в приложение 1 р/день.\n",
    "\n",
    "Мы проанализировали распределение на нормальность с помощью Шапиро-Уилка (ненормальное) и проверили гипотезы непараметрическим тестом Манна-Уитни. Тесты показали, что есть статистически значимые различия в среднем времени прохождения и в среднем количестве построек разных типов для людей, которые завершают уровень через проект и через битву. \n",
    "\n",
    "**Модель монетизации:**\n",
    "\n",
    "Мы рассчитали точку безубыточности - 0.56 USD (= стоимость привлечения пользователя) и выяснили, что для того, чтобы в неё попасть, необходимо показать 1 пользователю рекламу не менее 9 раз. Чтобы привлечение окупилось - 9+ раз. Т.к. среднее количество построек на пользователя больше 8 (ровно 8 для тех, кто не закончил уровень в 1-й месяц), предложенная PM модель должна окупаться и приносить примерно 18% прибыли от вкладываемых в рекламу средств. Окупаемость рекламных каналов мы не анализировали.\n",
    "\n",
    "Помимо этого, мы предлагаем дополнительно монетизировать прохождение уровня, т.е. показывать пользователю рекламу, когда происходит finished_stage_n. Это позволит получить +5% к окупаемости. Также это довольно безопасно с точки зрения оттока, т.к. при переходе на следующий уровень пользователь максимально мотивирован, чтобы продолжить игру.\n",
    "\n",
    "Можно рассмотреть вариант, когда мы дополнительно показываем рекламу пользователю каждые 30 мин (к примеру) непрерывного игрового времени. Но этот вопрос требует дополнительной проработки, текущих логов недостаточно. \n",
    "\n",
    "**На что следует обратить внимание:**\n",
    "\n",
    "Предложенная модель монетизации будет оптимальной только с учётом текущей игровой механики. Сейчас время между постройками зданий занимает около 12-24 часов (1-2 рекламного показа в сутки, что кажется адекватным). Тем не менее, длительные промежутки между событиями кажутся избыточными и могут приводить к тому, что пользователь долго не может пройти уровень и теряет интерес. \n",
    "\n",
    "Зачастую первые уровни в играх делают достаточно лёгкими именно для того, чтобы пользователь мог сильнее втянуться игру. Возможно, стоит уменьшить время на строительство объектов и, тем самым, ускорить прохождение 1-го уровня до 7 дней. Но есть риск увеличить отток из-за навязчивой рекламы. \n",
    "\n",
    "В связи с этим рекомендуется плавно увеличивать кол-во показываемой рекламы. Например, на 1-м уровне, мы будем показывать рекламу на каждом 3-м построенном здании. На 2-м уровне, на каждом 2-м построенном здании, а начиная с 3-4 - на каждом.\n",
    "\n",
    "Чтобы этого избежать, новую игровую логику можно раскать только на 10-20% пользователей. Если после изменений stickness и retention покажут улучшения в метриках (с учётом окупаемости), раскатать логику на остальных пользователей. В негативном сценарии, если мы спровоцируем отток, 10-20% должны дать небольшую просадку по удержанию и, вероятнее всего, окупятся с учётом LTV других пользователей.\n",
    "\n",
    "Анализ более сложных моделей монетизации или поведенческих метрик было бы хорошо проводить на более полных данных. Например, учитывающих, когда пользователь входит в приложение и когда заканчивает сессию, какие ещё есть события в игре и др. \n"
   ]
  },
  {
   "cell_type": "markdown",
   "id": "1e02f214",
   "metadata": {},
   "source": [
    "---------------"
   ]
  }
 ],
 "metadata": {
  "ExecuteTimeLog": [
   {
    "duration": 1406,
    "start_time": "2022-07-06T17:18:59.745Z"
   },
   {
    "duration": 731,
    "start_time": "2022-07-06T17:19:01.154Z"
   },
   {
    "duration": 4,
    "start_time": "2022-07-06T17:19:01.887Z"
   },
   {
    "duration": 62,
    "start_time": "2022-07-06T17:19:01.893Z"
   },
   {
    "duration": 13,
    "start_time": "2022-07-06T17:19:01.956Z"
   },
   {
    "duration": 38,
    "start_time": "2022-07-06T17:19:01.970Z"
   },
   {
    "duration": 8,
    "start_time": "2022-07-06T17:19:02.010Z"
   },
   {
    "duration": 254,
    "start_time": "2022-07-06T17:19:02.019Z"
   },
   {
    "duration": 47,
    "start_time": "2022-07-06T17:19:02.275Z"
   },
   {
    "duration": 65,
    "start_time": "2022-07-06T17:19:02.325Z"
   },
   {
    "duration": 101,
    "start_time": "2022-07-06T17:19:02.392Z"
   },
   {
    "duration": 55,
    "start_time": "2022-07-06T17:19:02.495Z"
   },
   {
    "duration": 24,
    "start_time": "2022-07-06T17:19:02.552Z"
   },
   {
    "duration": 45,
    "start_time": "2022-07-06T17:19:02.578Z"
   },
   {
    "duration": 5,
    "start_time": "2022-07-06T17:19:02.625Z"
   },
   {
    "duration": 31,
    "start_time": "2022-07-06T17:19:02.632Z"
   },
   {
    "duration": 758,
    "start_time": "2022-07-06T17:19:02.665Z"
   },
   {
    "duration": 27,
    "start_time": "2022-07-06T17:19:03.425Z"
   },
   {
    "duration": 16,
    "start_time": "2022-07-06T17:19:03.454Z"
   },
   {
    "duration": 9,
    "start_time": "2022-07-06T17:19:03.472Z"
   },
   {
    "duration": 77,
    "start_time": "2022-07-06T17:19:03.482Z"
   },
   {
    "duration": 28,
    "start_time": "2022-07-06T17:19:03.561Z"
   },
   {
    "duration": 142,
    "start_time": "2022-07-06T17:19:03.591Z"
   },
   {
    "duration": 35,
    "start_time": "2022-07-06T17:19:03.735Z"
   },
   {
    "duration": 1425,
    "start_time": "2022-07-06T17:19:03.772Z"
   },
   {
    "duration": 466,
    "start_time": "2022-07-06T17:19:05.199Z"
   },
   {
    "duration": 2700,
    "start_time": "2022-07-06T17:19:05.667Z"
   },
   {
    "duration": 13,
    "start_time": "2022-07-06T17:19:08.370Z"
   },
   {
    "duration": 11,
    "start_time": "2022-07-06T17:19:08.384Z"
   },
   {
    "duration": 362975,
    "start_time": "2022-07-06T17:19:08.396Z"
   },
   {
    "duration": 16,
    "start_time": "2022-07-06T17:25:11.374Z"
   },
   {
    "duration": 125,
    "start_time": "2022-07-06T17:25:11.392Z"
   },
   {
    "duration": 0,
    "start_time": "2022-07-06T17:25:11.518Z"
   },
   {
    "duration": 0,
    "start_time": "2022-07-06T17:25:11.522Z"
   },
   {
    "duration": 0,
    "start_time": "2022-07-06T17:25:11.524Z"
   },
   {
    "duration": 0,
    "start_time": "2022-07-06T17:25:11.526Z"
   },
   {
    "duration": 0,
    "start_time": "2022-07-06T17:25:11.527Z"
   },
   {
    "duration": 0,
    "start_time": "2022-07-06T17:25:11.528Z"
   },
   {
    "duration": 0,
    "start_time": "2022-07-06T17:25:11.530Z"
   },
   {
    "duration": 0,
    "start_time": "2022-07-06T17:25:11.531Z"
   },
   {
    "duration": 0,
    "start_time": "2022-07-06T17:25:11.533Z"
   },
   {
    "duration": 0,
    "start_time": "2022-07-06T17:25:11.535Z"
   },
   {
    "duration": 0,
    "start_time": "2022-07-06T17:25:11.536Z"
   },
   {
    "duration": 0,
    "start_time": "2022-07-06T17:25:11.539Z"
   },
   {
    "duration": 0,
    "start_time": "2022-07-06T17:25:11.540Z"
   },
   {
    "duration": 0,
    "start_time": "2022-07-06T17:25:11.541Z"
   },
   {
    "duration": 0,
    "start_time": "2022-07-06T17:25:11.543Z"
   },
   {
    "duration": 0,
    "start_time": "2022-07-06T17:25:11.544Z"
   },
   {
    "duration": 0,
    "start_time": "2022-07-06T17:25:11.546Z"
   },
   {
    "duration": 0,
    "start_time": "2022-07-06T17:25:11.548Z"
   },
   {
    "duration": 0,
    "start_time": "2022-07-06T17:25:11.549Z"
   },
   {
    "duration": 0,
    "start_time": "2022-07-06T17:25:11.550Z"
   },
   {
    "duration": 0,
    "start_time": "2022-07-06T17:25:11.551Z"
   },
   {
    "duration": 18,
    "start_time": "2022-07-06T19:43:37.280Z"
   },
   {
    "duration": 2510,
    "start_time": "2022-07-06T19:46:16.228Z"
   },
   {
    "duration": 1333,
    "start_time": "2022-07-06T19:47:06.864Z"
   },
   {
    "duration": 467,
    "start_time": "2022-07-06T19:47:08.199Z"
   },
   {
    "duration": 4,
    "start_time": "2022-07-06T19:47:08.668Z"
   },
   {
    "duration": 37,
    "start_time": "2022-07-06T19:47:08.675Z"
   },
   {
    "duration": 6,
    "start_time": "2022-07-06T19:47:08.715Z"
   },
   {
    "duration": 35,
    "start_time": "2022-07-06T19:47:08.723Z"
   },
   {
    "duration": 6,
    "start_time": "2022-07-06T19:47:08.760Z"
   },
   {
    "duration": 392,
    "start_time": "2022-07-06T19:47:08.770Z"
   },
   {
    "duration": 40,
    "start_time": "2022-07-06T19:47:09.164Z"
   },
   {
    "duration": 119,
    "start_time": "2022-07-06T19:47:09.223Z"
   },
   {
    "duration": 153,
    "start_time": "2022-07-06T19:47:09.345Z"
   },
   {
    "duration": 54,
    "start_time": "2022-07-06T19:47:09.500Z"
   },
   {
    "duration": 25,
    "start_time": "2022-07-06T19:47:09.556Z"
   },
   {
    "duration": 48,
    "start_time": "2022-07-06T19:47:09.582Z"
   },
   {
    "duration": 6,
    "start_time": "2022-07-06T19:47:09.633Z"
   },
   {
    "duration": 27,
    "start_time": "2022-07-06T19:47:09.640Z"
   },
   {
    "duration": 783,
    "start_time": "2022-07-06T19:47:09.669Z"
   },
   {
    "duration": 30,
    "start_time": "2022-07-06T19:47:10.454Z"
   },
   {
    "duration": 17,
    "start_time": "2022-07-06T19:47:10.485Z"
   },
   {
    "duration": 11,
    "start_time": "2022-07-06T19:47:10.523Z"
   },
   {
    "duration": 64,
    "start_time": "2022-07-06T19:47:10.536Z"
   },
   {
    "duration": 59,
    "start_time": "2022-07-06T19:47:10.602Z"
   },
   {
    "duration": 147,
    "start_time": "2022-07-06T19:47:10.663Z"
   },
   {
    "duration": 63,
    "start_time": "2022-07-06T19:47:10.812Z"
   },
   {
    "duration": 1382,
    "start_time": "2022-07-06T19:47:10.877Z"
   },
   {
    "duration": 477,
    "start_time": "2022-07-06T19:47:12.262Z"
   },
   {
    "duration": 3123,
    "start_time": "2022-07-06T19:47:12.742Z"
   },
   {
    "duration": 14,
    "start_time": "2022-07-06T19:47:15.871Z"
   },
   {
    "duration": 4,
    "start_time": "2022-07-06T19:47:15.888Z"
   },
   {
    "duration": 401895,
    "start_time": "2022-07-06T19:47:15.895Z"
   },
   {
    "duration": 18,
    "start_time": "2022-07-06T19:53:57.792Z"
   },
   {
    "duration": 138,
    "start_time": "2022-07-06T19:53:57.811Z"
   },
   {
    "duration": 0,
    "start_time": "2022-07-06T19:53:57.951Z"
   },
   {
    "duration": 0,
    "start_time": "2022-07-06T19:53:57.952Z"
   },
   {
    "duration": 0,
    "start_time": "2022-07-06T19:53:57.953Z"
   },
   {
    "duration": 0,
    "start_time": "2022-07-06T19:53:57.954Z"
   },
   {
    "duration": 0,
    "start_time": "2022-07-06T19:53:57.955Z"
   },
   {
    "duration": 0,
    "start_time": "2022-07-06T19:53:57.956Z"
   },
   {
    "duration": 0,
    "start_time": "2022-07-06T19:53:57.957Z"
   },
   {
    "duration": 0,
    "start_time": "2022-07-06T19:53:57.959Z"
   },
   {
    "duration": 0,
    "start_time": "2022-07-06T19:53:57.960Z"
   },
   {
    "duration": 0,
    "start_time": "2022-07-06T19:53:57.963Z"
   },
   {
    "duration": 0,
    "start_time": "2022-07-06T19:53:57.964Z"
   },
   {
    "duration": 0,
    "start_time": "2022-07-06T19:53:57.969Z"
   },
   {
    "duration": 0,
    "start_time": "2022-07-06T19:53:57.970Z"
   },
   {
    "duration": 0,
    "start_time": "2022-07-06T19:53:57.971Z"
   },
   {
    "duration": 0,
    "start_time": "2022-07-06T19:53:57.973Z"
   },
   {
    "duration": 0,
    "start_time": "2022-07-06T19:53:57.974Z"
   },
   {
    "duration": 0,
    "start_time": "2022-07-06T19:53:57.976Z"
   },
   {
    "duration": 0,
    "start_time": "2022-07-06T19:53:57.977Z"
   },
   {
    "duration": 0,
    "start_time": "2022-07-06T19:53:57.979Z"
   },
   {
    "duration": 0,
    "start_time": "2022-07-06T19:53:57.981Z"
   },
   {
    "duration": 0,
    "start_time": "2022-07-06T19:53:58.023Z"
   },
   {
    "duration": 1747,
    "start_time": "2022-07-06T19:55:58.701Z"
   },
   {
    "duration": 470,
    "start_time": "2022-07-06T19:56:00.450Z"
   },
   {
    "duration": 22,
    "start_time": "2022-07-06T19:56:00.921Z"
   },
   {
    "duration": 72,
    "start_time": "2022-07-06T19:56:00.944Z"
   },
   {
    "duration": 91,
    "start_time": "2022-07-06T19:56:01.017Z"
   },
   {
    "duration": 4,
    "start_time": "2022-07-06T19:56:01.123Z"
   },
   {
    "duration": 30,
    "start_time": "2022-07-06T19:56:01.128Z"
   },
   {
    "duration": 31,
    "start_time": "2022-07-06T19:56:01.159Z"
   },
   {
    "duration": 213,
    "start_time": "2022-07-06T19:56:01.192Z"
   },
   {
    "duration": 37,
    "start_time": "2022-07-06T19:56:01.407Z"
   },
   {
    "duration": 49,
    "start_time": "2022-07-06T19:56:01.446Z"
   },
   {
    "duration": 25,
    "start_time": "2022-07-06T19:56:01.497Z"
   },
   {
    "duration": 25,
    "start_time": "2022-07-06T19:56:01.524Z"
   },
   {
    "duration": 37,
    "start_time": "2022-07-06T19:56:01.552Z"
   },
   {
    "duration": 25,
    "start_time": "2022-07-06T19:56:01.591Z"
   },
   {
    "duration": 34,
    "start_time": "2022-07-06T19:56:01.617Z"
   },
   {
    "duration": 107,
    "start_time": "2022-07-06T19:56:01.653Z"
   },
   {
    "duration": 31,
    "start_time": "2022-07-06T19:56:01.762Z"
   },
   {
    "duration": 40,
    "start_time": "2022-07-06T19:56:01.795Z"
   },
   {
    "duration": 34,
    "start_time": "2022-07-06T19:56:01.836Z"
   },
   {
    "duration": 63,
    "start_time": "2022-07-06T19:56:01.871Z"
   },
   {
    "duration": 51,
    "start_time": "2022-07-07T04:40:18.506Z"
   },
   {
    "duration": 1410,
    "start_time": "2022-07-07T04:40:29.507Z"
   },
   {
    "duration": 1172,
    "start_time": "2022-07-07T04:40:30.919Z"
   },
   {
    "duration": 4,
    "start_time": "2022-07-07T04:40:32.093Z"
   },
   {
    "duration": 41,
    "start_time": "2022-07-07T04:40:32.099Z"
   },
   {
    "duration": 6,
    "start_time": "2022-07-07T04:40:32.141Z"
   },
   {
    "duration": 33,
    "start_time": "2022-07-07T04:40:32.148Z"
   },
   {
    "duration": 5,
    "start_time": "2022-07-07T04:40:32.183Z"
   },
   {
    "duration": 214,
    "start_time": "2022-07-07T04:40:32.199Z"
   },
   {
    "duration": 38,
    "start_time": "2022-07-07T04:40:32.415Z"
   },
   {
    "duration": 84,
    "start_time": "2022-07-07T04:40:32.457Z"
   },
   {
    "duration": 101,
    "start_time": "2022-07-07T04:40:32.543Z"
   },
   {
    "duration": 57,
    "start_time": "2022-07-07T04:40:32.646Z"
   },
   {
    "duration": 25,
    "start_time": "2022-07-07T04:40:32.706Z"
   },
   {
    "duration": 27,
    "start_time": "2022-07-07T04:40:32.733Z"
   },
   {
    "duration": 36,
    "start_time": "2022-07-07T04:40:32.762Z"
   },
   {
    "duration": 24,
    "start_time": "2022-07-07T04:40:32.800Z"
   },
   {
    "duration": 841,
    "start_time": "2022-07-07T04:40:32.825Z"
   },
   {
    "duration": 30,
    "start_time": "2022-07-07T04:40:33.668Z"
   },
   {
    "duration": 16,
    "start_time": "2022-07-07T04:40:33.700Z"
   },
   {
    "duration": 10,
    "start_time": "2022-07-07T04:40:33.717Z"
   },
   {
    "duration": 70,
    "start_time": "2022-07-07T04:40:33.729Z"
   },
   {
    "duration": 32,
    "start_time": "2022-07-07T04:40:33.801Z"
   },
   {
    "duration": 152,
    "start_time": "2022-07-07T04:40:33.835Z"
   },
   {
    "duration": 45,
    "start_time": "2022-07-07T04:40:33.989Z"
   },
   {
    "duration": 1509,
    "start_time": "2022-07-07T04:40:34.036Z"
   },
   {
    "duration": 292,
    "start_time": "2022-07-07T04:40:35.547Z"
   },
   {
    "duration": 2791,
    "start_time": "2022-07-07T04:40:35.841Z"
   },
   {
    "duration": 13,
    "start_time": "2022-07-07T04:40:38.636Z"
   },
   {
    "duration": 4,
    "start_time": "2022-07-07T04:40:38.650Z"
   },
   {
    "duration": 26859,
    "start_time": "2022-07-07T04:40:38.656Z"
   },
   {
    "duration": 0,
    "start_time": "2022-07-07T04:41:05.517Z"
   },
   {
    "duration": 0,
    "start_time": "2022-07-07T04:41:05.518Z"
   },
   {
    "duration": 0,
    "start_time": "2022-07-07T04:41:05.519Z"
   },
   {
    "duration": 0,
    "start_time": "2022-07-07T04:41:05.521Z"
   },
   {
    "duration": 0,
    "start_time": "2022-07-07T04:41:05.522Z"
   },
   {
    "duration": 0,
    "start_time": "2022-07-07T04:41:05.523Z"
   },
   {
    "duration": 0,
    "start_time": "2022-07-07T04:41:05.524Z"
   },
   {
    "duration": 0,
    "start_time": "2022-07-07T04:41:05.525Z"
   },
   {
    "duration": 0,
    "start_time": "2022-07-07T04:41:05.525Z"
   },
   {
    "duration": 0,
    "start_time": "2022-07-07T04:41:05.527Z"
   },
   {
    "duration": 1,
    "start_time": "2022-07-07T04:41:05.527Z"
   },
   {
    "duration": 0,
    "start_time": "2022-07-07T04:41:05.528Z"
   },
   {
    "duration": 0,
    "start_time": "2022-07-07T04:41:05.530Z"
   },
   {
    "duration": 0,
    "start_time": "2022-07-07T04:41:05.531Z"
   },
   {
    "duration": 0,
    "start_time": "2022-07-07T04:41:05.532Z"
   },
   {
    "duration": 0,
    "start_time": "2022-07-07T04:41:05.533Z"
   },
   {
    "duration": 0,
    "start_time": "2022-07-07T04:41:05.534Z"
   },
   {
    "duration": 0,
    "start_time": "2022-07-07T04:41:05.535Z"
   },
   {
    "duration": 0,
    "start_time": "2022-07-07T04:41:05.536Z"
   },
   {
    "duration": 0,
    "start_time": "2022-07-07T04:41:05.537Z"
   },
   {
    "duration": 0,
    "start_time": "2022-07-07T04:41:05.539Z"
   },
   {
    "duration": 0,
    "start_time": "2022-07-07T04:41:05.540Z"
   },
   {
    "duration": 0,
    "start_time": "2022-07-07T04:41:05.541Z"
   },
   {
    "duration": 86,
    "start_time": "2022-07-07T04:41:09.231Z"
   },
   {
    "duration": 488,
    "start_time": "2022-07-07T04:41:21.784Z"
   },
   {
    "duration": 1173,
    "start_time": "2022-07-07T04:41:46.445Z"
   },
   {
    "duration": 2924,
    "start_time": "2022-07-07T04:42:37.956Z"
   },
   {
    "duration": 238,
    "start_time": "2022-07-07T04:42:45.816Z"
   },
   {
    "duration": 14,
    "start_time": "2022-07-07T04:44:03.879Z"
   },
   {
    "duration": 13,
    "start_time": "2022-07-07T04:44:10.259Z"
   },
   {
    "duration": 17,
    "start_time": "2022-07-07T04:44:32.444Z"
   },
   {
    "duration": 12,
    "start_time": "2022-07-07T04:44:48.214Z"
   },
   {
    "duration": 15,
    "start_time": "2022-07-07T04:45:06.313Z"
   },
   {
    "duration": 21,
    "start_time": "2022-07-07T04:45:21.334Z"
   },
   {
    "duration": 741,
    "start_time": "2022-07-07T04:45:31.147Z"
   },
   {
    "duration": 697,
    "start_time": "2022-07-07T04:45:50.368Z"
   },
   {
    "duration": 188,
    "start_time": "2022-07-07T04:46:06.406Z"
   },
   {
    "duration": 48,
    "start_time": "2022-07-07T04:48:03.507Z"
   },
   {
    "duration": 311,
    "start_time": "2022-07-07T04:48:07.909Z"
   },
   {
    "duration": 277,
    "start_time": "2022-07-07T04:48:25.770Z"
   },
   {
    "duration": 281,
    "start_time": "2022-07-07T04:49:04.186Z"
   },
   {
    "duration": 274,
    "start_time": "2022-07-07T04:49:10.150Z"
   },
   {
    "duration": 938,
    "start_time": "2022-07-07T04:53:13.144Z"
   },
   {
    "duration": 815,
    "start_time": "2022-07-07T04:53:39.033Z"
   },
   {
    "duration": 761,
    "start_time": "2022-07-07T04:54:19.567Z"
   },
   {
    "duration": 759,
    "start_time": "2022-07-07T04:54:50.622Z"
   },
   {
    "duration": 2569,
    "start_time": "2022-07-07T05:09:57.675Z"
   },
   {
    "duration": 13,
    "start_time": "2022-07-07T05:10:19.140Z"
   },
   {
    "duration": 27,
    "start_time": "2022-07-07T05:10:39.789Z"
   },
   {
    "duration": 1212,
    "start_time": "2022-07-07T05:11:04.218Z"
   },
   {
    "duration": 452,
    "start_time": "2022-07-07T05:11:05.433Z"
   },
   {
    "duration": 4,
    "start_time": "2022-07-07T05:11:05.887Z"
   },
   {
    "duration": 30,
    "start_time": "2022-07-07T05:11:05.893Z"
   },
   {
    "duration": 5,
    "start_time": "2022-07-07T05:11:05.925Z"
   },
   {
    "duration": 30,
    "start_time": "2022-07-07T05:11:05.932Z"
   },
   {
    "duration": 4,
    "start_time": "2022-07-07T05:11:05.964Z"
   },
   {
    "duration": 258,
    "start_time": "2022-07-07T05:11:05.970Z"
   },
   {
    "duration": 38,
    "start_time": "2022-07-07T05:11:06.230Z"
   },
   {
    "duration": 90,
    "start_time": "2022-07-07T05:11:06.271Z"
   },
   {
    "duration": 102,
    "start_time": "2022-07-07T05:11:06.363Z"
   },
   {
    "duration": 57,
    "start_time": "2022-07-07T05:11:06.467Z"
   },
   {
    "duration": 24,
    "start_time": "2022-07-07T05:11:06.526Z"
   },
   {
    "duration": 24,
    "start_time": "2022-07-07T05:11:06.552Z"
   },
   {
    "duration": 28,
    "start_time": "2022-07-07T05:11:06.578Z"
   },
   {
    "duration": 37,
    "start_time": "2022-07-07T05:11:06.608Z"
   },
   {
    "duration": 933,
    "start_time": "2022-07-07T05:11:06.649Z"
   },
   {
    "duration": 36,
    "start_time": "2022-07-07T05:11:07.584Z"
   },
   {
    "duration": 29,
    "start_time": "2022-07-07T05:11:07.622Z"
   },
   {
    "duration": 13,
    "start_time": "2022-07-07T05:11:07.653Z"
   },
   {
    "duration": 78,
    "start_time": "2022-07-07T05:11:07.668Z"
   },
   {
    "duration": 29,
    "start_time": "2022-07-07T05:11:07.747Z"
   },
   {
    "duration": 152,
    "start_time": "2022-07-07T05:11:07.778Z"
   },
   {
    "duration": 37,
    "start_time": "2022-07-07T05:11:07.932Z"
   },
   {
    "duration": 1671,
    "start_time": "2022-07-07T05:11:07.971Z"
   },
   {
    "duration": 504,
    "start_time": "2022-07-07T05:11:09.644Z"
   },
   {
    "duration": 62,
    "start_time": "2022-07-07T05:11:10.150Z"
   },
   {
    "duration": 955,
    "start_time": "2022-07-07T05:11:10.216Z"
   },
   {
    "duration": 13,
    "start_time": "2022-07-07T05:11:11.174Z"
   },
   {
    "duration": 8,
    "start_time": "2022-07-07T05:11:11.198Z"
   },
   {
    "duration": 2518,
    "start_time": "2022-07-07T05:11:11.214Z"
   },
   {
    "duration": 19,
    "start_time": "2022-07-07T05:11:13.734Z"
   },
   {
    "duration": 160,
    "start_time": "2022-07-07T05:11:13.755Z"
   },
   {
    "duration": 0,
    "start_time": "2022-07-07T05:11:13.917Z"
   },
   {
    "duration": 0,
    "start_time": "2022-07-07T05:11:13.918Z"
   },
   {
    "duration": 0,
    "start_time": "2022-07-07T05:11:13.919Z"
   },
   {
    "duration": 0,
    "start_time": "2022-07-07T05:11:13.920Z"
   },
   {
    "duration": 0,
    "start_time": "2022-07-07T05:11:13.921Z"
   },
   {
    "duration": 0,
    "start_time": "2022-07-07T05:11:13.923Z"
   },
   {
    "duration": 0,
    "start_time": "2022-07-07T05:11:13.924Z"
   },
   {
    "duration": 0,
    "start_time": "2022-07-07T05:11:13.925Z"
   },
   {
    "duration": 0,
    "start_time": "2022-07-07T05:11:13.927Z"
   },
   {
    "duration": 1,
    "start_time": "2022-07-07T05:11:13.927Z"
   },
   {
    "duration": 0,
    "start_time": "2022-07-07T05:11:13.929Z"
   },
   {
    "duration": 0,
    "start_time": "2022-07-07T05:11:13.930Z"
   },
   {
    "duration": 0,
    "start_time": "2022-07-07T05:11:13.931Z"
   },
   {
    "duration": 0,
    "start_time": "2022-07-07T05:11:13.933Z"
   },
   {
    "duration": 0,
    "start_time": "2022-07-07T05:11:13.935Z"
   },
   {
    "duration": 0,
    "start_time": "2022-07-07T05:11:13.936Z"
   },
   {
    "duration": 0,
    "start_time": "2022-07-07T05:11:13.937Z"
   },
   {
    "duration": 0,
    "start_time": "2022-07-07T05:11:13.939Z"
   },
   {
    "duration": 0,
    "start_time": "2022-07-07T05:11:13.939Z"
   },
   {
    "duration": 0,
    "start_time": "2022-07-07T05:11:13.941Z"
   },
   {
    "duration": 0,
    "start_time": "2022-07-07T05:11:13.942Z"
   },
   {
    "duration": 16,
    "start_time": "2022-07-07T05:13:35.760Z"
   },
   {
    "duration": 15,
    "start_time": "2022-07-07T05:13:53.508Z"
   },
   {
    "duration": 46,
    "start_time": "2022-07-07T05:14:00.680Z"
   },
   {
    "duration": 1248,
    "start_time": "2022-07-07T05:14:23.264Z"
   },
   {
    "duration": 409,
    "start_time": "2022-07-07T05:14:24.519Z"
   },
   {
    "duration": 4,
    "start_time": "2022-07-07T05:14:24.930Z"
   },
   {
    "duration": 36,
    "start_time": "2022-07-07T05:14:24.936Z"
   },
   {
    "duration": 6,
    "start_time": "2022-07-07T05:14:24.975Z"
   },
   {
    "duration": 37,
    "start_time": "2022-07-07T05:14:24.983Z"
   },
   {
    "duration": 4,
    "start_time": "2022-07-07T05:14:25.022Z"
   },
   {
    "duration": 233,
    "start_time": "2022-07-07T05:14:25.028Z"
   },
   {
    "duration": 49,
    "start_time": "2022-07-07T05:14:25.263Z"
   },
   {
    "duration": 82,
    "start_time": "2022-07-07T05:14:25.313Z"
   },
   {
    "duration": 104,
    "start_time": "2022-07-07T05:14:25.398Z"
   },
   {
    "duration": 53,
    "start_time": "2022-07-07T05:14:25.508Z"
   },
   {
    "duration": 43,
    "start_time": "2022-07-07T05:14:25.563Z"
   },
   {
    "duration": 37,
    "start_time": "2022-07-07T05:14:25.614Z"
   },
   {
    "duration": 8,
    "start_time": "2022-07-07T05:14:25.653Z"
   },
   {
    "duration": 50,
    "start_time": "2022-07-07T05:14:25.663Z"
   },
   {
    "duration": 887,
    "start_time": "2022-07-07T05:14:25.718Z"
   },
   {
    "duration": 38,
    "start_time": "2022-07-07T05:14:26.607Z"
   },
   {
    "duration": 22,
    "start_time": "2022-07-07T05:14:26.650Z"
   },
   {
    "duration": 20,
    "start_time": "2022-07-07T05:14:26.674Z"
   },
   {
    "duration": 65,
    "start_time": "2022-07-07T05:14:26.701Z"
   },
   {
    "duration": 43,
    "start_time": "2022-07-07T05:14:26.767Z"
   },
   {
    "duration": 163,
    "start_time": "2022-07-07T05:14:26.812Z"
   },
   {
    "duration": 63,
    "start_time": "2022-07-07T05:14:26.978Z"
   },
   {
    "duration": 1511,
    "start_time": "2022-07-07T05:14:27.044Z"
   },
   {
    "duration": 521,
    "start_time": "2022-07-07T05:14:28.558Z"
   },
   {
    "duration": 67,
    "start_time": "2022-07-07T05:14:29.081Z"
   },
   {
    "duration": 984,
    "start_time": "2022-07-07T05:14:29.150Z"
   },
   {
    "duration": 14,
    "start_time": "2022-07-07T05:14:30.136Z"
   },
   {
    "duration": 4,
    "start_time": "2022-07-07T05:14:30.152Z"
   },
   {
    "duration": 2674,
    "start_time": "2022-07-07T05:14:30.157Z"
   },
   {
    "duration": 20,
    "start_time": "2022-07-07T05:14:32.833Z"
   },
   {
    "duration": 69,
    "start_time": "2022-07-07T05:14:32.855Z"
   },
   {
    "duration": 2038,
    "start_time": "2022-07-07T05:14:32.926Z"
   },
   {
    "duration": 652,
    "start_time": "2022-07-07T05:14:34.966Z"
   },
   {
    "duration": 33,
    "start_time": "2022-07-07T05:14:35.626Z"
   },
   {
    "duration": 85,
    "start_time": "2022-07-07T05:14:35.662Z"
   },
   {
    "duration": 105,
    "start_time": "2022-07-07T05:14:35.749Z"
   },
   {
    "duration": 4,
    "start_time": "2022-07-07T05:14:35.857Z"
   },
   {
    "duration": 10,
    "start_time": "2022-07-07T05:14:35.863Z"
   },
   {
    "duration": 20,
    "start_time": "2022-07-07T05:14:35.898Z"
   },
   {
    "duration": 245,
    "start_time": "2022-07-07T05:14:35.920Z"
   },
   {
    "duration": 50,
    "start_time": "2022-07-07T05:14:36.167Z"
   },
   {
    "duration": 23,
    "start_time": "2022-07-07T05:14:36.219Z"
   },
   {
    "duration": 19,
    "start_time": "2022-07-07T05:14:36.244Z"
   },
   {
    "duration": 3,
    "start_time": "2022-07-07T05:14:36.265Z"
   },
   {
    "duration": 47,
    "start_time": "2022-07-07T05:14:36.270Z"
   },
   {
    "duration": 14,
    "start_time": "2022-07-07T05:14:36.319Z"
   },
   {
    "duration": 14,
    "start_time": "2022-07-07T05:14:36.334Z"
   },
   {
    "duration": 74,
    "start_time": "2022-07-07T05:14:36.350Z"
   },
   {
    "duration": 7,
    "start_time": "2022-07-07T05:14:36.427Z"
   },
   {
    "duration": 30,
    "start_time": "2022-07-07T05:14:36.435Z"
   },
   {
    "duration": 5,
    "start_time": "2022-07-07T05:14:36.467Z"
   },
   {
    "duration": 46,
    "start_time": "2022-07-07T05:14:36.499Z"
   },
   {
    "duration": 1223,
    "start_time": "2022-07-07T19:50:10.908Z"
   },
   {
    "duration": 1301,
    "start_time": "2022-07-07T19:50:12.133Z"
   },
   {
    "duration": 4,
    "start_time": "2022-07-07T19:50:13.435Z"
   },
   {
    "duration": 24,
    "start_time": "2022-07-07T19:50:13.441Z"
   },
   {
    "duration": 3,
    "start_time": "2022-07-07T19:50:13.467Z"
   },
   {
    "duration": 25,
    "start_time": "2022-07-07T19:50:13.472Z"
   },
   {
    "duration": 3,
    "start_time": "2022-07-07T19:50:13.499Z"
   },
   {
    "duration": 212,
    "start_time": "2022-07-07T19:50:13.504Z"
   },
   {
    "duration": 43,
    "start_time": "2022-07-07T19:50:13.718Z"
   },
   {
    "duration": 67,
    "start_time": "2022-07-07T19:50:13.764Z"
   },
   {
    "duration": 90,
    "start_time": "2022-07-07T19:50:13.833Z"
   },
   {
    "duration": 49,
    "start_time": "2022-07-07T19:50:13.925Z"
   },
   {
    "duration": 21,
    "start_time": "2022-07-07T19:50:13.975Z"
   },
   {
    "duration": 27,
    "start_time": "2022-07-07T19:50:13.997Z"
   },
   {
    "duration": 27,
    "start_time": "2022-07-07T19:50:14.026Z"
   },
   {
    "duration": 26,
    "start_time": "2022-07-07T19:50:14.055Z"
   },
   {
    "duration": 719,
    "start_time": "2022-07-07T19:50:14.082Z"
   },
   {
    "duration": 19,
    "start_time": "2022-07-07T19:50:14.803Z"
   },
   {
    "duration": 13,
    "start_time": "2022-07-07T19:50:14.824Z"
   },
   {
    "duration": 18,
    "start_time": "2022-07-07T19:50:14.838Z"
   },
   {
    "duration": 48,
    "start_time": "2022-07-07T19:50:14.858Z"
   },
   {
    "duration": 46,
    "start_time": "2022-07-07T19:50:14.908Z"
   },
   {
    "duration": 122,
    "start_time": "2022-07-07T19:50:14.956Z"
   },
   {
    "duration": 39,
    "start_time": "2022-07-07T19:50:15.079Z"
   },
   {
    "duration": 1369,
    "start_time": "2022-07-07T19:50:15.120Z"
   },
   {
    "duration": 450,
    "start_time": "2022-07-07T19:50:16.492Z"
   },
   {
    "duration": 38,
    "start_time": "2022-07-07T19:50:16.944Z"
   },
   {
    "duration": 893,
    "start_time": "2022-07-07T19:50:16.986Z"
   },
   {
    "duration": 12,
    "start_time": "2022-07-07T19:50:17.880Z"
   },
   {
    "duration": 2,
    "start_time": "2022-07-07T19:50:17.894Z"
   },
   {
    "duration": 2369,
    "start_time": "2022-07-07T19:50:17.898Z"
   },
   {
    "duration": 25,
    "start_time": "2022-07-07T19:50:20.269Z"
   },
   {
    "duration": 56,
    "start_time": "2022-07-07T19:50:20.296Z"
   },
   {
    "duration": 1673,
    "start_time": "2022-07-07T19:50:20.354Z"
   },
   {
    "duration": 535,
    "start_time": "2022-07-07T19:50:22.028Z"
   },
   {
    "duration": 22,
    "start_time": "2022-07-07T19:50:22.566Z"
   },
   {
    "duration": 78,
    "start_time": "2022-07-07T19:50:22.590Z"
   },
   {
    "duration": 88,
    "start_time": "2022-07-07T19:50:22.670Z"
   },
   {
    "duration": 3,
    "start_time": "2022-07-07T19:50:22.759Z"
   },
   {
    "duration": 9,
    "start_time": "2022-07-07T19:50:22.764Z"
   },
   {
    "duration": 14,
    "start_time": "2022-07-07T19:50:22.775Z"
   },
   {
    "duration": 218,
    "start_time": "2022-07-07T19:50:22.790Z"
   },
   {
    "duration": 25,
    "start_time": "2022-07-07T19:50:23.009Z"
   },
   {
    "duration": 33,
    "start_time": "2022-07-07T19:50:23.036Z"
   },
   {
    "duration": 16,
    "start_time": "2022-07-07T19:50:23.070Z"
   },
   {
    "duration": 9,
    "start_time": "2022-07-07T19:50:23.088Z"
   },
   {
    "duration": 27,
    "start_time": "2022-07-07T19:50:23.098Z"
   },
   {
    "duration": 31,
    "start_time": "2022-07-07T19:50:23.127Z"
   },
   {
    "duration": 21,
    "start_time": "2022-07-07T19:50:23.160Z"
   },
   {
    "duration": 58,
    "start_time": "2022-07-07T19:50:23.182Z"
   },
   {
    "duration": 4,
    "start_time": "2022-07-07T19:50:23.242Z"
   },
   {
    "duration": 42,
    "start_time": "2022-07-07T19:50:23.247Z"
   },
   {
    "duration": 4,
    "start_time": "2022-07-07T19:50:23.290Z"
   },
   {
    "duration": 51,
    "start_time": "2022-07-07T19:50:23.295Z"
   },
   {
    "duration": 4,
    "start_time": "2022-07-07T19:59:27.482Z"
   },
   {
    "duration": 98,
    "start_time": "2022-07-07T19:59:30.319Z"
   },
   {
    "duration": 5,
    "start_time": "2022-07-07T19:59:39.406Z"
   },
   {
    "duration": 28,
    "start_time": "2022-07-07T19:59:42.051Z"
   },
   {
    "duration": 28,
    "start_time": "2022-07-07T19:59:50.675Z"
   },
   {
    "duration": 5,
    "start_time": "2022-07-07T19:59:55.012Z"
   },
   {
    "duration": 38,
    "start_time": "2022-07-07T19:59:56.854Z"
   },
   {
    "duration": 5,
    "start_time": "2022-07-07T20:00:05.707Z"
   },
   {
    "duration": 32,
    "start_time": "2022-07-07T20:00:07.679Z"
   },
   {
    "duration": 29,
    "start_time": "2022-07-07T20:00:19.116Z"
   },
   {
    "duration": 29,
    "start_time": "2022-07-07T20:00:32.866Z"
   },
   {
    "duration": 29,
    "start_time": "2022-07-07T20:00:41.223Z"
   },
   {
    "duration": 5,
    "start_time": "2022-07-07T20:00:50.920Z"
   },
   {
    "duration": 45,
    "start_time": "2022-07-07T20:00:56.481Z"
   },
   {
    "duration": 30,
    "start_time": "2022-07-07T20:01:01.201Z"
   },
   {
    "duration": 33,
    "start_time": "2022-07-07T20:01:05.553Z"
   },
   {
    "duration": 36,
    "start_time": "2022-07-07T20:01:08.252Z"
   },
   {
    "duration": 4,
    "start_time": "2022-07-07T20:01:16.612Z"
   },
   {
    "duration": 30,
    "start_time": "2022-07-07T20:01:19.569Z"
   },
   {
    "duration": 29,
    "start_time": "2022-07-07T20:01:22.452Z"
   },
   {
    "duration": 36,
    "start_time": "2022-07-07T20:01:27.212Z"
   },
   {
    "duration": 4,
    "start_time": "2022-07-07T20:01:31.470Z"
   },
   {
    "duration": 29,
    "start_time": "2022-07-07T20:01:33.166Z"
   },
   {
    "duration": 5,
    "start_time": "2022-07-07T20:01:37.265Z"
   },
   {
    "duration": 4,
    "start_time": "2022-07-07T20:01:40.820Z"
   },
   {
    "duration": 37,
    "start_time": "2022-07-07T20:01:43.295Z"
   },
   {
    "duration": 1048,
    "start_time": "2022-07-07T20:46:41.051Z"
   },
   {
    "duration": 359,
    "start_time": "2022-07-07T20:46:42.102Z"
   },
   {
    "duration": 3,
    "start_time": "2022-07-07T20:46:42.462Z"
   },
   {
    "duration": 25,
    "start_time": "2022-07-07T20:46:42.467Z"
   },
   {
    "duration": 3,
    "start_time": "2022-07-07T20:46:42.494Z"
   },
   {
    "duration": 28,
    "start_time": "2022-07-07T20:46:42.498Z"
   },
   {
    "duration": 4,
    "start_time": "2022-07-07T20:46:42.527Z"
   },
   {
    "duration": 198,
    "start_time": "2022-07-07T20:46:42.533Z"
   },
   {
    "duration": 40,
    "start_time": "2022-07-07T20:46:42.733Z"
   },
   {
    "duration": 64,
    "start_time": "2022-07-07T20:46:42.775Z"
   },
   {
    "duration": 85,
    "start_time": "2022-07-07T20:46:42.840Z"
   },
   {
    "duration": 53,
    "start_time": "2022-07-07T20:46:42.927Z"
   },
   {
    "duration": 19,
    "start_time": "2022-07-07T20:46:42.982Z"
   },
   {
    "duration": 21,
    "start_time": "2022-07-07T20:46:43.002Z"
   },
   {
    "duration": 5,
    "start_time": "2022-07-07T20:46:43.024Z"
   },
   {
    "duration": 17,
    "start_time": "2022-07-07T20:46:43.052Z"
   },
   {
    "duration": 687,
    "start_time": "2022-07-07T20:46:43.070Z"
   },
   {
    "duration": 21,
    "start_time": "2022-07-07T20:46:43.758Z"
   },
   {
    "duration": 15,
    "start_time": "2022-07-07T20:46:43.780Z"
   },
   {
    "duration": 8,
    "start_time": "2022-07-07T20:46:43.797Z"
   },
   {
    "duration": 70,
    "start_time": "2022-07-07T20:46:43.807Z"
   },
   {
    "duration": 26,
    "start_time": "2022-07-07T20:46:43.878Z"
   },
   {
    "duration": 128,
    "start_time": "2022-07-07T20:46:43.905Z"
   },
   {
    "duration": 38,
    "start_time": "2022-07-07T20:46:44.034Z"
   },
   {
    "duration": 1241,
    "start_time": "2022-07-07T20:46:44.073Z"
   },
   {
    "duration": 381,
    "start_time": "2022-07-07T20:46:45.316Z"
   },
   {
    "duration": 37,
    "start_time": "2022-07-07T20:46:45.698Z"
   },
   {
    "duration": 816,
    "start_time": "2022-07-07T20:46:45.738Z"
   },
   {
    "duration": 11,
    "start_time": "2022-07-07T20:46:46.555Z"
   },
   {
    "duration": 2,
    "start_time": "2022-07-07T20:46:46.567Z"
   },
   {
    "duration": 2082,
    "start_time": "2022-07-07T20:46:46.571Z"
   },
   {
    "duration": 18,
    "start_time": "2022-07-07T20:46:48.654Z"
   },
   {
    "duration": 33,
    "start_time": "2022-07-07T20:46:48.673Z"
   },
   {
    "duration": 1642,
    "start_time": "2022-07-07T20:46:48.708Z"
   },
   {
    "duration": 509,
    "start_time": "2022-07-07T20:46:50.352Z"
   },
   {
    "duration": 20,
    "start_time": "2022-07-07T20:46:50.863Z"
   },
   {
    "duration": 68,
    "start_time": "2022-07-07T20:46:50.885Z"
   },
   {
    "duration": 76,
    "start_time": "2022-07-07T20:46:50.954Z"
   },
   {
    "duration": 3,
    "start_time": "2022-07-07T20:46:51.032Z"
   },
   {
    "duration": 17,
    "start_time": "2022-07-07T20:46:51.036Z"
   },
   {
    "duration": 8,
    "start_time": "2022-07-07T20:46:51.054Z"
   },
   {
    "duration": 201,
    "start_time": "2022-07-07T20:46:51.063Z"
   },
   {
    "duration": 27,
    "start_time": "2022-07-07T20:46:51.265Z"
   },
   {
    "duration": 21,
    "start_time": "2022-07-07T20:46:51.294Z"
   },
   {
    "duration": 39,
    "start_time": "2022-07-07T20:46:51.316Z"
   },
   {
    "duration": 8,
    "start_time": "2022-07-07T20:46:51.357Z"
   },
   {
    "duration": 18,
    "start_time": "2022-07-07T20:46:51.367Z"
   },
   {
    "duration": 10,
    "start_time": "2022-07-07T20:46:51.387Z"
   },
   {
    "duration": 13,
    "start_time": "2022-07-07T20:46:51.398Z"
   },
   {
    "duration": 67,
    "start_time": "2022-07-07T20:46:51.412Z"
   },
   {
    "duration": 4,
    "start_time": "2022-07-07T20:46:51.481Z"
   },
   {
    "duration": 28,
    "start_time": "2022-07-07T20:46:51.487Z"
   },
   {
    "duration": 6,
    "start_time": "2022-07-07T20:46:51.517Z"
   },
   {
    "duration": 51,
    "start_time": "2022-07-07T20:46:51.525Z"
   },
   {
    "duration": 1193,
    "start_time": "2022-07-08T07:00:16.155Z"
   },
   {
    "duration": 734,
    "start_time": "2022-07-08T07:00:17.350Z"
   },
   {
    "duration": 3,
    "start_time": "2022-07-08T07:00:18.086Z"
   },
   {
    "duration": 70,
    "start_time": "2022-07-08T07:00:18.091Z"
   },
   {
    "duration": 21,
    "start_time": "2022-07-08T07:00:18.163Z"
   },
   {
    "duration": 37,
    "start_time": "2022-07-08T07:00:18.186Z"
   },
   {
    "duration": 16,
    "start_time": "2022-07-08T07:00:18.225Z"
   },
   {
    "duration": 226,
    "start_time": "2022-07-08T07:00:18.242Z"
   },
   {
    "duration": 38,
    "start_time": "2022-07-08T07:00:18.470Z"
   },
   {
    "duration": 87,
    "start_time": "2022-07-08T07:00:18.510Z"
   },
   {
    "duration": 104,
    "start_time": "2022-07-08T07:00:18.598Z"
   },
   {
    "duration": 56,
    "start_time": "2022-07-08T07:00:18.704Z"
   },
   {
    "duration": 22,
    "start_time": "2022-07-08T07:00:18.761Z"
   },
   {
    "duration": 53,
    "start_time": "2022-07-08T07:00:18.785Z"
   },
   {
    "duration": 10,
    "start_time": "2022-07-08T07:00:18.840Z"
   },
   {
    "duration": 45,
    "start_time": "2022-07-08T07:00:18.852Z"
   },
   {
    "duration": 794,
    "start_time": "2022-07-08T07:00:18.899Z"
   },
   {
    "duration": 35,
    "start_time": "2022-07-08T07:00:19.694Z"
   },
   {
    "duration": 24,
    "start_time": "2022-07-08T07:00:19.731Z"
   },
   {
    "duration": 10,
    "start_time": "2022-07-08T07:00:19.756Z"
   },
   {
    "duration": 97,
    "start_time": "2022-07-08T07:00:19.767Z"
   },
   {
    "duration": 28,
    "start_time": "2022-07-08T07:00:19.866Z"
   },
   {
    "duration": 160,
    "start_time": "2022-07-08T07:00:19.896Z"
   },
   {
    "duration": 36,
    "start_time": "2022-07-08T07:00:20.058Z"
   },
   {
    "duration": 1452,
    "start_time": "2022-07-08T07:00:20.096Z"
   },
   {
    "duration": 452,
    "start_time": "2022-07-08T07:00:21.550Z"
   },
   {
    "duration": 54,
    "start_time": "2022-07-08T07:00:22.004Z"
   },
   {
    "duration": 968,
    "start_time": "2022-07-08T07:00:22.062Z"
   },
   {
    "duration": 20,
    "start_time": "2022-07-08T07:00:23.032Z"
   },
   {
    "duration": 2455,
    "start_time": "2022-07-08T07:00:23.053Z"
   },
   {
    "duration": 30,
    "start_time": "2022-07-08T07:00:25.510Z"
   },
   {
    "duration": 51,
    "start_time": "2022-07-08T07:00:25.542Z"
   },
   {
    "duration": 1887,
    "start_time": "2022-07-08T07:00:25.594Z"
   },
   {
    "duration": 581,
    "start_time": "2022-07-08T07:00:27.483Z"
   },
   {
    "duration": 25,
    "start_time": "2022-07-08T07:00:28.066Z"
   },
   {
    "duration": 87,
    "start_time": "2022-07-08T07:00:28.092Z"
   },
   {
    "duration": 111,
    "start_time": "2022-07-08T07:00:28.181Z"
   },
   {
    "duration": 5,
    "start_time": "2022-07-08T07:00:28.293Z"
   },
   {
    "duration": 15,
    "start_time": "2022-07-08T07:00:28.299Z"
   },
   {
    "duration": 32,
    "start_time": "2022-07-08T07:00:28.323Z"
   },
   {
    "duration": 214,
    "start_time": "2022-07-08T07:00:28.357Z"
   },
   {
    "duration": 26,
    "start_time": "2022-07-08T07:00:28.573Z"
   },
   {
    "duration": 44,
    "start_time": "2022-07-08T07:00:28.601Z"
   },
   {
    "duration": 15,
    "start_time": "2022-07-08T07:00:28.647Z"
   },
   {
    "duration": 3,
    "start_time": "2022-07-08T07:00:28.664Z"
   },
   {
    "duration": 18,
    "start_time": "2022-07-08T07:00:28.669Z"
   },
   {
    "duration": 36,
    "start_time": "2022-07-08T07:00:28.688Z"
   },
   {
    "duration": 17,
    "start_time": "2022-07-08T07:00:28.726Z"
   },
   {
    "duration": 50,
    "start_time": "2022-07-08T07:00:28.745Z"
   },
   {
    "duration": 4,
    "start_time": "2022-07-08T07:00:28.797Z"
   },
   {
    "duration": 36,
    "start_time": "2022-07-08T07:00:28.823Z"
   },
   {
    "duration": 4,
    "start_time": "2022-07-08T07:00:28.860Z"
   },
   {
    "duration": 36,
    "start_time": "2022-07-08T07:00:28.866Z"
   }
  ],
  "kernelspec": {
   "display_name": "Python 3 (ipykernel)",
   "language": "python",
   "name": "python3"
  },
  "language_info": {
   "codemirror_mode": {
    "name": "ipython",
    "version": 3
   },
   "file_extension": ".py",
   "mimetype": "text/x-python",
   "name": "python",
   "nbconvert_exporter": "python",
   "pygments_lexer": "ipython3",
   "version": "3.9.7"
  },
  "toc": {
   "base_numbering": 1,
   "nav_menu": {},
   "number_sections": true,
   "sideBar": true,
   "skip_h1_title": true,
   "title_cell": "Table of Contents",
   "title_sidebar": "Contents",
   "toc_cell": false,
   "toc_position": {},
   "toc_section_display": true,
   "toc_window_display": false
  }
 },
 "nbformat": 4,
 "nbformat_minor": 5
}
